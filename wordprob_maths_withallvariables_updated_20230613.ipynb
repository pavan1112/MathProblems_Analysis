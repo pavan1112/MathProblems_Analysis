{
 "cells": [
  {
   "cell_type": "markdown",
   "metadata": {
    "id": "vrn3Kw4UPb6A"
   },
   "source": [
    "**Math Word Problem Readability Score**\n"
   ]
  },
  {
   "cell_type": "markdown",
   "metadata": {
    "id": "QeulMH9iSLoZ"
   },
   "source": [
    "Experimented with all variables Raw attributes\n",
    " - (MathSymbolsPerSentence), (MathSymbolsPerSentence), etc...\n",
    "\n",
    "Raw attributes - GF*, FK*, SMOG*, ARI*, CL*"
   ]
  },
  {
   "cell_type": "code",
   "execution_count": 1,
   "metadata": {
    "id": "5Hq37qAd11NU"
   },
   "outputs": [],
   "source": [
    "import warnings \n",
    "warnings.filterwarnings(\"ignore\") "
   ]
  },
  {
   "cell_type": "markdown",
   "metadata": {
    "id": "zxyMINAGqv_T"
   },
   "source": [
    "**IMPORT THE LIBRARIES**"
   ]
  },
  {
   "cell_type": "code",
   "execution_count": 2,
   "metadata": {},
   "outputs": [],
   "source": [
    "import pandas as pd\n",
    "import numpy as np\n",
    "import tensorflow as tf\n",
    "import scipy as scp\n",
    "from sklearn.model_selection import train_test_split,GridSearchCV\n",
    "import gensim\n",
    "import nltk\n",
    "import re\n",
    "\n",
    "\n",
    "\n",
    "from sklearn.linear_model import LogisticRegression\n",
    "from sklearn.tree import DecisionTreeClassifier\n",
    "from sklearn.ensemble import RandomForestClassifier, GradientBoostingClassifier, AdaBoostClassifier\n",
    "from sklearn.svm import SVC\n",
    "\n",
    "import tensorflow as tf\n",
    "from tensorflow.keras.models import Sequential\n",
    "from tensorflow.keras.layers import Dense\n",
    "from keras.utils import to_categorical\n",
    "\n",
    "\n",
    "\n",
    "from sklearn.metrics import confusion_matrix, classification_report"
   ]
  },
  {
   "cell_type": "markdown",
   "metadata": {
    "id": "62pYi-RIq0KZ"
   },
   "source": [
    "**READ THE DATA**"
   ]
  },
  {
   "cell_type": "code",
   "execution_count": 3,
   "metadata": {
    "id": "dt8i-oQSHD7L"
   },
   "outputs": [],
   "source": [
    "org_data = pd.read_csv(\"data.csv\")"
   ]
  },
  {
   "cell_type": "markdown",
   "metadata": {
    "id": "FngGh7cNq3pe"
   },
   "source": [
    "**CHECK THE FIRST FEW ROWS OF THE DATA**"
   ]
  },
  {
   "cell_type": "code",
   "execution_count": 4,
   "metadata": {
    "colab": {
     "base_uri": "https://localhost:8080/",
     "height": 206
    },
    "id": "7dvvC30hHNq4",
    "outputId": "190e8e0c-719d-4525-b496-88411758ccba"
   },
   "outputs": [
    {
     "data": {
      "text/html": [
       "<div>\n",
       "<style scoped>\n",
       "    .dataframe tbody tr th:only-of-type {\n",
       "        vertical-align: middle;\n",
       "    }\n",
       "\n",
       "    .dataframe tbody tr th {\n",
       "        vertical-align: top;\n",
       "    }\n",
       "\n",
       "    .dataframe thead th {\n",
       "        text-align: right;\n",
       "    }\n",
       "</style>\n",
       "<table border=\"1\" class=\"dataframe\">\n",
       "  <thead>\n",
       "    <tr style=\"text-align: right;\">\n",
       "      <th></th>\n",
       "      <th>Problem</th>\n",
       "      <th>Level</th>\n",
       "      <th>Type</th>\n",
       "      <th>Solution</th>\n",
       "      <th>Extracted words(List)</th>\n",
       "      <th>Extracted Num(List)</th>\n",
       "    </tr>\n",
       "  </thead>\n",
       "  <tbody>\n",
       "    <tr>\n",
       "      <th>0</th>\n",
       "      <td>There are constants    alpha  and    beta  suc...</td>\n",
       "      <td>Level 5</td>\n",
       "      <td>Algebra</td>\n",
       "      <td>The numerator  x^2 - 80x + 1551  factors as  (...</td>\n",
       "      <td>['There', 'are', 'constants', 'alpha', 'and', ...</td>\n",
       "      <td>['2', '80', '1551', '2', '57', '2970']</td>\n",
       "    </tr>\n",
       "    <tr>\n",
       "      <th>1</th>\n",
       "      <td>The length of the segment between the points  ...</td>\n",
       "      <td>Level 5</td>\n",
       "      <td>Algebra</td>\n",
       "      <td>By the distance formula, the distance from  (2...</td>\n",
       "      <td>['The', 'length', 'of', 'the', 'segment', 'bet...</td>\n",
       "      <td>['2', '4', '4', '1', '2', '10']</td>\n",
       "    </tr>\n",
       "    <tr>\n",
       "      <th>2</th>\n",
       "      <td>Chewbacca has 20 pieces of cherry gum and 30 p...</td>\n",
       "      <td>Level 5</td>\n",
       "      <td>Algebra</td>\n",
       "      <td>If Chewbacca loses one pack of cherry gum, the...</td>\n",
       "      <td>['Chewbacca', 'has', 'pieces', 'of', 'cherry',...</td>\n",
       "      <td>['20', '30', '5']</td>\n",
       "    </tr>\n",
       "    <tr>\n",
       "      <th>3</th>\n",
       "      <td>For some constants  a  and  b,  let   [f(x) = ...</td>\n",
       "      <td>Level 5</td>\n",
       "      <td>Algebra</td>\n",
       "      <td>Setting  x = 3,  we get  f(3) = -1.  Since  -1...</td>\n",
       "      <td>['For', 'some', 'constants', 'a', 'and', 'b', ...</td>\n",
       "      <td>['2', '8', '3', '2']</td>\n",
       "    </tr>\n",
       "    <tr>\n",
       "      <th>4</th>\n",
       "      <td>Calculate the sum  1 + 3 + 5 +   cdots + 15 + ...</td>\n",
       "      <td>Level 2</td>\n",
       "      <td>Algebra</td>\n",
       "      <td>The arithmetic sequence 1, 3, 5,    dots , 17,...</td>\n",
       "      <td>['Calculate', 'the', 'sum', 'cdots']</td>\n",
       "      <td>['1', '3', '5', '15', '17']</td>\n",
       "    </tr>\n",
       "  </tbody>\n",
       "</table>\n",
       "</div>"
      ],
      "text/plain": [
       "                                            Problem    Level      Type  \\\n",
       "0  There are constants    alpha  and    beta  suc...  Level 5  Algebra   \n",
       "1  The length of the segment between the points  ...  Level 5  Algebra   \n",
       "2  Chewbacca has 20 pieces of cherry gum and 30 p...  Level 5  Algebra   \n",
       "3  For some constants  a  and  b,  let   [f(x) = ...  Level 5  Algebra   \n",
       "4  Calculate the sum  1 + 3 + 5 +   cdots + 15 + ...  Level 2  Algebra   \n",
       "\n",
       "                                            Solution  \\\n",
       "0  The numerator  x^2 - 80x + 1551  factors as  (...   \n",
       "1  By the distance formula, the distance from  (2...   \n",
       "2  If Chewbacca loses one pack of cherry gum, the...   \n",
       "3  Setting  x = 3,  we get  f(3) = -1.  Since  -1...   \n",
       "4  The arithmetic sequence 1, 3, 5,    dots , 17,...   \n",
       "\n",
       "                               Extracted words(List)  \\\n",
       "0  ['There', 'are', 'constants', 'alpha', 'and', ...   \n",
       "1  ['The', 'length', 'of', 'the', 'segment', 'bet...   \n",
       "2  ['Chewbacca', 'has', 'pieces', 'of', 'cherry',...   \n",
       "3  ['For', 'some', 'constants', 'a', 'and', 'b', ...   \n",
       "4               ['Calculate', 'the', 'sum', 'cdots']   \n",
       "\n",
       "                      Extracted Num(List)  \n",
       "0  ['2', '80', '1551', '2', '57', '2970']  \n",
       "1         ['2', '4', '4', '1', '2', '10']  \n",
       "2                       ['20', '30', '5']  \n",
       "3                    ['2', '8', '3', '2']  \n",
       "4             ['1', '3', '5', '15', '17']  "
      ]
     },
     "execution_count": 4,
     "metadata": {},
     "output_type": "execute_result"
    }
   ],
   "source": [
    "org_data.head()"
   ]
  },
  {
   "cell_type": "markdown",
   "metadata": {
    "id": "53bt_AW0q-q-"
   },
   "source": [
    "**EXTRACT TWO COLUMNS OF THE DATA**"
   ]
  },
  {
   "cell_type": "code",
   "execution_count": 5,
   "metadata": {
    "colab": {
     "base_uri": "https://localhost:8080/",
     "height": 423
    },
    "id": "gWkd8ej8HQg3",
    "outputId": "7a589d56-8f84-440c-cfe4-51b97f042e89"
   },
   "outputs": [
    {
     "data": {
      "text/html": [
       "<div>\n",
       "<style scoped>\n",
       "    .dataframe tbody tr th:only-of-type {\n",
       "        vertical-align: middle;\n",
       "    }\n",
       "\n",
       "    .dataframe tbody tr th {\n",
       "        vertical-align: top;\n",
       "    }\n",
       "\n",
       "    .dataframe thead th {\n",
       "        text-align: right;\n",
       "    }\n",
       "</style>\n",
       "<table border=\"1\" class=\"dataframe\">\n",
       "  <thead>\n",
       "    <tr style=\"text-align: right;\">\n",
       "      <th></th>\n",
       "      <th>Problem</th>\n",
       "      <th>Level</th>\n",
       "    </tr>\n",
       "  </thead>\n",
       "  <tbody>\n",
       "    <tr>\n",
       "      <th>0</th>\n",
       "      <td>There are constants    alpha  and    beta  suc...</td>\n",
       "      <td>Level 5</td>\n",
       "    </tr>\n",
       "    <tr>\n",
       "      <th>1</th>\n",
       "      <td>The length of the segment between the points  ...</td>\n",
       "      <td>Level 5</td>\n",
       "    </tr>\n",
       "    <tr>\n",
       "      <th>2</th>\n",
       "      <td>Chewbacca has 20 pieces of cherry gum and 30 p...</td>\n",
       "      <td>Level 5</td>\n",
       "    </tr>\n",
       "    <tr>\n",
       "      <th>3</th>\n",
       "      <td>For some constants  a  and  b,  let   [f(x) = ...</td>\n",
       "      <td>Level 5</td>\n",
       "    </tr>\n",
       "    <tr>\n",
       "      <th>4</th>\n",
       "      <td>Calculate the sum  1 + 3 + 5 +   cdots + 15 + ...</td>\n",
       "      <td>Level 2</td>\n",
       "    </tr>\n",
       "    <tr>\n",
       "      <th>...</th>\n",
       "      <td>...</td>\n",
       "      <td>...</td>\n",
       "    </tr>\n",
       "    <tr>\n",
       "      <th>1739</th>\n",
       "      <td>What is the slope of the line passing through ...</td>\n",
       "      <td>Level 2</td>\n",
       "    </tr>\n",
       "    <tr>\n",
       "      <th>1740</th>\n",
       "      <td>Evaluate  i^{11} + i^{16} + i^{21} + i^{26} + ...</td>\n",
       "      <td>Level 4</td>\n",
       "    </tr>\n",
       "    <tr>\n",
       "      <th>1741</th>\n",
       "      <td>If  a  is a constant such that  4x^2 - 12x + a...</td>\n",
       "      <td>Level 3</td>\n",
       "    </tr>\n",
       "    <tr>\n",
       "      <th>1742</th>\n",
       "      <td>Given  a   star b = a^2 + 2ab + b^2 , what is ...</td>\n",
       "      <td>Level 3</td>\n",
       "    </tr>\n",
       "    <tr>\n",
       "      <th>1743</th>\n",
       "      <td>The graph of the function  f(x)  is shown belo...</td>\n",
       "      <td>Level 5</td>\n",
       "    </tr>\n",
       "  </tbody>\n",
       "</table>\n",
       "<p>1744 rows × 2 columns</p>\n",
       "</div>"
      ],
      "text/plain": [
       "                                               Problem    Level \n",
       "0     There are constants    alpha  and    beta  suc...  Level 5\n",
       "1     The length of the segment between the points  ...  Level 5\n",
       "2     Chewbacca has 20 pieces of cherry gum and 30 p...  Level 5\n",
       "3     For some constants  a  and  b,  let   [f(x) = ...  Level 5\n",
       "4     Calculate the sum  1 + 3 + 5 +   cdots + 15 + ...  Level 2\n",
       "...                                                 ...      ...\n",
       "1739  What is the slope of the line passing through ...  Level 2\n",
       "1740  Evaluate  i^{11} + i^{16} + i^{21} + i^{26} + ...  Level 4\n",
       "1741  If  a  is a constant such that  4x^2 - 12x + a...  Level 3\n",
       "1742  Given  a   star b = a^2 + 2ab + b^2 , what is ...  Level 3\n",
       "1743  The graph of the function  f(x)  is shown belo...  Level 5\n",
       "\n",
       "[1744 rows x 2 columns]"
      ]
     },
     "execution_count": 5,
     "metadata": {},
     "output_type": "execute_result"
    }
   ],
   "source": [
    "df = org_data.iloc[:,0:2]\n",
    "df"
   ]
  },
  {
   "cell_type": "markdown",
   "metadata": {
    "id": "Gjdru_ClQGeE"
   },
   "source": [
    "**CHECK FIRST FEW ROWS OF THE DATA**"
   ]
  },
  {
   "cell_type": "code",
   "execution_count": 6,
   "metadata": {
    "colab": {
     "base_uri": "https://localhost:8080/",
     "height": 206
    },
    "id": "0Yrc6Gt3HS-8",
    "outputId": "378d8ba6-a453-4f42-fbee-96b7abed41f0"
   },
   "outputs": [
    {
     "data": {
      "text/html": [
       "<div>\n",
       "<style scoped>\n",
       "    .dataframe tbody tr th:only-of-type {\n",
       "        vertical-align: middle;\n",
       "    }\n",
       "\n",
       "    .dataframe tbody tr th {\n",
       "        vertical-align: top;\n",
       "    }\n",
       "\n",
       "    .dataframe thead th {\n",
       "        text-align: right;\n",
       "    }\n",
       "</style>\n",
       "<table border=\"1\" class=\"dataframe\">\n",
       "  <thead>\n",
       "    <tr style=\"text-align: right;\">\n",
       "      <th></th>\n",
       "      <th>Problem</th>\n",
       "      <th>Level</th>\n",
       "    </tr>\n",
       "  </thead>\n",
       "  <tbody>\n",
       "    <tr>\n",
       "      <th>0</th>\n",
       "      <td>There are constants    alpha  and    beta  suc...</td>\n",
       "      <td>Level 5</td>\n",
       "    </tr>\n",
       "    <tr>\n",
       "      <th>1</th>\n",
       "      <td>The length of the segment between the points  ...</td>\n",
       "      <td>Level 5</td>\n",
       "    </tr>\n",
       "    <tr>\n",
       "      <th>2</th>\n",
       "      <td>Chewbacca has 20 pieces of cherry gum and 30 p...</td>\n",
       "      <td>Level 5</td>\n",
       "    </tr>\n",
       "    <tr>\n",
       "      <th>3</th>\n",
       "      <td>For some constants  a  and  b,  let   [f(x) = ...</td>\n",
       "      <td>Level 5</td>\n",
       "    </tr>\n",
       "    <tr>\n",
       "      <th>4</th>\n",
       "      <td>Calculate the sum  1 + 3 + 5 +   cdots + 15 + ...</td>\n",
       "      <td>Level 2</td>\n",
       "    </tr>\n",
       "  </tbody>\n",
       "</table>\n",
       "</div>"
      ],
      "text/plain": [
       "                                            Problem    Level \n",
       "0  There are constants    alpha  and    beta  suc...  Level 5\n",
       "1  The length of the segment between the points  ...  Level 5\n",
       "2  Chewbacca has 20 pieces of cherry gum and 30 p...  Level 5\n",
       "3  For some constants  a  and  b,  let   [f(x) = ...  Level 5\n",
       "4  Calculate the sum  1 + 3 + 5 +   cdots + 15 + ...  Level 2"
      ]
     },
     "execution_count": 6,
     "metadata": {},
     "output_type": "execute_result"
    }
   ],
   "source": [
    "df.head()"
   ]
  },
  {
   "cell_type": "code",
   "execution_count": 7,
   "metadata": {},
   "outputs": [],
   "source": [
    "df['Problem ']=df['Problem '].apply(lambda x: str(x).lower())"
   ]
  },
  {
   "cell_type": "markdown",
   "metadata": {
    "id": "gRfjvBsrQMq7"
   },
   "source": [
    "**CHECK FOR THE NUMBER OF UNIQUE CLASSES IN EACH COLUMN**"
   ]
  },
  {
   "cell_type": "code",
   "execution_count": 8,
   "metadata": {
    "colab": {
     "base_uri": "https://localhost:8080/"
    },
    "id": "2jslgpLLHY2x",
    "outputId": "030876d5-6656-49e5-ee9c-d0660946f803"
   },
   "outputs": [
    {
     "data": {
      "text/plain": [
       "Problem     1744\n",
       "Level          5\n",
       "dtype: int64"
      ]
     },
     "execution_count": 8,
     "metadata": {},
     "output_type": "execute_result"
    }
   ],
   "source": [
    "df.nunique()"
   ]
  },
  {
   "cell_type": "markdown",
   "metadata": {
    "id": "UVLPM5osQWKU"
   },
   "source": [
    "**REMOVAL OF THE STRING PART (Level) FROM THE COLUMN \"Level\"**"
   ]
  },
  {
   "cell_type": "code",
   "execution_count": 9,
   "metadata": {
    "id": "uctEJtFQHao6"
   },
   "outputs": [],
   "source": [
    "df.iloc[:,1].replace(['Level 1', 'Level 2', 'Level 3', 'Level 4', 'Level 5'],\n",
    "                        [1, 2, 3, 4, 5], inplace=True)"
   ]
  },
  {
   "cell_type": "markdown",
   "metadata": {
    "id": "gZaEoYNKRMF-"
   },
   "source": [
    "**READ THE DATA OF MATH VOCAB**\n",
    "\n",
    "\n"
   ]
  },
  {
   "cell_type": "code",
   "execution_count": 10,
   "metadata": {
    "id": "tRpubCIZHrcB"
   },
   "outputs": [],
   "source": [
    "mathvocab = pd.read_csv(\"MathVocab.csv\") "
   ]
  },
  {
   "cell_type": "code",
   "execution_count": 11,
   "metadata": {
    "colab": {
     "base_uri": "https://localhost:8080/",
     "height": 206
    },
    "id": "-XMlMziOHwIr",
    "outputId": "9960042b-5174-4227-bfbc-cbe0afbd3171"
   },
   "outputs": [
    {
     "data": {
      "text/html": [
       "<div>\n",
       "<style scoped>\n",
       "    .dataframe tbody tr th:only-of-type {\n",
       "        vertical-align: middle;\n",
       "    }\n",
       "\n",
       "    .dataframe tbody tr th {\n",
       "        vertical-align: top;\n",
       "    }\n",
       "\n",
       "    .dataframe thead th {\n",
       "        text-align: right;\n",
       "    }\n",
       "</style>\n",
       "<table border=\"1\" class=\"dataframe\">\n",
       "  <thead>\n",
       "    <tr style=\"text-align: right;\">\n",
       "      <th></th>\n",
       "      <th>Word</th>\n",
       "    </tr>\n",
       "  </thead>\n",
       "  <tbody>\n",
       "    <tr>\n",
       "      <th>0</th>\n",
       "      <td>fractional</td>\n",
       "    </tr>\n",
       "    <tr>\n",
       "      <th>1</th>\n",
       "      <td>product</td>\n",
       "    </tr>\n",
       "    <tr>\n",
       "      <th>2</th>\n",
       "      <td>solve</td>\n",
       "    </tr>\n",
       "    <tr>\n",
       "      <th>3</th>\n",
       "      <td>equation</td>\n",
       "    </tr>\n",
       "    <tr>\n",
       "      <th>4</th>\n",
       "      <td>expression</td>\n",
       "    </tr>\n",
       "  </tbody>\n",
       "</table>\n",
       "</div>"
      ],
      "text/plain": [
       "         Word\n",
       "0  fractional\n",
       "1     product\n",
       "2       solve\n",
       "3    equation\n",
       "4  expression"
      ]
     },
     "execution_count": 11,
     "metadata": {},
     "output_type": "execute_result"
    }
   ],
   "source": [
    "mathvocab.head()"
   ]
  },
  {
   "cell_type": "markdown",
   "metadata": {
    "id": "bNOCxWSQRdE_"
   },
   "source": [
    "**CREATED LIST OF ALL MATH VOCAB WORDS**"
   ]
  },
  {
   "cell_type": "code",
   "execution_count": 12,
   "metadata": {
    "colab": {
     "base_uri": "https://localhost:8080/"
    },
    "id": "7td9wiqWH2b_",
    "outputId": "00c73010-099f-42ac-b657-eda2522ccee3"
   },
   "outputs": [
    {
     "name": "stdout",
     "output_type": "stream",
     "text": [
      "the list of a single column from the dataframe\n",
      " ['fractional', 'product', 'solve', 'equation', 'expression', 'rate', 'total', 'evaluate', 'compute', 'maximum', 'percent', 'arithmetic', 'sequence', 'integers', 'positive', 'distance', 'difference', 'how many', 'sum', 'square', 'cube', 'absolute value', 'cost', 'simplify', 'real number', 'what is the value', 'how much', 'operation', 'calculate', 'formula', 'positive integer', 'price', 'draw', 'length', 'subtract', 'lattice', 'largest', 'smallest', 'greatest number', 'equal', 'line', 'increase', 'multiple', 'average', 'number', 'divide', 'area', 'median', 'remainder', 'add', 'different', 'triange', 'equilateral', 'perimeter', 'size', 'angle', 'degree', 'measure', 'probability', 'segment', 'randomly chosen', 'prime number', 'random selection', 'randomly selected', 'digit', 'exact', 'paranethesis', 'obtuse', 'interior angle', 'ratio', 'range', 'multiply', 'function', 'domain', 'common fraction', 'hyperbola', 'graph', 'roots', 'even', 'odd', 'complex', 'plane', 'mid-point', 'conjugate', 'radicale', 'polynomial', 'interval', 'lowest', 'midpoint', 'consecutive', 'preceding', 'times', 'slope', 'endpoint', 'coordinate', 'proportional', 'reciprocal', 'numerator', 'denominator', 'set', 'inverse', 'simplest', 'intersection', 'point', 'intercept', 'cooefficient', 'ordered', 'inclusive', 'exclusive', 'vertices', 'altogether', 'together', 'decrease', 'successive', 'rectangle', 'diagonal', 'width', 'height', 'factor', 'circle', 'volume', 'cartesian', 'geometric', 'log', 'nearest', 'decimal', 'solution', 'amount', 'rationalize', 'more than', 'less than', 'more', 'less', 'count', 'find', 'binomial', 'common fractor', 'horizontal', 'vertical', 'polygon', 'greater than', 'divisor', 'parallelogram', 'complement', 'divisible', 'equally likely', 'reduce', 'distinct', 'adjacent', 'perpendicular', 'remove', 'randomly', 'older', 'newer', 'mean', 'whole number', 'at least', 'atmost', 'distribution', 'supplementary', 'symbols', 'exceed', 'ellipse', 'asymptote', 'sign', 'parabola', 'union', 'quotient', 'tangent', 'harmonic', 'oblique', 'symmetric', 'axis', 'variable', 'quadratic', 'improper fraction', 'proper fraction', 'straight line', 'discriminant', 'nonzero', 'diagram', 'progression', 'diameter', 'center', 'discount', 'infinite', 'undefined', 'radius', 'pi', 'parallel ', 'quarter', 'chord', 'circumference', 'combine', 'empirical', 'estimate', 'exponent', 'exponential', 'frequency', 'magnitude', 'matrix', 'opposite', 'ray', 'recursive', 'remaining', 'rhombus', 'rotation', 'similarity', 'statistics', 'transformation', 'trapezoid', 'trigonometry', 'vector', 'varies', 'sqrt', 'eliminate', 'constants', 'frac', 'find', 'express', 'exp'] \n",
      " <class 'list'>\n"
     ]
    }
   ],
   "source": [
    "lst = mathvocab['Word'].tolist()\n",
    "\n",
    "print(\"the list of a single column from the dataframe\\n\",\n",
    "        lst,\n",
    "        \"\\n\",\n",
    "        type(lst))"
   ]
  },
  {
   "cell_type": "code",
   "execution_count": 13,
   "metadata": {},
   "outputs": [],
   "source": [
    "lst=[i.lower() for i in lst]"
   ]
  },
  {
   "cell_type": "code",
   "execution_count": 14,
   "metadata": {},
   "outputs": [],
   "source": [
    "from nltk.stem import PorterStemmer\n",
    "stemm=PorterStemmer()"
   ]
  },
  {
   "cell_type": "code",
   "execution_count": 15,
   "metadata": {},
   "outputs": [
    {
     "data": {
      "text/plain": [
       "['fraction',\n",
       " 'product',\n",
       " 'solv',\n",
       " 'equat',\n",
       " 'express',\n",
       " 'rate',\n",
       " 'total',\n",
       " 'evalu',\n",
       " 'comput',\n",
       " 'maximum',\n",
       " 'percent',\n",
       " 'arithmet',\n",
       " 'sequenc',\n",
       " 'integ',\n",
       " 'posit',\n",
       " 'distanc',\n",
       " 'differ',\n",
       " 'how mani',\n",
       " 'sum',\n",
       " 'squar',\n",
       " 'cube',\n",
       " 'absolute valu',\n",
       " 'cost',\n",
       " 'simplifi',\n",
       " 'real numb',\n",
       " 'what is the valu',\n",
       " 'how much',\n",
       " 'oper',\n",
       " 'calcul',\n",
       " 'formula',\n",
       " 'positive integ',\n",
       " 'price',\n",
       " 'draw',\n",
       " 'length',\n",
       " 'subtract',\n",
       " 'lattic',\n",
       " 'largest',\n",
       " 'smallest',\n",
       " 'greatest numb',\n",
       " 'equal',\n",
       " 'line',\n",
       " 'increas',\n",
       " 'multipl',\n",
       " 'averag',\n",
       " 'number',\n",
       " 'divid',\n",
       " 'area',\n",
       " 'median',\n",
       " 'remaind',\n",
       " 'add',\n",
       " 'differ',\n",
       " 'triang',\n",
       " 'equilater',\n",
       " 'perimet',\n",
       " 'size',\n",
       " 'angl',\n",
       " 'degre',\n",
       " 'measur',\n",
       " 'probabl',\n",
       " 'segment',\n",
       " 'randomly chosen',\n",
       " 'prime numb',\n",
       " 'random select',\n",
       " 'randomly select',\n",
       " 'digit',\n",
       " 'exact',\n",
       " 'paranethesi',\n",
       " 'obtus',\n",
       " 'interior angl',\n",
       " 'ratio',\n",
       " 'rang',\n",
       " 'multipli',\n",
       " 'function',\n",
       " 'domain',\n",
       " 'common fract',\n",
       " 'hyperbola',\n",
       " 'graph',\n",
       " 'root',\n",
       " 'even',\n",
       " 'odd',\n",
       " 'complex',\n",
       " 'plane',\n",
       " 'mid-point',\n",
       " 'conjug',\n",
       " 'radical',\n",
       " 'polynomi',\n",
       " 'interv',\n",
       " 'lowest',\n",
       " 'midpoint',\n",
       " 'consecut',\n",
       " 'preced',\n",
       " 'time',\n",
       " 'slope',\n",
       " 'endpoint',\n",
       " 'coordin',\n",
       " 'proport',\n",
       " 'reciproc',\n",
       " 'numer',\n",
       " 'denomin',\n",
       " 'set',\n",
       " 'invers',\n",
       " 'simplest',\n",
       " 'intersect',\n",
       " 'point',\n",
       " 'intercept',\n",
       " 'cooeffici',\n",
       " 'order',\n",
       " 'inclus',\n",
       " 'exclus',\n",
       " 'vertic',\n",
       " 'altogeth',\n",
       " 'togeth',\n",
       " 'decreas',\n",
       " 'success',\n",
       " 'rectangl',\n",
       " 'diagon',\n",
       " 'width',\n",
       " 'height',\n",
       " 'factor',\n",
       " 'circl',\n",
       " 'volum',\n",
       " 'cartesian',\n",
       " 'geometr',\n",
       " 'log',\n",
       " 'nearest',\n",
       " 'decim',\n",
       " 'solut',\n",
       " 'amount',\n",
       " 'ration',\n",
       " 'more than',\n",
       " 'less than',\n",
       " 'more',\n",
       " 'less',\n",
       " 'count',\n",
       " 'find',\n",
       " 'binomi',\n",
       " 'common fractor',\n",
       " 'horizont',\n",
       " 'vertic',\n",
       " 'polygon',\n",
       " 'greater than',\n",
       " 'divisor',\n",
       " 'parallelogram',\n",
       " 'complement',\n",
       " 'divis',\n",
       " 'equally lik',\n",
       " 'reduc',\n",
       " 'distinct',\n",
       " 'adjac',\n",
       " 'perpendicular',\n",
       " 'remov',\n",
       " 'randomli',\n",
       " 'older',\n",
       " 'newer',\n",
       " 'mean',\n",
       " 'whole numb',\n",
       " 'at least',\n",
       " 'atmost',\n",
       " 'distribut',\n",
       " 'supplementari',\n",
       " 'symbol',\n",
       " 'exceed',\n",
       " 'ellips',\n",
       " 'asymptot',\n",
       " 'sign',\n",
       " 'parabola',\n",
       " 'union',\n",
       " 'quotient',\n",
       " 'tangent',\n",
       " 'harmon',\n",
       " 'obliqu',\n",
       " 'symmetr',\n",
       " 'axi',\n",
       " 'variabl',\n",
       " 'quadrat',\n",
       " 'improper fract',\n",
       " 'proper fract',\n",
       " 'straight lin',\n",
       " 'discrimin',\n",
       " 'nonzero',\n",
       " 'diagram',\n",
       " 'progress',\n",
       " 'diamet',\n",
       " 'center',\n",
       " 'discount',\n",
       " 'infinit',\n",
       " 'undefin',\n",
       " 'radiu',\n",
       " 'pi',\n",
       " 'parallel ',\n",
       " 'quarter',\n",
       " 'chord',\n",
       " 'circumfer',\n",
       " 'combin',\n",
       " 'empir',\n",
       " 'estim',\n",
       " 'expon',\n",
       " 'exponenti',\n",
       " 'frequenc',\n",
       " 'magnitud',\n",
       " 'matrix',\n",
       " 'opposit',\n",
       " 'ray',\n",
       " 'recurs',\n",
       " 'remain',\n",
       " 'rhombu',\n",
       " 'rotat',\n",
       " 'similar',\n",
       " 'statist',\n",
       " 'transform',\n",
       " 'trapezoid',\n",
       " 'trigonometri',\n",
       " 'vector',\n",
       " 'vari',\n",
       " 'sqrt',\n",
       " 'elimin',\n",
       " 'constant',\n",
       " 'frac',\n",
       " 'find',\n",
       " 'express',\n",
       " 'exp']"
      ]
     },
     "execution_count": 15,
     "metadata": {},
     "output_type": "execute_result"
    }
   ],
   "source": [
    "stemmed_words=[stemm.stem(i) for i in lst]\n",
    "stemmed_words"
   ]
  },
  {
   "cell_type": "markdown",
   "metadata": {
    "id": "R_MfD2vzSQ3K"
   },
   "source": [
    "**EXTRACTING MATH VOCAB WORDS FROM THE COLUMN 'Problem'**"
   ]
  },
  {
   "cell_type": "code",
   "execution_count": 16,
   "metadata": {},
   "outputs": [
    {
     "data": {
      "text/plain": [
       "'fractional|product|solve|equation|expression|rate|total|evaluate|compute|maximum|percent|arithmetic|sequence|integers|positive|distance|difference|how many|sum|square|cube|absolute value|cost|simplify|real number|what is the value|how much|operation|calculate|formula|positive integer|price|draw|length|subtract|lattice|largest|smallest|greatest number|equal|line|increase|multiple|average|number|divide|area|median|remainder|add|different|triange|equilateral|perimeter|size|angle|degree|measure|probability|segment|randomly chosen|prime number|random selection|randomly selected|digit|exact|paranethesis|obtuse|interior angle|ratio|range|multiply|function|domain|common fraction|hyperbola|graph|roots|even|odd|complex|plane|mid-point|conjugate|radicale|polynomial|interval|lowest|midpoint|consecutive|preceding|times|slope|endpoint|coordinate|proportional|reciprocal|numerator|denominator|set|inverse|simplest|intersection|point|intercept|cooefficient|ordered|inclusive|exclusive|vertices|altogether|together|decrease|successive|rectangle|diagonal|width|height|factor|circle|volume|cartesian|geometric|log|nearest|decimal|solution|amount|rationalize|more than|less than|more|less|count|find|binomial|common fractor|horizontal|vertical|polygon|greater than|divisor|parallelogram|complement|divisible|equally likely|reduce|distinct|adjacent|perpendicular|remove|randomly|older|newer|mean|whole number|at least|atmost|distribution|supplementary|symbols|exceed|ellipse|asymptote|sign|parabola|union|quotient|tangent|harmonic|oblique|symmetric|axis|variable|quadratic|improper fraction|proper fraction|straight line|discriminant|nonzero|diagram|progression|diameter|center|discount|infinite|undefined|radius|pi|parallel |quarter|chord|circumference|combine|empirical|estimate|exponent|exponential|frequency|magnitude|matrix|opposite|ray|recursive|remaining|rhombus|rotation|similarity|statistics|transformation|trapezoid|trigonometry|vector|varies|sqrt|eliminate|constants|frac|find|express|exp'"
      ]
     },
     "execution_count": 16,
     "metadata": {},
     "output_type": "execute_result"
    }
   ],
   "source": [
    "query = '|'.join(lst)\n",
    "query"
   ]
  },
  {
   "cell_type": "code",
   "execution_count": 17,
   "metadata": {
    "colab": {
     "base_uri": "https://localhost:8080/"
    },
    "id": "8pIdO0Y9IKpY",
    "outputId": "eda1baa4-d5b7-4176-ae06-9e774b230e3e"
   },
   "outputs": [
    {
     "name": "stdout",
     "output_type": "stream",
     "text": [
      "                                               Problem   Level   \\\n",
      "0     there are constants    alpha  and    beta  suc...       5   \n",
      "1     the length of the segment between the points  ...       5   \n",
      "2     chewbacca has 20 pieces of cherry gum and 30 p...       5   \n",
      "3     for some constants  a  and  b,  let   [f(x) = ...       5   \n",
      "4     calculate the sum  1 + 3 + 5 +   cdots + 15 + ...       2   \n",
      "...                                                 ...     ...   \n",
      "1739  what is the slope of the line passing through ...       2   \n",
      "1740  evaluate  i^{11} + i^{16} + i^{21} + i^{26} + ...       4   \n",
      "1741  if  a  is a constant such that  4x^2 - 12x + a...       3   \n",
      "1742  given  a   star b = a^2 + 2ab + b^2 , what is ...       3   \n",
      "1743  the graph of the function  f(x)  is shown belo...       5   \n",
      "\n",
      "                                                   word  \n",
      "0                               [constants, frac, frac]  \n",
      "1                      [length, segment, sqrt, product]  \n",
      "2                         [ratio, number, number, find]  \n",
      "3                                 [constants, function]  \n",
      "4                                      [calculate, sum]  \n",
      "...                                                 ...  \n",
      "1739                                      [slope, line]  \n",
      "1740                                         [evaluate]  \n",
      "1741                                 [square, binomial]  \n",
      "1742                                [what is the value]  \n",
      "1743  [graph, function, how many, graph, size, draw,...  \n",
      "\n",
      "[1744 rows x 3 columns]\n"
     ]
    }
   ],
   "source": [
    "df['word'] = df['Problem '].str.findall(r'\\b({})\\b'.format(query)) \n",
    "\n",
    "print(df)"
   ]
  },
  {
   "cell_type": "code",
   "execution_count": 18,
   "metadata": {
    "id": "ud2AlDXXIUjl"
   },
   "outputs": [],
   "source": [
    "df['Mword_count']=df['word'].apply(lambda x: len(x))"
   ]
  },
  {
   "cell_type": "code",
   "execution_count": 19,
   "metadata": {
    "colab": {
     "base_uri": "https://localhost:8080/",
     "height": 206
    },
    "id": "cnxxhazcIXry",
    "outputId": "fa88a137-3cd1-4fe2-d76a-d40241244be9"
   },
   "outputs": [
    {
     "data": {
      "text/html": [
       "<div>\n",
       "<style scoped>\n",
       "    .dataframe tbody tr th:only-of-type {\n",
       "        vertical-align: middle;\n",
       "    }\n",
       "\n",
       "    .dataframe tbody tr th {\n",
       "        vertical-align: top;\n",
       "    }\n",
       "\n",
       "    .dataframe thead th {\n",
       "        text-align: right;\n",
       "    }\n",
       "</style>\n",
       "<table border=\"1\" class=\"dataframe\">\n",
       "  <thead>\n",
       "    <tr style=\"text-align: right;\">\n",
       "      <th></th>\n",
       "      <th>Problem</th>\n",
       "      <th>Level</th>\n",
       "      <th>word</th>\n",
       "      <th>Mword_count</th>\n",
       "    </tr>\n",
       "  </thead>\n",
       "  <tbody>\n",
       "    <tr>\n",
       "      <th>0</th>\n",
       "      <td>there are constants    alpha  and    beta  suc...</td>\n",
       "      <td>5</td>\n",
       "      <td>[constants, frac, frac]</td>\n",
       "      <td>3</td>\n",
       "    </tr>\n",
       "    <tr>\n",
       "      <th>1</th>\n",
       "      <td>the length of the segment between the points  ...</td>\n",
       "      <td>5</td>\n",
       "      <td>[length, segment, sqrt, product]</td>\n",
       "      <td>4</td>\n",
       "    </tr>\n",
       "    <tr>\n",
       "      <th>2</th>\n",
       "      <td>chewbacca has 20 pieces of cherry gum and 30 p...</td>\n",
       "      <td>5</td>\n",
       "      <td>[ratio, number, number, find]</td>\n",
       "      <td>4</td>\n",
       "    </tr>\n",
       "    <tr>\n",
       "      <th>3</th>\n",
       "      <td>for some constants  a  and  b,  let   [f(x) = ...</td>\n",
       "      <td>5</td>\n",
       "      <td>[constants, function]</td>\n",
       "      <td>2</td>\n",
       "    </tr>\n",
       "    <tr>\n",
       "      <th>4</th>\n",
       "      <td>calculate the sum  1 + 3 + 5 +   cdots + 15 + ...</td>\n",
       "      <td>2</td>\n",
       "      <td>[calculate, sum]</td>\n",
       "      <td>2</td>\n",
       "    </tr>\n",
       "  </tbody>\n",
       "</table>\n",
       "</div>"
      ],
      "text/plain": [
       "                                            Problem   Level   \\\n",
       "0  there are constants    alpha  and    beta  suc...       5   \n",
       "1  the length of the segment between the points  ...       5   \n",
       "2  chewbacca has 20 pieces of cherry gum and 30 p...       5   \n",
       "3  for some constants  a  and  b,  let   [f(x) = ...       5   \n",
       "4  calculate the sum  1 + 3 + 5 +   cdots + 15 + ...       2   \n",
       "\n",
       "                               word  Mword_count  \n",
       "0           [constants, frac, frac]            3  \n",
       "1  [length, segment, sqrt, product]            4  \n",
       "2     [ratio, number, number, find]            4  \n",
       "3             [constants, function]            2  \n",
       "4                  [calculate, sum]            2  "
      ]
     },
     "execution_count": 19,
     "metadata": {},
     "output_type": "execute_result"
    }
   ],
   "source": [
    "df.head()"
   ]
  },
  {
   "cell_type": "code",
   "execution_count": 20,
   "metadata": {},
   "outputs": [],
   "source": [
    "def get_equations_count(expression):\n",
    "  regexes = [r\"\\$\\$([^$]+)\\$\\$\", r\"\\$([^$]+)\\$\", r\"\\\\\\(([^$]+)\\\\\\)\", r\"\\\\\\[([^$]+)\\\\\\]\"]\n",
    "  no_of_equations = 0\n",
    "  for regex in regexes:\n",
    "    matches = re.findall(regex, expression)\n",
    "    no_of_equations += len(matches)\n",
    "    expression = re.sub(regex, \"\", expression)\n",
    "  return pd.Series({'modified_problem':expression})\n"
   ]
  },
  {
   "cell_type": "code",
   "execution_count": 21,
   "metadata": {},
   "outputs": [],
   "source": [
    "df = pd.concat([df, df['Problem '].apply(get_equations_count)], axis=1)"
   ]
  },
  {
   "cell_type": "code",
   "execution_count": 22,
   "metadata": {},
   "outputs": [
    {
     "data": {
      "text/html": [
       "<div>\n",
       "<style scoped>\n",
       "    .dataframe tbody tr th:only-of-type {\n",
       "        vertical-align: middle;\n",
       "    }\n",
       "\n",
       "    .dataframe tbody tr th {\n",
       "        vertical-align: top;\n",
       "    }\n",
       "\n",
       "    .dataframe thead th {\n",
       "        text-align: right;\n",
       "    }\n",
       "</style>\n",
       "<table border=\"1\" class=\"dataframe\">\n",
       "  <thead>\n",
       "    <tr style=\"text-align: right;\">\n",
       "      <th></th>\n",
       "      <th>Problem</th>\n",
       "      <th>Level</th>\n",
       "      <th>word</th>\n",
       "      <th>Mword_count</th>\n",
       "      <th>modified_problem</th>\n",
       "    </tr>\n",
       "  </thead>\n",
       "  <tbody>\n",
       "    <tr>\n",
       "      <th>0</th>\n",
       "      <td>there are constants    alpha  and    beta  suc...</td>\n",
       "      <td>5</td>\n",
       "      <td>[constants, frac, frac]</td>\n",
       "      <td>3</td>\n",
       "      <td>there are constants    alpha  and    beta  suc...</td>\n",
       "    </tr>\n",
       "    <tr>\n",
       "      <th>1</th>\n",
       "      <td>the length of the segment between the points  ...</td>\n",
       "      <td>5</td>\n",
       "      <td>[length, segment, sqrt, product]</td>\n",
       "      <td>4</td>\n",
       "      <td>the length of the segment between the points  ...</td>\n",
       "    </tr>\n",
       "    <tr>\n",
       "      <th>2</th>\n",
       "      <td>chewbacca has 20 pieces of cherry gum and 30 p...</td>\n",
       "      <td>5</td>\n",
       "      <td>[ratio, number, number, find]</td>\n",
       "      <td>4</td>\n",
       "      <td>chewbacca has 20 pieces of cherry gum and 30 p...</td>\n",
       "    </tr>\n",
       "    <tr>\n",
       "      <th>3</th>\n",
       "      <td>for some constants  a  and  b,  let   [f(x) = ...</td>\n",
       "      <td>5</td>\n",
       "      <td>[constants, function]</td>\n",
       "      <td>2</td>\n",
       "      <td>for some constants  a  and  b,  let   [f(x) = ...</td>\n",
       "    </tr>\n",
       "    <tr>\n",
       "      <th>4</th>\n",
       "      <td>calculate the sum  1 + 3 + 5 +   cdots + 15 + ...</td>\n",
       "      <td>2</td>\n",
       "      <td>[calculate, sum]</td>\n",
       "      <td>2</td>\n",
       "      <td>calculate the sum  1 + 3 + 5 +   cdots + 15 + ...</td>\n",
       "    </tr>\n",
       "  </tbody>\n",
       "</table>\n",
       "</div>"
      ],
      "text/plain": [
       "                                            Problem   Level   \\\n",
       "0  there are constants    alpha  and    beta  suc...       5   \n",
       "1  the length of the segment between the points  ...       5   \n",
       "2  chewbacca has 20 pieces of cherry gum and 30 p...       5   \n",
       "3  for some constants  a  and  b,  let   [f(x) = ...       5   \n",
       "4  calculate the sum  1 + 3 + 5 +   cdots + 15 + ...       2   \n",
       "\n",
       "                               word  Mword_count  \\\n",
       "0           [constants, frac, frac]            3   \n",
       "1  [length, segment, sqrt, product]            4   \n",
       "2     [ratio, number, number, find]            4   \n",
       "3             [constants, function]            2   \n",
       "4                  [calculate, sum]            2   \n",
       "\n",
       "                                    modified_problem  \n",
       "0  there are constants    alpha  and    beta  suc...  \n",
       "1  the length of the segment between the points  ...  \n",
       "2  chewbacca has 20 pieces of cherry gum and 30 p...  \n",
       "3  for some constants  a  and  b,  let   [f(x) = ...  \n",
       "4  calculate the sum  1 + 3 + 5 +   cdots + 15 + ...  "
      ]
     },
     "execution_count": 22,
     "metadata": {},
     "output_type": "execute_result"
    }
   ],
   "source": [
    "df.head()"
   ]
  },
  {
   "cell_type": "code",
   "execution_count": 23,
   "metadata": {},
   "outputs": [
    {
     "data": {
      "text/plain": [
       "'there are constants    alpha  and    beta  such that    frac{x-  alpha}{x+  beta} =   frac{x^2-80x+1551}{x^2+57x-2970} . what is    alpha+  beta ?'"
      ]
     },
     "execution_count": 23,
     "metadata": {},
     "output_type": "execute_result"
    }
   ],
   "source": [
    "df.loc[0,'modified_problem']"
   ]
  },
  {
   "cell_type": "markdown",
   "metadata": {
    "id": "Fek4PXg8thfo"
   },
   "source": [
    "**mathword_count = TMVW** (total math vocab words )"
   ]
  },
  {
   "cell_type": "code",
   "execution_count": 24,
   "metadata": {
    "id": "Uc5VmpQzIjdg"
   },
   "outputs": [],
   "source": [
    "# def word_length(df_col):\n",
    "#   number_of_words = len(df_col.split())\n",
    "#   # print(df_col.split())\n",
    "#   return number_of_words"
   ]
  },
  {
   "cell_type": "code",
   "execution_count": 25,
   "metadata": {
    "id": "yP5z6b2LItHF"
   },
   "outputs": [],
   "source": [
    "#df_liststring['mathword_count'] = df_liststring['liststring'].apply(word_length)"
   ]
  },
  {
   "cell_type": "markdown",
   "metadata": {
    "id": "Q3uquq1VTdmk"
   },
   "source": [
    "**FUNCTION TO COUNT THE TOTAL NUMBER OF SENTENCES IN EACH MATH WORD PROBLEM**"
   ]
  },
  {
   "cell_type": "code",
   "execution_count": 26,
   "metadata": {},
   "outputs": [],
   "source": [
    "from nltk import sent_tokenize"
   ]
  },
  {
   "cell_type": "code",
   "execution_count": 27,
   "metadata": {},
   "outputs": [
    {
     "name": "stderr",
     "output_type": "stream",
     "text": [
      "[nltk_data] Downloading package punkt to\n",
      "[nltk_data]     C:\\Users\\Pawan\\AppData\\Roaming\\nltk_data...\n",
      "[nltk_data]   Package punkt is already up-to-date!\n"
     ]
    },
    {
     "data": {
      "text/plain": [
       "True"
      ]
     },
     "execution_count": 27,
     "metadata": {},
     "output_type": "execute_result"
    }
   ],
   "source": [
    "nltk.download('punkt')"
   ]
  },
  {
   "cell_type": "code",
   "execution_count": 28,
   "metadata": {
    "id": "xAt7MpQFIx7w"
   },
   "outputs": [],
   "source": [
    "def count_sentences(data):\n",
    "  number_of_sentences = sent_tokenize(data)\n",
    "  return len(number_of_sentences)"
   ]
  },
  {
   "cell_type": "code",
   "execution_count": 29,
   "metadata": {
    "id": "REM68N6bJM2v"
   },
   "outputs": [],
   "source": [
    "df['countsent'] = df['modified_problem'].apply(count_sentences)"
   ]
  },
  {
   "cell_type": "code",
   "execution_count": 30,
   "metadata": {
    "colab": {
     "base_uri": "https://localhost:8080/",
     "height": 206
    },
    "id": "qh-NqCuzJM87",
    "outputId": "eb8efbd3-a53a-403a-8776-123e558504f3"
   },
   "outputs": [
    {
     "data": {
      "text/html": [
       "<div>\n",
       "<style scoped>\n",
       "    .dataframe tbody tr th:only-of-type {\n",
       "        vertical-align: middle;\n",
       "    }\n",
       "\n",
       "    .dataframe tbody tr th {\n",
       "        vertical-align: top;\n",
       "    }\n",
       "\n",
       "    .dataframe thead th {\n",
       "        text-align: right;\n",
       "    }\n",
       "</style>\n",
       "<table border=\"1\" class=\"dataframe\">\n",
       "  <thead>\n",
       "    <tr style=\"text-align: right;\">\n",
       "      <th></th>\n",
       "      <th>Problem</th>\n",
       "      <th>Level</th>\n",
       "      <th>word</th>\n",
       "      <th>Mword_count</th>\n",
       "      <th>modified_problem</th>\n",
       "      <th>countsent</th>\n",
       "    </tr>\n",
       "  </thead>\n",
       "  <tbody>\n",
       "    <tr>\n",
       "      <th>0</th>\n",
       "      <td>there are constants    alpha  and    beta  suc...</td>\n",
       "      <td>5</td>\n",
       "      <td>[constants, frac, frac]</td>\n",
       "      <td>3</td>\n",
       "      <td>there are constants    alpha  and    beta  suc...</td>\n",
       "      <td>2</td>\n",
       "    </tr>\n",
       "    <tr>\n",
       "      <th>1</th>\n",
       "      <td>the length of the segment between the points  ...</td>\n",
       "      <td>5</td>\n",
       "      <td>[length, segment, sqrt, product]</td>\n",
       "      <td>4</td>\n",
       "      <td>the length of the segment between the points  ...</td>\n",
       "      <td>2</td>\n",
       "    </tr>\n",
       "    <tr>\n",
       "      <th>2</th>\n",
       "      <td>chewbacca has 20 pieces of cherry gum and 30 p...</td>\n",
       "      <td>5</td>\n",
       "      <td>[ratio, number, number, find]</td>\n",
       "      <td>4</td>\n",
       "      <td>chewbacca has 20 pieces of cherry gum and 30 p...</td>\n",
       "      <td>5</td>\n",
       "    </tr>\n",
       "    <tr>\n",
       "      <th>3</th>\n",
       "      <td>for some constants  a  and  b,  let   [f(x) = ...</td>\n",
       "      <td>5</td>\n",
       "      <td>[constants, function]</td>\n",
       "      <td>2</td>\n",
       "      <td>for some constants  a  and  b,  let   [f(x) = ...</td>\n",
       "      <td>2</td>\n",
       "    </tr>\n",
       "    <tr>\n",
       "      <th>4</th>\n",
       "      <td>calculate the sum  1 + 3 + 5 +   cdots + 15 + ...</td>\n",
       "      <td>2</td>\n",
       "      <td>[calculate, sum]</td>\n",
       "      <td>2</td>\n",
       "      <td>calculate the sum  1 + 3 + 5 +   cdots + 15 + ...</td>\n",
       "      <td>1</td>\n",
       "    </tr>\n",
       "  </tbody>\n",
       "</table>\n",
       "</div>"
      ],
      "text/plain": [
       "                                            Problem   Level   \\\n",
       "0  there are constants    alpha  and    beta  suc...       5   \n",
       "1  the length of the segment between the points  ...       5   \n",
       "2  chewbacca has 20 pieces of cherry gum and 30 p...       5   \n",
       "3  for some constants  a  and  b,  let   [f(x) = ...       5   \n",
       "4  calculate the sum  1 + 3 + 5 +   cdots + 15 + ...       2   \n",
       "\n",
       "                               word  Mword_count  \\\n",
       "0           [constants, frac, frac]            3   \n",
       "1  [length, segment, sqrt, product]            4   \n",
       "2     [ratio, number, number, find]            4   \n",
       "3             [constants, function]            2   \n",
       "4                  [calculate, sum]            2   \n",
       "\n",
       "                                    modified_problem  countsent  \n",
       "0  there are constants    alpha  and    beta  suc...          2  \n",
       "1  the length of the segment between the points  ...          2  \n",
       "2  chewbacca has 20 pieces of cherry gum and 30 p...          5  \n",
       "3  for some constants  a  and  b,  let   [f(x) = ...          2  \n",
       "4  calculate the sum  1 + 3 + 5 +   cdots + 15 + ...          1  "
      ]
     },
     "execution_count": 30,
     "metadata": {},
     "output_type": "execute_result"
    }
   ],
   "source": [
    "df.head()"
   ]
  },
  {
   "cell_type": "markdown",
   "metadata": {
    "id": "5GYO9QyWTqI8"
   },
   "source": [
    "**FUNCTION TO COUNT ALL NUMBER OF WORDS IN EACH MATH PROBLEM**"
   ]
  },
  {
   "cell_type": "code",
   "execution_count": 31,
   "metadata": {
    "id": "_ravrkLxJNAB"
   },
   "outputs": [],
   "source": [
    "def count_allwords(data):\n",
    "  number_of_words = len(data.split())\n",
    "  return number_of_words "
   ]
  },
  {
   "cell_type": "code",
   "execution_count": 32,
   "metadata": {
    "id": "Ydp7RlOGJgmQ"
   },
   "outputs": [],
   "source": [
    "df['allwords'] = df['Problem '].apply(count_allwords)"
   ]
  },
  {
   "cell_type": "code",
   "execution_count": 33,
   "metadata": {
    "colab": {
     "base_uri": "https://localhost:8080/",
     "height": 206
    },
    "id": "2ppNSOO-JpZZ",
    "outputId": "a238ccf8-b1bd-415b-e596-3195465b03aa"
   },
   "outputs": [
    {
     "data": {
      "text/html": [
       "<div>\n",
       "<style scoped>\n",
       "    .dataframe tbody tr th:only-of-type {\n",
       "        vertical-align: middle;\n",
       "    }\n",
       "\n",
       "    .dataframe tbody tr th {\n",
       "        vertical-align: top;\n",
       "    }\n",
       "\n",
       "    .dataframe thead th {\n",
       "        text-align: right;\n",
       "    }\n",
       "</style>\n",
       "<table border=\"1\" class=\"dataframe\">\n",
       "  <thead>\n",
       "    <tr style=\"text-align: right;\">\n",
       "      <th></th>\n",
       "      <th>Problem</th>\n",
       "      <th>Level</th>\n",
       "      <th>word</th>\n",
       "      <th>Mword_count</th>\n",
       "      <th>modified_problem</th>\n",
       "      <th>countsent</th>\n",
       "      <th>allwords</th>\n",
       "    </tr>\n",
       "  </thead>\n",
       "  <tbody>\n",
       "    <tr>\n",
       "      <th>0</th>\n",
       "      <td>there are constants    alpha  and    beta  suc...</td>\n",
       "      <td>5</td>\n",
       "      <td>[constants, frac, frac]</td>\n",
       "      <td>3</td>\n",
       "      <td>there are constants    alpha  and    beta  suc...</td>\n",
       "      <td>2</td>\n",
       "      <td>19</td>\n",
       "    </tr>\n",
       "    <tr>\n",
       "      <th>1</th>\n",
       "      <td>the length of the segment between the points  ...</td>\n",
       "      <td>5</td>\n",
       "      <td>[length, segment, sqrt, product]</td>\n",
       "      <td>4</td>\n",
       "      <td>the length of the segment between the points  ...</td>\n",
       "      <td>2</td>\n",
       "      <td>28</td>\n",
       "    </tr>\n",
       "    <tr>\n",
       "      <th>2</th>\n",
       "      <td>chewbacca has 20 pieces of cherry gum and 30 p...</td>\n",
       "      <td>5</td>\n",
       "      <td>[ratio, number, number, find]</td>\n",
       "      <td>4</td>\n",
       "      <td>chewbacca has 20 pieces of cherry gum and 30 p...</td>\n",
       "      <td>5</td>\n",
       "      <td>81</td>\n",
       "    </tr>\n",
       "    <tr>\n",
       "      <th>3</th>\n",
       "      <td>for some constants  a  and  b,  let   [f(x) = ...</td>\n",
       "      <td>5</td>\n",
       "      <td>[constants, function]</td>\n",
       "      <td>2</td>\n",
       "      <td>for some constants  a  and  b,  let   [f(x) = ...</td>\n",
       "      <td>2</td>\n",
       "      <td>50</td>\n",
       "    </tr>\n",
       "    <tr>\n",
       "      <th>4</th>\n",
       "      <td>calculate the sum  1 + 3 + 5 +   cdots + 15 + ...</td>\n",
       "      <td>2</td>\n",
       "      <td>[calculate, sum]</td>\n",
       "      <td>2</td>\n",
       "      <td>calculate the sum  1 + 3 + 5 +   cdots + 15 + ...</td>\n",
       "      <td>1</td>\n",
       "      <td>15</td>\n",
       "    </tr>\n",
       "  </tbody>\n",
       "</table>\n",
       "</div>"
      ],
      "text/plain": [
       "                                            Problem   Level   \\\n",
       "0  there are constants    alpha  and    beta  suc...       5   \n",
       "1  the length of the segment between the points  ...       5   \n",
       "2  chewbacca has 20 pieces of cherry gum and 30 p...       5   \n",
       "3  for some constants  a  and  b,  let   [f(x) = ...       5   \n",
       "4  calculate the sum  1 + 3 + 5 +   cdots + 15 + ...       2   \n",
       "\n",
       "                               word  Mword_count  \\\n",
       "0           [constants, frac, frac]            3   \n",
       "1  [length, segment, sqrt, product]            4   \n",
       "2     [ratio, number, number, find]            4   \n",
       "3             [constants, function]            2   \n",
       "4                  [calculate, sum]            2   \n",
       "\n",
       "                                    modified_problem  countsent  allwords  \n",
       "0  there are constants    alpha  and    beta  suc...          2        19  \n",
       "1  the length of the segment between the points  ...          2        28  \n",
       "2  chewbacca has 20 pieces of cherry gum and 30 p...          5        81  \n",
       "3  for some constants  a  and  b,  let   [f(x) = ...          2        50  \n",
       "4  calculate the sum  1 + 3 + 5 +   cdots + 15 + ...          1        15  "
      ]
     },
     "execution_count": 33,
     "metadata": {},
     "output_type": "execute_result"
    }
   ],
   "source": [
    "df.head()"
   ]
  },
  {
   "cell_type": "markdown",
   "metadata": {
    "id": "BRpHPihVT7Sf"
   },
   "source": [
    "**FUNCTION TO COUNT THE MATH SYMBOLS IN EACH WORD PROBLEM**"
   ]
  },
  {
   "cell_type": "code",
   "execution_count": 34,
   "metadata": {
    "id": "w-Mkm0m3NMMn"
   },
   "outputs": [],
   "source": [
    "math_symbols = []\n",
    "l = \"!@#$%^&*()-[]{}:;<>+=-/?.,\"\n",
    "for i in l:\n",
    "  math_symbols.append(i)"
   ]
  },
  {
   "cell_type": "code",
   "execution_count": 35,
   "metadata": {
    "id": "_Iycr5obNUH0"
   },
   "outputs": [],
   "source": [
    "\n",
    "def count_symbols(data):\n",
    "  total_count = 0\n",
    "  data = data.split()\n",
    "  for word in data: \n",
    "    if word in math_symbols:\n",
    "      total_count = total_count+1\n",
    "  return total_count"
   ]
  },
  {
   "cell_type": "code",
   "execution_count": 36,
   "metadata": {
    "id": "dtpHOnPLNXms"
   },
   "outputs": [],
   "source": [
    "df['symbols'] = df['Problem '].apply(count_symbols)"
   ]
  },
  {
   "cell_type": "code",
   "execution_count": 37,
   "metadata": {
    "colab": {
     "base_uri": "https://localhost:8080/",
     "height": 206
    },
    "id": "ISAdaL8rNe-T",
    "outputId": "721062ee-dc15-486a-acd1-13d5accff49f"
   },
   "outputs": [
    {
     "data": {
      "text/html": [
       "<div>\n",
       "<style scoped>\n",
       "    .dataframe tbody tr th:only-of-type {\n",
       "        vertical-align: middle;\n",
       "    }\n",
       "\n",
       "    .dataframe tbody tr th {\n",
       "        vertical-align: top;\n",
       "    }\n",
       "\n",
       "    .dataframe thead th {\n",
       "        text-align: right;\n",
       "    }\n",
       "</style>\n",
       "<table border=\"1\" class=\"dataframe\">\n",
       "  <thead>\n",
       "    <tr style=\"text-align: right;\">\n",
       "      <th></th>\n",
       "      <th>Problem</th>\n",
       "      <th>Level</th>\n",
       "      <th>word</th>\n",
       "      <th>Mword_count</th>\n",
       "      <th>modified_problem</th>\n",
       "      <th>countsent</th>\n",
       "      <th>allwords</th>\n",
       "      <th>symbols</th>\n",
       "    </tr>\n",
       "  </thead>\n",
       "  <tbody>\n",
       "    <tr>\n",
       "      <th>0</th>\n",
       "      <td>there are constants    alpha  and    beta  suc...</td>\n",
       "      <td>5</td>\n",
       "      <td>[constants, frac, frac]</td>\n",
       "      <td>3</td>\n",
       "      <td>there are constants    alpha  and    beta  suc...</td>\n",
       "      <td>2</td>\n",
       "      <td>19</td>\n",
       "      <td>3</td>\n",
       "    </tr>\n",
       "    <tr>\n",
       "      <th>1</th>\n",
       "      <td>the length of the segment between the points  ...</td>\n",
       "      <td>5</td>\n",
       "      <td>[length, segment, sqrt, product]</td>\n",
       "      <td>4</td>\n",
       "      <td>the length of the segment between the points  ...</td>\n",
       "      <td>2</td>\n",
       "      <td>28</td>\n",
       "      <td>1</td>\n",
       "    </tr>\n",
       "    <tr>\n",
       "      <th>2</th>\n",
       "      <td>chewbacca has 20 pieces of cherry gum and 30 p...</td>\n",
       "      <td>5</td>\n",
       "      <td>[ratio, number, number, find]</td>\n",
       "      <td>4</td>\n",
       "      <td>chewbacca has 20 pieces of cherry gum and 30 p...</td>\n",
       "      <td>5</td>\n",
       "      <td>81</td>\n",
       "      <td>1</td>\n",
       "    </tr>\n",
       "    <tr>\n",
       "      <th>3</th>\n",
       "      <td>for some constants  a  and  b,  let   [f(x) = ...</td>\n",
       "      <td>5</td>\n",
       "      <td>[constants, function]</td>\n",
       "      <td>2</td>\n",
       "      <td>for some constants  a  and  b,  let   [f(x) = ...</td>\n",
       "      <td>2</td>\n",
       "      <td>50</td>\n",
       "      <td>11</td>\n",
       "    </tr>\n",
       "    <tr>\n",
       "      <th>4</th>\n",
       "      <td>calculate the sum  1 + 3 + 5 +   cdots + 15 + ...</td>\n",
       "      <td>2</td>\n",
       "      <td>[calculate, sum]</td>\n",
       "      <td>2</td>\n",
       "      <td>calculate the sum  1 + 3 + 5 +   cdots + 15 + ...</td>\n",
       "      <td>1</td>\n",
       "      <td>15</td>\n",
       "      <td>6</td>\n",
       "    </tr>\n",
       "  </tbody>\n",
       "</table>\n",
       "</div>"
      ],
      "text/plain": [
       "                                            Problem   Level   \\\n",
       "0  there are constants    alpha  and    beta  suc...       5   \n",
       "1  the length of the segment between the points  ...       5   \n",
       "2  chewbacca has 20 pieces of cherry gum and 30 p...       5   \n",
       "3  for some constants  a  and  b,  let   [f(x) = ...       5   \n",
       "4  calculate the sum  1 + 3 + 5 +   cdots + 15 + ...       2   \n",
       "\n",
       "                               word  Mword_count  \\\n",
       "0           [constants, frac, frac]            3   \n",
       "1  [length, segment, sqrt, product]            4   \n",
       "2     [ratio, number, number, find]            4   \n",
       "3             [constants, function]            2   \n",
       "4                  [calculate, sum]            2   \n",
       "\n",
       "                                    modified_problem  countsent  allwords  \\\n",
       "0  there are constants    alpha  and    beta  suc...          2        19   \n",
       "1  the length of the segment between the points  ...          2        28   \n",
       "2  chewbacca has 20 pieces of cherry gum and 30 p...          5        81   \n",
       "3  for some constants  a  and  b,  let   [f(x) = ...          2        50   \n",
       "4  calculate the sum  1 + 3 + 5 +   cdots + 15 + ...          1        15   \n",
       "\n",
       "   symbols  \n",
       "0        3  \n",
       "1        1  \n",
       "2        1  \n",
       "3       11  \n",
       "4        6  "
      ]
     },
     "execution_count": 37,
     "metadata": {},
     "output_type": "execute_result"
    }
   ],
   "source": [
    "df.head()"
   ]
  },
  {
   "cell_type": "markdown",
   "metadata": {
    "id": "PHFMVNE7UDMw"
   },
   "source": [
    "**FUNCTION TO COUNT THE NUMBERS IN EACH MATH WORD PROBLEM**"
   ]
  },
  {
   "cell_type": "code",
   "execution_count": 38,
   "metadata": {
    "id": "bs32BHyVNkCN"
   },
   "outputs": [],
   "source": [
    "def count_nums(data):\n",
    "  total_count = 0\n",
    "  data = data.split()\n",
    "  for word in data: \n",
    "    if word.isalpha() == False:\n",
    "      total_count = total_count+1\n",
    "  return total_count"
   ]
  },
  {
   "cell_type": "code",
   "execution_count": 39,
   "metadata": {
    "id": "1uynJbAvNsBs"
   },
   "outputs": [],
   "source": [
    "df['numbers'] = df['Problem '].apply(count_nums)"
   ]
  },
  {
   "cell_type": "code",
   "execution_count": 40,
   "metadata": {
    "colab": {
     "base_uri": "https://localhost:8080/",
     "height": 206
    },
    "id": "vlPuJDdFNyPJ",
    "outputId": "ee92b58e-86bc-4d88-d982-6233b350a3ab"
   },
   "outputs": [
    {
     "data": {
      "text/html": [
       "<div>\n",
       "<style scoped>\n",
       "    .dataframe tbody tr th:only-of-type {\n",
       "        vertical-align: middle;\n",
       "    }\n",
       "\n",
       "    .dataframe tbody tr th {\n",
       "        vertical-align: top;\n",
       "    }\n",
       "\n",
       "    .dataframe thead th {\n",
       "        text-align: right;\n",
       "    }\n",
       "</style>\n",
       "<table border=\"1\" class=\"dataframe\">\n",
       "  <thead>\n",
       "    <tr style=\"text-align: right;\">\n",
       "      <th></th>\n",
       "      <th>Problem</th>\n",
       "      <th>Level</th>\n",
       "      <th>word</th>\n",
       "      <th>Mword_count</th>\n",
       "      <th>modified_problem</th>\n",
       "      <th>countsent</th>\n",
       "      <th>allwords</th>\n",
       "      <th>symbols</th>\n",
       "      <th>numbers</th>\n",
       "    </tr>\n",
       "  </thead>\n",
       "  <tbody>\n",
       "    <tr>\n",
       "      <th>0</th>\n",
       "      <td>there are constants    alpha  and    beta  suc...</td>\n",
       "      <td>5</td>\n",
       "      <td>[constants, frac, frac]</td>\n",
       "      <td>3</td>\n",
       "      <td>there are constants    alpha  and    beta  suc...</td>\n",
       "      <td>2</td>\n",
       "      <td>19</td>\n",
       "      <td>3</td>\n",
       "      <td>8</td>\n",
       "    </tr>\n",
       "    <tr>\n",
       "      <th>1</th>\n",
       "      <td>the length of the segment between the points  ...</td>\n",
       "      <td>5</td>\n",
       "      <td>[length, segment, sqrt, product]</td>\n",
       "      <td>4</td>\n",
       "      <td>the length of the segment between the points  ...</td>\n",
       "      <td>2</td>\n",
       "      <td>28</td>\n",
       "      <td>1</td>\n",
       "      <td>8</td>\n",
       "    </tr>\n",
       "    <tr>\n",
       "      <th>2</th>\n",
       "      <td>chewbacca has 20 pieces of cherry gum and 30 p...</td>\n",
       "      <td>5</td>\n",
       "      <td>[ratio, number, number, find]</td>\n",
       "      <td>4</td>\n",
       "      <td>chewbacca has 20 pieces of cherry gum and 30 p...</td>\n",
       "      <td>5</td>\n",
       "      <td>81</td>\n",
       "      <td>1</td>\n",
       "      <td>10</td>\n",
       "    </tr>\n",
       "    <tr>\n",
       "      <th>3</th>\n",
       "      <td>for some constants  a  and  b,  let   [f(x) = ...</td>\n",
       "      <td>5</td>\n",
       "      <td>[constants, function]</td>\n",
       "      <td>2</td>\n",
       "      <td>for some constants  a  and  b,  let   [f(x) = ...</td>\n",
       "      <td>2</td>\n",
       "      <td>50</td>\n",
       "      <td>11</td>\n",
       "      <td>26</td>\n",
       "    </tr>\n",
       "    <tr>\n",
       "      <th>4</th>\n",
       "      <td>calculate the sum  1 + 3 + 5 +   cdots + 15 + ...</td>\n",
       "      <td>2</td>\n",
       "      <td>[calculate, sum]</td>\n",
       "      <td>2</td>\n",
       "      <td>calculate the sum  1 + 3 + 5 +   cdots + 15 + ...</td>\n",
       "      <td>1</td>\n",
       "      <td>15</td>\n",
       "      <td>6</td>\n",
       "      <td>11</td>\n",
       "    </tr>\n",
       "  </tbody>\n",
       "</table>\n",
       "</div>"
      ],
      "text/plain": [
       "                                            Problem   Level   \\\n",
       "0  there are constants    alpha  and    beta  suc...       5   \n",
       "1  the length of the segment between the points  ...       5   \n",
       "2  chewbacca has 20 pieces of cherry gum and 30 p...       5   \n",
       "3  for some constants  a  and  b,  let   [f(x) = ...       5   \n",
       "4  calculate the sum  1 + 3 + 5 +   cdots + 15 + ...       2   \n",
       "\n",
       "                               word  Mword_count  \\\n",
       "0           [constants, frac, frac]            3   \n",
       "1  [length, segment, sqrt, product]            4   \n",
       "2     [ratio, number, number, find]            4   \n",
       "3             [constants, function]            2   \n",
       "4                  [calculate, sum]            2   \n",
       "\n",
       "                                    modified_problem  countsent  allwords  \\\n",
       "0  there are constants    alpha  and    beta  suc...          2        19   \n",
       "1  the length of the segment between the points  ...          2        28   \n",
       "2  chewbacca has 20 pieces of cherry gum and 30 p...          5        81   \n",
       "3  for some constants  a  and  b,  let   [f(x) = ...          2        50   \n",
       "4  calculate the sum  1 + 3 + 5 +   cdots + 15 + ...          1        15   \n",
       "\n",
       "   symbols  numbers  \n",
       "0        3        8  \n",
       "1        1        8  \n",
       "2        1       10  \n",
       "3       11       26  \n",
       "4        6       11  "
      ]
     },
     "execution_count": 40,
     "metadata": {},
     "output_type": "execute_result"
    }
   ],
   "source": [
    "df.head()"
   ]
  },
  {
   "cell_type": "markdown",
   "metadata": {
    "id": "xJoFgZacUY3F"
   },
   "source": [
    "**COUNT OF MATH VOCAB WORD IN EACH SENTENCE ('mathword_count'/'countsent')**\n",
    "* TOTAL MATH VOCAB IN PROBLEM/NUMBER OF SENTENCES IN PROBLEM"
   ]
  },
  {
   "cell_type": "code",
   "execution_count": 41,
   "metadata": {
    "colab": {
     "base_uri": "https://localhost:8080/",
     "height": 206
    },
    "id": "D82TaESqWOSn",
    "outputId": "6b5e4325-10c6-4150-b1d6-0acef6df83b0"
   },
   "outputs": [
    {
     "data": {
      "text/html": [
       "<div>\n",
       "<style scoped>\n",
       "    .dataframe tbody tr th:only-of-type {\n",
       "        vertical-align: middle;\n",
       "    }\n",
       "\n",
       "    .dataframe tbody tr th {\n",
       "        vertical-align: top;\n",
       "    }\n",
       "\n",
       "    .dataframe thead th {\n",
       "        text-align: right;\n",
       "    }\n",
       "</style>\n",
       "<table border=\"1\" class=\"dataframe\">\n",
       "  <thead>\n",
       "    <tr style=\"text-align: right;\">\n",
       "      <th></th>\n",
       "      <th>Problem</th>\n",
       "      <th>Level</th>\n",
       "      <th>word</th>\n",
       "      <th>Mword_count</th>\n",
       "      <th>modified_problem</th>\n",
       "      <th>countsent</th>\n",
       "      <th>allwords</th>\n",
       "      <th>symbols</th>\n",
       "      <th>numbers</th>\n",
       "      <th>mathprop</th>\n",
       "    </tr>\n",
       "  </thead>\n",
       "  <tbody>\n",
       "    <tr>\n",
       "      <th>0</th>\n",
       "      <td>there are constants    alpha  and    beta  suc...</td>\n",
       "      <td>5</td>\n",
       "      <td>[constants, frac, frac]</td>\n",
       "      <td>3</td>\n",
       "      <td>there are constants    alpha  and    beta  suc...</td>\n",
       "      <td>2</td>\n",
       "      <td>19</td>\n",
       "      <td>3</td>\n",
       "      <td>8</td>\n",
       "      <td>1.5</td>\n",
       "    </tr>\n",
       "    <tr>\n",
       "      <th>1</th>\n",
       "      <td>the length of the segment between the points  ...</td>\n",
       "      <td>5</td>\n",
       "      <td>[length, segment, sqrt, product]</td>\n",
       "      <td>4</td>\n",
       "      <td>the length of the segment between the points  ...</td>\n",
       "      <td>2</td>\n",
       "      <td>28</td>\n",
       "      <td>1</td>\n",
       "      <td>8</td>\n",
       "      <td>2.0</td>\n",
       "    </tr>\n",
       "    <tr>\n",
       "      <th>2</th>\n",
       "      <td>chewbacca has 20 pieces of cherry gum and 30 p...</td>\n",
       "      <td>5</td>\n",
       "      <td>[ratio, number, number, find]</td>\n",
       "      <td>4</td>\n",
       "      <td>chewbacca has 20 pieces of cherry gum and 30 p...</td>\n",
       "      <td>5</td>\n",
       "      <td>81</td>\n",
       "      <td>1</td>\n",
       "      <td>10</td>\n",
       "      <td>0.8</td>\n",
       "    </tr>\n",
       "    <tr>\n",
       "      <th>3</th>\n",
       "      <td>for some constants  a  and  b,  let   [f(x) = ...</td>\n",
       "      <td>5</td>\n",
       "      <td>[constants, function]</td>\n",
       "      <td>2</td>\n",
       "      <td>for some constants  a  and  b,  let   [f(x) = ...</td>\n",
       "      <td>2</td>\n",
       "      <td>50</td>\n",
       "      <td>11</td>\n",
       "      <td>26</td>\n",
       "      <td>1.0</td>\n",
       "    </tr>\n",
       "    <tr>\n",
       "      <th>4</th>\n",
       "      <td>calculate the sum  1 + 3 + 5 +   cdots + 15 + ...</td>\n",
       "      <td>2</td>\n",
       "      <td>[calculate, sum]</td>\n",
       "      <td>2</td>\n",
       "      <td>calculate the sum  1 + 3 + 5 +   cdots + 15 + ...</td>\n",
       "      <td>1</td>\n",
       "      <td>15</td>\n",
       "      <td>6</td>\n",
       "      <td>11</td>\n",
       "      <td>2.0</td>\n",
       "    </tr>\n",
       "  </tbody>\n",
       "</table>\n",
       "</div>"
      ],
      "text/plain": [
       "                                            Problem   Level   \\\n",
       "0  there are constants    alpha  and    beta  suc...       5   \n",
       "1  the length of the segment between the points  ...       5   \n",
       "2  chewbacca has 20 pieces of cherry gum and 30 p...       5   \n",
       "3  for some constants  a  and  b,  let   [f(x) = ...       5   \n",
       "4  calculate the sum  1 + 3 + 5 +   cdots + 15 + ...       2   \n",
       "\n",
       "                               word  Mword_count  \\\n",
       "0           [constants, frac, frac]            3   \n",
       "1  [length, segment, sqrt, product]            4   \n",
       "2     [ratio, number, number, find]            4   \n",
       "3             [constants, function]            2   \n",
       "4                  [calculate, sum]            2   \n",
       "\n",
       "                                    modified_problem  countsent  allwords  \\\n",
       "0  there are constants    alpha  and    beta  suc...          2        19   \n",
       "1  the length of the segment between the points  ...          2        28   \n",
       "2  chewbacca has 20 pieces of cherry gum and 30 p...          5        81   \n",
       "3  for some constants  a  and  b,  let   [f(x) = ...          2        50   \n",
       "4  calculate the sum  1 + 3 + 5 +   cdots + 15 + ...          1        15   \n",
       "\n",
       "   symbols  numbers  mathprop  \n",
       "0        3        8       1.5  \n",
       "1        1        8       2.0  \n",
       "2        1       10       0.8  \n",
       "3       11       26       1.0  \n",
       "4        6       11       2.0  "
      ]
     },
     "execution_count": 41,
     "metadata": {},
     "output_type": "execute_result"
    }
   ],
   "source": [
    "df['mathprop'] = df['Mword_count']/df['countsent']\n",
    "df.head()"
   ]
  },
  {
   "cell_type": "markdown",
   "metadata": {
    "id": "FRku62boxqHg"
   },
   "source": [
    "FUNCTION FOR CALCULATING NUMBER OF (CHARACTERS) IN WORD PROBLEM"
   ]
  },
  {
   "cell_type": "code",
   "execution_count": 42,
   "metadata": {
    "id": "7pNLVsppweB9"
   },
   "outputs": [],
   "source": [
    "def count_chars(df_col):\n",
    "  count = 0\n",
    "  for i in df_col:\n",
    "    for j in i:\n",
    "      count = count+1\n",
    "  return count "
   ]
  },
  {
   "cell_type": "code",
   "execution_count": 43,
   "metadata": {
    "id": "EzpSZ132weCH"
   },
   "outputs": [],
   "source": [
    "df['char_sum'] = df['modified_problem'].apply(count_chars)"
   ]
  },
  {
   "cell_type": "code",
   "execution_count": 44,
   "metadata": {},
   "outputs": [
    {
     "data": {
      "text/plain": [
       "'there are constants    alpha  and    beta  such that    frac{x-  alpha}{x+  beta} =   frac{x^2-80x+1551}{x^2+57x-2970} . what is    alpha+  beta ?'"
      ]
     },
     "execution_count": 44,
     "metadata": {},
     "output_type": "execute_result"
    }
   ],
   "source": [
    "df.loc[0,\"modified_problem\"]"
   ]
  },
  {
   "cell_type": "markdown",
   "metadata": {
    "id": "P7-dbCmAzJJl"
   },
   "source": [
    "**word_sum = CMVW**"
   ]
  },
  {
   "cell_type": "code",
   "execution_count": 45,
   "metadata": {
    "colab": {
     "base_uri": "https://localhost:8080/",
     "height": 206
    },
    "id": "0v3Tha5zweCI",
    "outputId": "bbfe4dc2-1d92-4405-8dfa-95eb2db38ac3"
   },
   "outputs": [
    {
     "data": {
      "text/html": [
       "<div>\n",
       "<style scoped>\n",
       "    .dataframe tbody tr th:only-of-type {\n",
       "        vertical-align: middle;\n",
       "    }\n",
       "\n",
       "    .dataframe tbody tr th {\n",
       "        vertical-align: top;\n",
       "    }\n",
       "\n",
       "    .dataframe thead th {\n",
       "        text-align: right;\n",
       "    }\n",
       "</style>\n",
       "<table border=\"1\" class=\"dataframe\">\n",
       "  <thead>\n",
       "    <tr style=\"text-align: right;\">\n",
       "      <th></th>\n",
       "      <th>Problem</th>\n",
       "      <th>Level</th>\n",
       "      <th>word</th>\n",
       "      <th>Mword_count</th>\n",
       "      <th>modified_problem</th>\n",
       "      <th>countsent</th>\n",
       "      <th>allwords</th>\n",
       "      <th>symbols</th>\n",
       "      <th>numbers</th>\n",
       "      <th>mathprop</th>\n",
       "      <th>char_sum</th>\n",
       "    </tr>\n",
       "  </thead>\n",
       "  <tbody>\n",
       "    <tr>\n",
       "      <th>0</th>\n",
       "      <td>there are constants    alpha  and    beta  suc...</td>\n",
       "      <td>5</td>\n",
       "      <td>[constants, frac, frac]</td>\n",
       "      <td>3</td>\n",
       "      <td>there are constants    alpha  and    beta  suc...</td>\n",
       "      <td>2</td>\n",
       "      <td>19</td>\n",
       "      <td>3</td>\n",
       "      <td>8</td>\n",
       "      <td>1.5</td>\n",
       "      <td>146</td>\n",
       "    </tr>\n",
       "    <tr>\n",
       "      <th>1</th>\n",
       "      <td>the length of the segment between the points  ...</td>\n",
       "      <td>5</td>\n",
       "      <td>[length, segment, sqrt, product]</td>\n",
       "      <td>4</td>\n",
       "      <td>the length of the segment between the points  ...</td>\n",
       "      <td>2</td>\n",
       "      <td>28</td>\n",
       "      <td>1</td>\n",
       "      <td>8</td>\n",
       "      <td>2.0</td>\n",
       "      <td>146</td>\n",
       "    </tr>\n",
       "    <tr>\n",
       "      <th>2</th>\n",
       "      <td>chewbacca has 20 pieces of cherry gum and 30 p...</td>\n",
       "      <td>5</td>\n",
       "      <td>[ratio, number, number, find]</td>\n",
       "      <td>4</td>\n",
       "      <td>chewbacca has 20 pieces of cherry gum and 30 p...</td>\n",
       "      <td>5</td>\n",
       "      <td>81</td>\n",
       "      <td>1</td>\n",
       "      <td>10</td>\n",
       "      <td>0.8</td>\n",
       "      <td>404</td>\n",
       "    </tr>\n",
       "    <tr>\n",
       "      <th>3</th>\n",
       "      <td>for some constants  a  and  b,  let   [f(x) = ...</td>\n",
       "      <td>5</td>\n",
       "      <td>[constants, function]</td>\n",
       "      <td>2</td>\n",
       "      <td>for some constants  a  and  b,  let   [f(x) = ...</td>\n",
       "      <td>2</td>\n",
       "      <td>50</td>\n",
       "      <td>11</td>\n",
       "      <td>26</td>\n",
       "      <td>1.0</td>\n",
       "      <td>245</td>\n",
       "    </tr>\n",
       "    <tr>\n",
       "      <th>4</th>\n",
       "      <td>calculate the sum  1 + 3 + 5 +   cdots + 15 + ...</td>\n",
       "      <td>2</td>\n",
       "      <td>[calculate, sum]</td>\n",
       "      <td>2</td>\n",
       "      <td>calculate the sum  1 + 3 + 5 +   cdots + 15 + ...</td>\n",
       "      <td>1</td>\n",
       "      <td>15</td>\n",
       "      <td>6</td>\n",
       "      <td>11</td>\n",
       "      <td>2.0</td>\n",
       "      <td>50</td>\n",
       "    </tr>\n",
       "  </tbody>\n",
       "</table>\n",
       "</div>"
      ],
      "text/plain": [
       "                                            Problem   Level   \\\n",
       "0  there are constants    alpha  and    beta  suc...       5   \n",
       "1  the length of the segment between the points  ...       5   \n",
       "2  chewbacca has 20 pieces of cherry gum and 30 p...       5   \n",
       "3  for some constants  a  and  b,  let   [f(x) = ...       5   \n",
       "4  calculate the sum  1 + 3 + 5 +   cdots + 15 + ...       2   \n",
       "\n",
       "                               word  Mword_count  \\\n",
       "0           [constants, frac, frac]            3   \n",
       "1  [length, segment, sqrt, product]            4   \n",
       "2     [ratio, number, number, find]            4   \n",
       "3             [constants, function]            2   \n",
       "4                  [calculate, sum]            2   \n",
       "\n",
       "                                    modified_problem  countsent  allwords  \\\n",
       "0  there are constants    alpha  and    beta  suc...          2        19   \n",
       "1  the length of the segment between the points  ...          2        28   \n",
       "2  chewbacca has 20 pieces of cherry gum and 30 p...          5        81   \n",
       "3  for some constants  a  and  b,  let   [f(x) = ...          2        50   \n",
       "4  calculate the sum  1 + 3 + 5 +   cdots + 15 + ...          1        15   \n",
       "\n",
       "   symbols  numbers  mathprop  char_sum  \n",
       "0        3        8       1.5       146  \n",
       "1        1        8       2.0       146  \n",
       "2        1       10       0.8       404  \n",
       "3       11       26       1.0       245  \n",
       "4        6       11       2.0        50  "
      ]
     },
     "execution_count": 45,
     "metadata": {},
     "output_type": "execute_result"
    }
   ],
   "source": [
    "df.head()"
   ]
  },
  {
   "cell_type": "code",
   "execution_count": 46,
   "metadata": {},
   "outputs": [],
   "source": [
    "def complex_words(mwl_col):\n",
    "    words = mwl_col.split()\n",
    "    count = 0\n",
    "    for word in words:\n",
    "        if len(word) > 6:\n",
    "            count += 1\n",
    "    return count"
   ]
  },
  {
   "cell_type": "code",
   "execution_count": 47,
   "metadata": {
    "id": "aMceJqDfN0DO"
   },
   "outputs": [],
   "source": [
    "WordsPerSentence = []\n",
    "#MathWordsPerSentence = []\n",
    "MathSymbolsPerSentence = [] \n",
    "NumCountPerSentence = [] "
   ]
  },
  {
   "cell_type": "markdown",
   "metadata": {
    "id": "07jHfzdQU_WF"
   },
   "source": [
    "**CALCULATION OF:**\n",
    "1. WordsPerSentence\n",
    "2. MathSymbolsPerSentence\n",
    "3. NumCountPerSentence "
   ]
  },
  {
   "cell_type": "code",
   "execution_count": 48,
   "metadata": {
    "id": "KwwGgSxxOR3y"
   },
   "outputs": [],
   "source": [
    "for i in df.iloc[:,0]:\n",
    "  s = count_sentences(i)\n",
    "  w = count_allwords(i)\n",
    "  ms = count_symbols(i)\n",
    "  n = count_nums(i) \n",
    "  #mw = word_length(i)\n",
    "\n",
    "  WordsPerSentence.append(w/s)  \n",
    "  MathSymbolsPerSentence.append(ms/s)   \n",
    "  NumCountPerSentence.append(n/s)  \n",
    "  #MathWordsPerSentence.append(mw/s) "
   ]
  },
  {
   "cell_type": "code",
   "execution_count": 49,
   "metadata": {},
   "outputs": [],
   "source": [
    "df_data = pd.DataFrame() \n",
    "df_data[\"WordsPerSentence\"] = WordsPerSentence\n",
    "df_data[\"MathSymbolsPerSentence\"] = MathSymbolsPerSentence\n",
    "df_data[\"NumCountPerSentence\"] = NumCountPerSentence"
   ]
  },
  {
   "cell_type": "code",
   "execution_count": 50,
   "metadata": {},
   "outputs": [
    {
     "data": {
      "text/html": [
       "<div>\n",
       "<style scoped>\n",
       "    .dataframe tbody tr th:only-of-type {\n",
       "        vertical-align: middle;\n",
       "    }\n",
       "\n",
       "    .dataframe tbody tr th {\n",
       "        vertical-align: top;\n",
       "    }\n",
       "\n",
       "    .dataframe thead th {\n",
       "        text-align: right;\n",
       "    }\n",
       "</style>\n",
       "<table border=\"1\" class=\"dataframe\">\n",
       "  <thead>\n",
       "    <tr style=\"text-align: right;\">\n",
       "      <th></th>\n",
       "      <th>Problem</th>\n",
       "      <th>Level</th>\n",
       "      <th>word</th>\n",
       "      <th>Mword_count</th>\n",
       "      <th>modified_problem</th>\n",
       "      <th>countsent</th>\n",
       "      <th>allwords</th>\n",
       "      <th>symbols</th>\n",
       "      <th>numbers</th>\n",
       "      <th>mathprop</th>\n",
       "      <th>char_sum</th>\n",
       "      <th>WordsPerSentence</th>\n",
       "      <th>MathSymbolsPerSentence</th>\n",
       "      <th>NumCountPerSentence</th>\n",
       "    </tr>\n",
       "  </thead>\n",
       "  <tbody>\n",
       "    <tr>\n",
       "      <th>0</th>\n",
       "      <td>there are constants    alpha  and    beta  suc...</td>\n",
       "      <td>5</td>\n",
       "      <td>[constants, frac, frac]</td>\n",
       "      <td>3</td>\n",
       "      <td>there are constants    alpha  and    beta  suc...</td>\n",
       "      <td>2</td>\n",
       "      <td>19</td>\n",
       "      <td>3</td>\n",
       "      <td>8</td>\n",
       "      <td>1.5</td>\n",
       "      <td>146</td>\n",
       "      <td>9.5</td>\n",
       "      <td>1.5</td>\n",
       "      <td>4.0</td>\n",
       "    </tr>\n",
       "    <tr>\n",
       "      <th>1</th>\n",
       "      <td>the length of the segment between the points  ...</td>\n",
       "      <td>5</td>\n",
       "      <td>[length, segment, sqrt, product]</td>\n",
       "      <td>4</td>\n",
       "      <td>the length of the segment between the points  ...</td>\n",
       "      <td>2</td>\n",
       "      <td>28</td>\n",
       "      <td>1</td>\n",
       "      <td>8</td>\n",
       "      <td>2.0</td>\n",
       "      <td>146</td>\n",
       "      <td>14.0</td>\n",
       "      <td>0.5</td>\n",
       "      <td>4.0</td>\n",
       "    </tr>\n",
       "    <tr>\n",
       "      <th>2</th>\n",
       "      <td>chewbacca has 20 pieces of cherry gum and 30 p...</td>\n",
       "      <td>5</td>\n",
       "      <td>[ratio, number, number, find]</td>\n",
       "      <td>4</td>\n",
       "      <td>chewbacca has 20 pieces of cherry gum and 30 p...</td>\n",
       "      <td>5</td>\n",
       "      <td>81</td>\n",
       "      <td>1</td>\n",
       "      <td>10</td>\n",
       "      <td>0.8</td>\n",
       "      <td>404</td>\n",
       "      <td>16.2</td>\n",
       "      <td>0.2</td>\n",
       "      <td>2.0</td>\n",
       "    </tr>\n",
       "    <tr>\n",
       "      <th>3</th>\n",
       "      <td>for some constants  a  and  b,  let   [f(x) = ...</td>\n",
       "      <td>5</td>\n",
       "      <td>[constants, function]</td>\n",
       "      <td>2</td>\n",
       "      <td>for some constants  a  and  b,  let   [f(x) = ...</td>\n",
       "      <td>2</td>\n",
       "      <td>50</td>\n",
       "      <td>11</td>\n",
       "      <td>26</td>\n",
       "      <td>1.0</td>\n",
       "      <td>245</td>\n",
       "      <td>25.0</td>\n",
       "      <td>5.5</td>\n",
       "      <td>13.0</td>\n",
       "    </tr>\n",
       "    <tr>\n",
       "      <th>4</th>\n",
       "      <td>calculate the sum  1 + 3 + 5 +   cdots + 15 + ...</td>\n",
       "      <td>2</td>\n",
       "      <td>[calculate, sum]</td>\n",
       "      <td>2</td>\n",
       "      <td>calculate the sum  1 + 3 + 5 +   cdots + 15 + ...</td>\n",
       "      <td>1</td>\n",
       "      <td>15</td>\n",
       "      <td>6</td>\n",
       "      <td>11</td>\n",
       "      <td>2.0</td>\n",
       "      <td>50</td>\n",
       "      <td>15.0</td>\n",
       "      <td>6.0</td>\n",
       "      <td>11.0</td>\n",
       "    </tr>\n",
       "  </tbody>\n",
       "</table>\n",
       "</div>"
      ],
      "text/plain": [
       "                                            Problem   Level   \\\n",
       "0  there are constants    alpha  and    beta  suc...       5   \n",
       "1  the length of the segment between the points  ...       5   \n",
       "2  chewbacca has 20 pieces of cherry gum and 30 p...       5   \n",
       "3  for some constants  a  and  b,  let   [f(x) = ...       5   \n",
       "4  calculate the sum  1 + 3 + 5 +   cdots + 15 + ...       2   \n",
       "\n",
       "                               word  Mword_count  \\\n",
       "0           [constants, frac, frac]            3   \n",
       "1  [length, segment, sqrt, product]            4   \n",
       "2     [ratio, number, number, find]            4   \n",
       "3             [constants, function]            2   \n",
       "4                  [calculate, sum]            2   \n",
       "\n",
       "                                    modified_problem  countsent  allwords  \\\n",
       "0  there are constants    alpha  and    beta  suc...          2        19   \n",
       "1  the length of the segment between the points  ...          2        28   \n",
       "2  chewbacca has 20 pieces of cherry gum and 30 p...          5        81   \n",
       "3  for some constants  a  and  b,  let   [f(x) = ...          2        50   \n",
       "4  calculate the sum  1 + 3 + 5 +   cdots + 15 + ...          1        15   \n",
       "\n",
       "   symbols  numbers  mathprop  char_sum  WordsPerSentence  \\\n",
       "0        3        8       1.5       146               9.5   \n",
       "1        1        8       2.0       146              14.0   \n",
       "2        1       10       0.8       404              16.2   \n",
       "3       11       26       1.0       245              25.0   \n",
       "4        6       11       2.0        50              15.0   \n",
       "\n",
       "   MathSymbolsPerSentence  NumCountPerSentence  \n",
       "0                     1.5                  4.0  \n",
       "1                     0.5                  4.0  \n",
       "2                     0.2                  2.0  \n",
       "3                     5.5                 13.0  \n",
       "4                     6.0                 11.0  "
      ]
     },
     "execution_count": 50,
     "metadata": {},
     "output_type": "execute_result"
    }
   ],
   "source": [
    "df_data=pd.concat([df,df_data],axis=1)\n",
    "df_data.head(5)"
   ]
  },
  {
   "cell_type": "markdown",
   "metadata": {
    "id": "bTut7fyn5MbU"
   },
   "source": [
    "**FUNCTION TO COUNT SYLLABLES IN EACH WORD PROBLEM**"
   ]
  },
  {
   "cell_type": "markdown",
   "metadata": {
    "id": "Fs0J--il5U5h"
   },
   "source": [
    "**Counted number of syllables.**"
   ]
  },
  {
   "cell_type": "code",
   "execution_count": 51,
   "metadata": {
    "id": "baUkHGE1X-iU"
   },
   "outputs": [],
   "source": [
    "def syllable_count(df_col):\n",
    "    df_col = df_col.lower()\n",
    "    count = 0\n",
    "    vowels = \"aeiou\"\n",
    "    if df_col[0] in vowels:\n",
    "        count += 1\n",
    "    for index in range(1, len(df_col)):\n",
    "        if df_col[index] in vowels and df_col[index - 1] not in vowels:\n",
    "            count += 1\n",
    "    if df_col.endswith(\"e\"):\n",
    "        count -= 1\n",
    "    if count == 0:\n",
    "        count += 1\n",
    "    return count"
   ]
  },
  {
   "cell_type": "code",
   "execution_count": 52,
   "metadata": {
    "id": "-hzCMVh15Lpx"
   },
   "outputs": [],
   "source": [
    "df_data['syllables'] = df_data['Problem '].apply(syllable_count)"
   ]
  },
  {
   "cell_type": "code",
   "execution_count": 53,
   "metadata": {
    "colab": {
     "base_uri": "https://localhost:8080/",
     "height": 337
    },
    "id": "BMNKL5BR5Ls8",
    "outputId": "ba6ccae8-eebf-49ad-9bbf-c5f0c7ac158b"
   },
   "outputs": [
    {
     "data": {
      "text/html": [
       "<div>\n",
       "<style scoped>\n",
       "    .dataframe tbody tr th:only-of-type {\n",
       "        vertical-align: middle;\n",
       "    }\n",
       "\n",
       "    .dataframe tbody tr th {\n",
       "        vertical-align: top;\n",
       "    }\n",
       "\n",
       "    .dataframe thead th {\n",
       "        text-align: right;\n",
       "    }\n",
       "</style>\n",
       "<table border=\"1\" class=\"dataframe\">\n",
       "  <thead>\n",
       "    <tr style=\"text-align: right;\">\n",
       "      <th></th>\n",
       "      <th>Problem</th>\n",
       "      <th>Level</th>\n",
       "      <th>word</th>\n",
       "      <th>Mword_count</th>\n",
       "      <th>modified_problem</th>\n",
       "      <th>countsent</th>\n",
       "      <th>allwords</th>\n",
       "      <th>symbols</th>\n",
       "      <th>numbers</th>\n",
       "      <th>mathprop</th>\n",
       "      <th>char_sum</th>\n",
       "      <th>WordsPerSentence</th>\n",
       "      <th>MathSymbolsPerSentence</th>\n",
       "      <th>NumCountPerSentence</th>\n",
       "      <th>syllables</th>\n",
       "    </tr>\n",
       "  </thead>\n",
       "  <tbody>\n",
       "    <tr>\n",
       "      <th>0</th>\n",
       "      <td>there are constants    alpha  and    beta  suc...</td>\n",
       "      <td>5</td>\n",
       "      <td>[constants, frac, frac]</td>\n",
       "      <td>3</td>\n",
       "      <td>there are constants    alpha  and    beta  suc...</td>\n",
       "      <td>2</td>\n",
       "      <td>19</td>\n",
       "      <td>3</td>\n",
       "      <td>8</td>\n",
       "      <td>1.5</td>\n",
       "      <td>146</td>\n",
       "      <td>9.5</td>\n",
       "      <td>1.5</td>\n",
       "      <td>4.0</td>\n",
       "      <td>25</td>\n",
       "    </tr>\n",
       "    <tr>\n",
       "      <th>1</th>\n",
       "      <td>the length of the segment between the points  ...</td>\n",
       "      <td>5</td>\n",
       "      <td>[length, segment, sqrt, product]</td>\n",
       "      <td>4</td>\n",
       "      <td>the length of the segment between the points  ...</td>\n",
       "      <td>2</td>\n",
       "      <td>28</td>\n",
       "      <td>1</td>\n",
       "      <td>8</td>\n",
       "      <td>2.0</td>\n",
       "      <td>146</td>\n",
       "      <td>14.0</td>\n",
       "      <td>0.5</td>\n",
       "      <td>4.0</td>\n",
       "      <td>30</td>\n",
       "    </tr>\n",
       "    <tr>\n",
       "      <th>2</th>\n",
       "      <td>chewbacca has 20 pieces of cherry gum and 30 p...</td>\n",
       "      <td>5</td>\n",
       "      <td>[ratio, number, number, find]</td>\n",
       "      <td>4</td>\n",
       "      <td>chewbacca has 20 pieces of cherry gum and 30 p...</td>\n",
       "      <td>5</td>\n",
       "      <td>81</td>\n",
       "      <td>1</td>\n",
       "      <td>10</td>\n",
       "      <td>0.8</td>\n",
       "      <td>404</td>\n",
       "      <td>16.2</td>\n",
       "      <td>0.2</td>\n",
       "      <td>2.0</td>\n",
       "      <td>107</td>\n",
       "    </tr>\n",
       "    <tr>\n",
       "      <th>3</th>\n",
       "      <td>for some constants  a  and  b,  let   [f(x) = ...</td>\n",
       "      <td>5</td>\n",
       "      <td>[constants, function]</td>\n",
       "      <td>2</td>\n",
       "      <td>for some constants  a  and  b,  let   [f(x) = ...</td>\n",
       "      <td>2</td>\n",
       "      <td>50</td>\n",
       "      <td>11</td>\n",
       "      <td>26</td>\n",
       "      <td>1.0</td>\n",
       "      <td>245</td>\n",
       "      <td>25.0</td>\n",
       "      <td>5.5</td>\n",
       "      <td>13.0</td>\n",
       "      <td>36</td>\n",
       "    </tr>\n",
       "    <tr>\n",
       "      <th>4</th>\n",
       "      <td>calculate the sum  1 + 3 + 5 +   cdots + 15 + ...</td>\n",
       "      <td>2</td>\n",
       "      <td>[calculate, sum]</td>\n",
       "      <td>2</td>\n",
       "      <td>calculate the sum  1 + 3 + 5 +   cdots + 15 + ...</td>\n",
       "      <td>1</td>\n",
       "      <td>15</td>\n",
       "      <td>6</td>\n",
       "      <td>11</td>\n",
       "      <td>2.0</td>\n",
       "      <td>50</td>\n",
       "      <td>15.0</td>\n",
       "      <td>6.0</td>\n",
       "      <td>11.0</td>\n",
       "      <td>7</td>\n",
       "    </tr>\n",
       "  </tbody>\n",
       "</table>\n",
       "</div>"
      ],
      "text/plain": [
       "                                            Problem   Level   \\\n",
       "0  there are constants    alpha  and    beta  suc...       5   \n",
       "1  the length of the segment between the points  ...       5   \n",
       "2  chewbacca has 20 pieces of cherry gum and 30 p...       5   \n",
       "3  for some constants  a  and  b,  let   [f(x) = ...       5   \n",
       "4  calculate the sum  1 + 3 + 5 +   cdots + 15 + ...       2   \n",
       "\n",
       "                               word  Mword_count  \\\n",
       "0           [constants, frac, frac]            3   \n",
       "1  [length, segment, sqrt, product]            4   \n",
       "2     [ratio, number, number, find]            4   \n",
       "3             [constants, function]            2   \n",
       "4                  [calculate, sum]            2   \n",
       "\n",
       "                                    modified_problem  countsent  allwords  \\\n",
       "0  there are constants    alpha  and    beta  suc...          2        19   \n",
       "1  the length of the segment between the points  ...          2        28   \n",
       "2  chewbacca has 20 pieces of cherry gum and 30 p...          5        81   \n",
       "3  for some constants  a  and  b,  let   [f(x) = ...          2        50   \n",
       "4  calculate the sum  1 + 3 + 5 +   cdots + 15 + ...          1        15   \n",
       "\n",
       "   symbols  numbers  mathprop  char_sum  WordsPerSentence  \\\n",
       "0        3        8       1.5       146               9.5   \n",
       "1        1        8       2.0       146              14.0   \n",
       "2        1       10       0.8       404              16.2   \n",
       "3       11       26       1.0       245              25.0   \n",
       "4        6       11       2.0        50              15.0   \n",
       "\n",
       "   MathSymbolsPerSentence  NumCountPerSentence  syllables  \n",
       "0                     1.5                  4.0         25  \n",
       "1                     0.5                  4.0         30  \n",
       "2                     0.2                  2.0        107  \n",
       "3                     5.5                 13.0         36  \n",
       "4                     6.0                 11.0          7  "
      ]
     },
     "execution_count": 53,
     "metadata": {},
     "output_type": "execute_result"
    }
   ],
   "source": [
    "df_data.head()"
   ]
  },
  {
   "cell_type": "markdown",
   "metadata": {
    "id": "P8SegGi67bkq"
   },
   "source": [
    "**FUNCTION TO COUNT OF POLY SYLLABLES IN EACH WORD PROBLEM**"
   ]
  },
  {
   "cell_type": "code",
   "execution_count": 54,
   "metadata": {
    "id": "Yy7PimsR5Lvg"
   },
   "outputs": [],
   "source": [
    "def count_poly_syllables(df_col):\n",
    "  total_count = 0\n",
    "  df_col = df_col.split()\n",
    "  for word in df_col: \n",
    "    #print(word)\n",
    "    temp = syllable_count(word)\n",
    "    if temp>=3:\n",
    "      total_count = total_count+temp\n",
    "  return total_count"
   ]
  },
  {
   "cell_type": "code",
   "execution_count": 55,
   "metadata": {
    "id": "BL9xK3rx5LyD"
   },
   "outputs": [],
   "source": [
    "df_data['poly_syllables'] = df_data['Problem '].apply(count_poly_syllables)"
   ]
  },
  {
   "cell_type": "code",
   "execution_count": 56,
   "metadata": {
    "colab": {
     "base_uri": "https://localhost:8080/",
     "height": 600
    },
    "id": "jBTgPvFf5L0I",
    "outputId": "5163f503-2725-4fe1-a534-f04a6b831708"
   },
   "outputs": [
    {
     "data": {
      "text/html": [
       "<div>\n",
       "<style scoped>\n",
       "    .dataframe tbody tr th:only-of-type {\n",
       "        vertical-align: middle;\n",
       "    }\n",
       "\n",
       "    .dataframe tbody tr th {\n",
       "        vertical-align: top;\n",
       "    }\n",
       "\n",
       "    .dataframe thead th {\n",
       "        text-align: right;\n",
       "    }\n",
       "</style>\n",
       "<table border=\"1\" class=\"dataframe\">\n",
       "  <thead>\n",
       "    <tr style=\"text-align: right;\">\n",
       "      <th></th>\n",
       "      <th>Problem</th>\n",
       "      <th>Level</th>\n",
       "      <th>word</th>\n",
       "      <th>Mword_count</th>\n",
       "      <th>modified_problem</th>\n",
       "      <th>countsent</th>\n",
       "      <th>allwords</th>\n",
       "      <th>symbols</th>\n",
       "      <th>numbers</th>\n",
       "      <th>mathprop</th>\n",
       "      <th>char_sum</th>\n",
       "      <th>WordsPerSentence</th>\n",
       "      <th>MathSymbolsPerSentence</th>\n",
       "      <th>NumCountPerSentence</th>\n",
       "      <th>syllables</th>\n",
       "      <th>poly_syllables</th>\n",
       "    </tr>\n",
       "  </thead>\n",
       "  <tbody>\n",
       "    <tr>\n",
       "      <th>0</th>\n",
       "      <td>there are constants    alpha  and    beta  suc...</td>\n",
       "      <td>5</td>\n",
       "      <td>[constants, frac, frac]</td>\n",
       "      <td>3</td>\n",
       "      <td>there are constants    alpha  and    beta  suc...</td>\n",
       "      <td>2</td>\n",
       "      <td>19</td>\n",
       "      <td>3</td>\n",
       "      <td>8</td>\n",
       "      <td>1.5</td>\n",
       "      <td>146</td>\n",
       "      <td>9.5</td>\n",
       "      <td>1.5</td>\n",
       "      <td>4.0</td>\n",
       "      <td>25</td>\n",
       "      <td>0</td>\n",
       "    </tr>\n",
       "    <tr>\n",
       "      <th>1</th>\n",
       "      <td>the length of the segment between the points  ...</td>\n",
       "      <td>5</td>\n",
       "      <td>[length, segment, sqrt, product]</td>\n",
       "      <td>4</td>\n",
       "      <td>the length of the segment between the points  ...</td>\n",
       "      <td>2</td>\n",
       "      <td>28</td>\n",
       "      <td>1</td>\n",
       "      <td>8</td>\n",
       "      <td>2.0</td>\n",
       "      <td>146</td>\n",
       "      <td>14.0</td>\n",
       "      <td>0.5</td>\n",
       "      <td>4.0</td>\n",
       "      <td>30</td>\n",
       "      <td>0</td>\n",
       "    </tr>\n",
       "    <tr>\n",
       "      <th>2</th>\n",
       "      <td>chewbacca has 20 pieces of cherry gum and 30 p...</td>\n",
       "      <td>5</td>\n",
       "      <td>[ratio, number, number, find]</td>\n",
       "      <td>4</td>\n",
       "      <td>chewbacca has 20 pieces of cherry gum and 30 p...</td>\n",
       "      <td>5</td>\n",
       "      <td>81</td>\n",
       "      <td>1</td>\n",
       "      <td>10</td>\n",
       "      <td>0.8</td>\n",
       "      <td>404</td>\n",
       "      <td>16.2</td>\n",
       "      <td>0.2</td>\n",
       "      <td>2.0</td>\n",
       "      <td>107</td>\n",
       "      <td>6</td>\n",
       "    </tr>\n",
       "    <tr>\n",
       "      <th>3</th>\n",
       "      <td>for some constants  a  and  b,  let   [f(x) = ...</td>\n",
       "      <td>5</td>\n",
       "      <td>[constants, function]</td>\n",
       "      <td>2</td>\n",
       "      <td>for some constants  a  and  b,  let   [f(x) = ...</td>\n",
       "      <td>2</td>\n",
       "      <td>50</td>\n",
       "      <td>11</td>\n",
       "      <td>26</td>\n",
       "      <td>1.0</td>\n",
       "      <td>245</td>\n",
       "      <td>25.0</td>\n",
       "      <td>5.5</td>\n",
       "      <td>13.0</td>\n",
       "      <td>36</td>\n",
       "      <td>7</td>\n",
       "    </tr>\n",
       "    <tr>\n",
       "      <th>4</th>\n",
       "      <td>calculate the sum  1 + 3 + 5 +   cdots + 15 + ...</td>\n",
       "      <td>2</td>\n",
       "      <td>[calculate, sum]</td>\n",
       "      <td>2</td>\n",
       "      <td>calculate the sum  1 + 3 + 5 +   cdots + 15 + ...</td>\n",
       "      <td>1</td>\n",
       "      <td>15</td>\n",
       "      <td>6</td>\n",
       "      <td>11</td>\n",
       "      <td>2.0</td>\n",
       "      <td>50</td>\n",
       "      <td>15.0</td>\n",
       "      <td>6.0</td>\n",
       "      <td>11.0</td>\n",
       "      <td>7</td>\n",
       "      <td>3</td>\n",
       "    </tr>\n",
       "  </tbody>\n",
       "</table>\n",
       "</div>"
      ],
      "text/plain": [
       "                                            Problem   Level   \\\n",
       "0  there are constants    alpha  and    beta  suc...       5   \n",
       "1  the length of the segment between the points  ...       5   \n",
       "2  chewbacca has 20 pieces of cherry gum and 30 p...       5   \n",
       "3  for some constants  a  and  b,  let   [f(x) = ...       5   \n",
       "4  calculate the sum  1 + 3 + 5 +   cdots + 15 + ...       2   \n",
       "\n",
       "                               word  Mword_count  \\\n",
       "0           [constants, frac, frac]            3   \n",
       "1  [length, segment, sqrt, product]            4   \n",
       "2     [ratio, number, number, find]            4   \n",
       "3             [constants, function]            2   \n",
       "4                  [calculate, sum]            2   \n",
       "\n",
       "                                    modified_problem  countsent  allwords  \\\n",
       "0  there are constants    alpha  and    beta  suc...          2        19   \n",
       "1  the length of the segment between the points  ...          2        28   \n",
       "2  chewbacca has 20 pieces of cherry gum and 30 p...          5        81   \n",
       "3  for some constants  a  and  b,  let   [f(x) = ...          2        50   \n",
       "4  calculate the sum  1 + 3 + 5 +   cdots + 15 + ...          1        15   \n",
       "\n",
       "   symbols  numbers  mathprop  char_sum  WordsPerSentence  \\\n",
       "0        3        8       1.5       146               9.5   \n",
       "1        1        8       2.0       146              14.0   \n",
       "2        1       10       0.8       404              16.2   \n",
       "3       11       26       1.0       245              25.0   \n",
       "4        6       11       2.0        50              15.0   \n",
       "\n",
       "   MathSymbolsPerSentence  NumCountPerSentence  syllables  poly_syllables  \n",
       "0                     1.5                  4.0         25               0  \n",
       "1                     0.5                  4.0         30               0  \n",
       "2                     0.2                  2.0        107               6  \n",
       "3                     5.5                 13.0         36               7  \n",
       "4                     6.0                 11.0          7               3  "
      ]
     },
     "execution_count": 56,
     "metadata": {},
     "output_type": "execute_result"
    }
   ],
   "source": [
    "df_data.head()"
   ]
  },
  {
   "cell_type": "markdown",
   "metadata": {
    "id": "xJgtOa75986o"
   },
   "source": [
    "1. count_sentences = number of sentences in word Problem\n",
    "2. count_allwords = all words in word Problem\n",
    "3. count_symbols = math symbols in word Problem\n",
    "4. count_nums = count numbers in word Problem\n",
    "5. syllable_count = number of syllables in word problem\n",
    "6. count_poly_syllables = number of poly syllables in word problem\n",
    "7. count_char = total characters in word Problem\n"
   ]
  },
  {
   "cell_type": "markdown",
   "metadata": {},
   "source": [
    "### Experiment 1: Use only math scores to predict the levels"
   ]
  },
  {
   "cell_type": "code",
   "execution_count": 57,
   "metadata": {},
   "outputs": [
    {
     "data": {
      "text/plain": [
       "Index(['Problem ', 'Level ', 'word', 'Mword_count', 'modified_problem',\n",
       "       'countsent', 'allwords', 'symbols', 'numbers', 'mathprop', 'char_sum',\n",
       "       'WordsPerSentence', 'MathSymbolsPerSentence', 'NumCountPerSentence',\n",
       "       'syllables', 'poly_syllables'],\n",
       "      dtype='object')"
      ]
     },
     "execution_count": 57,
     "metadata": {},
     "output_type": "execute_result"
    }
   ],
   "source": [
    "df_data.columns"
   ]
  },
  {
   "cell_type": "code",
   "execution_count": 58,
   "metadata": {
    "scrolled": true
   },
   "outputs": [
    {
     "data": {
      "text/html": [
       "<div>\n",
       "<style scoped>\n",
       "    .dataframe tbody tr th:only-of-type {\n",
       "        vertical-align: middle;\n",
       "    }\n",
       "\n",
       "    .dataframe tbody tr th {\n",
       "        vertical-align: top;\n",
       "    }\n",
       "\n",
       "    .dataframe thead th {\n",
       "        text-align: right;\n",
       "    }\n",
       "</style>\n",
       "<table border=\"1\" class=\"dataframe\">\n",
       "  <thead>\n",
       "    <tr style=\"text-align: right;\">\n",
       "      <th></th>\n",
       "      <th>Level</th>\n",
       "      <th>Mword_count</th>\n",
       "      <th>mathprop</th>\n",
       "      <th>MathSymbolsPerSentence</th>\n",
       "      <th>NumCountPerSentence</th>\n",
       "    </tr>\n",
       "  </thead>\n",
       "  <tbody>\n",
       "    <tr>\n",
       "      <th>0</th>\n",
       "      <td>5</td>\n",
       "      <td>3</td>\n",
       "      <td>1.5</td>\n",
       "      <td>1.5</td>\n",
       "      <td>4.0</td>\n",
       "    </tr>\n",
       "    <tr>\n",
       "      <th>1</th>\n",
       "      <td>5</td>\n",
       "      <td>4</td>\n",
       "      <td>2.0</td>\n",
       "      <td>0.5</td>\n",
       "      <td>4.0</td>\n",
       "    </tr>\n",
       "    <tr>\n",
       "      <th>2</th>\n",
       "      <td>5</td>\n",
       "      <td>4</td>\n",
       "      <td>0.8</td>\n",
       "      <td>0.2</td>\n",
       "      <td>2.0</td>\n",
       "    </tr>\n",
       "    <tr>\n",
       "      <th>3</th>\n",
       "      <td>5</td>\n",
       "      <td>2</td>\n",
       "      <td>1.0</td>\n",
       "      <td>5.5</td>\n",
       "      <td>13.0</td>\n",
       "    </tr>\n",
       "    <tr>\n",
       "      <th>4</th>\n",
       "      <td>2</td>\n",
       "      <td>2</td>\n",
       "      <td>2.0</td>\n",
       "      <td>6.0</td>\n",
       "      <td>11.0</td>\n",
       "    </tr>\n",
       "  </tbody>\n",
       "</table>\n",
       "</div>"
      ],
      "text/plain": [
       "   Level   Mword_count  mathprop  MathSymbolsPerSentence  NumCountPerSentence\n",
       "0       5            3       1.5                     1.5                  4.0\n",
       "1       5            4       2.0                     0.5                  4.0\n",
       "2       5            4       0.8                     0.2                  2.0\n",
       "3       5            2       1.0                     5.5                 13.0\n",
       "4       2            2       2.0                     6.0                 11.0"
      ]
     },
     "execution_count": 58,
     "metadata": {},
     "output_type": "execute_result"
    }
   ],
   "source": [
    "###### Required data\n",
    "cols=['Level ','Mword_count','mathprop','MathSymbolsPerSentence','NumCountPerSentence']\n",
    "math_data=df_data[cols]\n",
    "math_data.head()"
   ]
  },
  {
   "cell_type": "code",
   "execution_count": 59,
   "metadata": {},
   "outputs": [],
   "source": [
    "#### \n",
    "X_train,X_test,y_train,y_test=train_test_split(math_data.iloc[:,1:],math_data.iloc[:,0],test_size=0.2,random_state=42)"
   ]
  },
  {
   "cell_type": "code",
   "execution_count": 60,
   "metadata": {},
   "outputs": [
    {
     "name": "stdout",
     "output_type": "stream",
     "text": [
      "5    349\n",
      "4    320\n",
      "3    314\n",
      "2    275\n",
      "1    137\n",
      "Name: Level , dtype: int64\n",
      "\n",
      "\n",
      "3    669\n",
      "1    412\n",
      "2    314\n",
      "Name: Level , dtype: int64\n"
     ]
    }
   ],
   "source": [
    "y1_train=y_train.replace({2:1,3:2,4:3,5:3})\n",
    "print(y_train.value_counts())\n",
    "print(\"\\n\")\n",
    "print(y1_train.value_counts())"
   ]
  },
  {
   "cell_type": "code",
   "execution_count": 61,
   "metadata": {},
   "outputs": [],
   "source": [
    "y1_test=y_test.replace({2:1,3:2,4:3,5:3})"
   ]
  },
  {
   "cell_type": "code",
   "execution_count": 62,
   "metadata": {},
   "outputs": [
    {
     "data": {
      "text/plain": [
       "DecisionTreeClassifier(class_weight='balanced', max_depth=5)"
      ]
     },
     "execution_count": 62,
     "metadata": {},
     "output_type": "execute_result"
    }
   ],
   "source": [
    "### Test on 5 levels\n",
    "mod_dt=DecisionTreeClassifier(class_weight='balanced',max_depth=5)\n",
    "mod_dt.fit(X_train,y_train)"
   ]
  },
  {
   "cell_type": "code",
   "execution_count": 63,
   "metadata": {},
   "outputs": [
    {
     "name": "stdout",
     "output_type": "stream",
     "text": [
      "              precision    recall  f1-score   support\n",
      "\n",
      "           1       0.21      0.71      0.32       137\n",
      "           2       0.36      0.23      0.28       275\n",
      "           3       0.48      0.11      0.18       314\n",
      "           4       0.40      0.18      0.25       320\n",
      "           5       0.40      0.61      0.48       349\n",
      "\n",
      "    accuracy                           0.33      1395\n",
      "   macro avg       0.37      0.37      0.30      1395\n",
      "weighted avg       0.39      0.33      0.31      1395\n",
      "\n",
      "\n",
      "\n",
      "              precision    recall  f1-score   support\n",
      "\n",
      "           1       0.24      0.68      0.36        41\n",
      "           2       0.30      0.25      0.27        65\n",
      "           3       0.29      0.09      0.14        78\n",
      "           4       0.38      0.12      0.18        78\n",
      "           5       0.33      0.49      0.39        87\n",
      "\n",
      "    accuracy                           0.30       349\n",
      "   macro avg       0.31      0.33      0.27       349\n",
      "weighted avg       0.31      0.30      0.26       349\n",
      "\n"
     ]
    }
   ],
   "source": [
    "## Predictions\n",
    "tr_pred=mod_dt.predict(X_train)\n",
    "te_pred=mod_dt.predict(X_test)\n",
    "\n",
    "print(classification_report(y_train,tr_pred))\n",
    "print(\"\\n\")\n",
    "print(classification_report(y_test,te_pred))\n"
   ]
  },
  {
   "cell_type": "code",
   "execution_count": 64,
   "metadata": {},
   "outputs": [
    {
     "name": "stdout",
     "output_type": "stream",
     "text": [
      "              precision    recall  f1-score   support\n",
      "\n",
      "           1       0.48      0.58      0.52       412\n",
      "           2       0.36      0.37      0.37       314\n",
      "           3       0.66      0.56      0.61       669\n",
      "\n",
      "    accuracy                           0.52      1395\n",
      "   macro avg       0.50      0.50      0.50      1395\n",
      "weighted avg       0.54      0.52      0.53      1395\n",
      "\n",
      "\n",
      "\n",
      "              precision    recall  f1-score   support\n",
      "\n",
      "           1       0.46      0.53      0.49       106\n",
      "           2       0.26      0.31      0.28        78\n",
      "           3       0.62      0.50      0.56       165\n",
      "\n",
      "    accuracy                           0.47       349\n",
      "   macro avg       0.45      0.45      0.44       349\n",
      "weighted avg       0.49      0.47      0.47       349\n",
      "\n"
     ]
    }
   ],
   "source": [
    "### on 3 classes\n",
    "mod_dt=DecisionTreeClassifier(class_weight='balanced',max_depth=5)\n",
    "mod_dt.fit(X_train,y1_train)\n",
    "\n",
    "tr_pred=mod_dt.predict(X_train)\n",
    "te_pred=mod_dt.predict(X_test)\n",
    "\n",
    "print(classification_report(y1_train,tr_pred))\n",
    "print(\"\\n\")\n",
    "print(classification_report(y1_test,te_pred))\n"
   ]
  },
  {
   "cell_type": "code",
   "execution_count": 65,
   "metadata": {},
   "outputs": [
    {
     "data": {
      "text/html": [
       "<div>\n",
       "<style scoped>\n",
       "    .dataframe tbody tr th:only-of-type {\n",
       "        vertical-align: middle;\n",
       "    }\n",
       "\n",
       "    .dataframe tbody tr th {\n",
       "        vertical-align: top;\n",
       "    }\n",
       "\n",
       "    .dataframe thead th {\n",
       "        text-align: right;\n",
       "    }\n",
       "</style>\n",
       "<table border=\"1\" class=\"dataframe\">\n",
       "  <thead>\n",
       "    <tr style=\"text-align: right;\">\n",
       "      <th></th>\n",
       "      <th>Mword_count</th>\n",
       "      <th>mathprop</th>\n",
       "      <th>MathSymbolsPerSentence</th>\n",
       "      <th>NumCountPerSentence</th>\n",
       "      <th>Level</th>\n",
       "    </tr>\n",
       "  </thead>\n",
       "  <tbody>\n",
       "    <tr>\n",
       "      <th>864</th>\n",
       "      <td>3</td>\n",
       "      <td>1.5</td>\n",
       "      <td>0.5</td>\n",
       "      <td>2.5</td>\n",
       "      <td>5</td>\n",
       "    </tr>\n",
       "    <tr>\n",
       "      <th>310</th>\n",
       "      <td>3</td>\n",
       "      <td>3.0</td>\n",
       "      <td>4.0</td>\n",
       "      <td>7.0</td>\n",
       "      <td>5</td>\n",
       "    </tr>\n",
       "    <tr>\n",
       "      <th>56</th>\n",
       "      <td>1</td>\n",
       "      <td>1.0</td>\n",
       "      <td>3.0</td>\n",
       "      <td>13.0</td>\n",
       "      <td>4</td>\n",
       "    </tr>\n",
       "    <tr>\n",
       "      <th>1736</th>\n",
       "      <td>4</td>\n",
       "      <td>2.0</td>\n",
       "      <td>0.5</td>\n",
       "      <td>2.0</td>\n",
       "      <td>5</td>\n",
       "    </tr>\n",
       "    <tr>\n",
       "      <th>1138</th>\n",
       "      <td>3</td>\n",
       "      <td>3.0</td>\n",
       "      <td>1.0</td>\n",
       "      <td>2.0</td>\n",
       "      <td>5</td>\n",
       "    </tr>\n",
       "  </tbody>\n",
       "</table>\n",
       "</div>"
      ],
      "text/plain": [
       "      Mword_count  mathprop  MathSymbolsPerSentence  NumCountPerSentence  \\\n",
       "864             3       1.5                     0.5                  2.5   \n",
       "310             3       3.0                     4.0                  7.0   \n",
       "56              1       1.0                     3.0                 13.0   \n",
       "1736            4       2.0                     0.5                  2.0   \n",
       "1138            3       3.0                     1.0                  2.0   \n",
       "\n",
       "      Level   \n",
       "864        5  \n",
       "310        5  \n",
       "56         4  \n",
       "1736       5  \n",
       "1138       5  "
      ]
     },
     "execution_count": 65,
     "metadata": {},
     "output_type": "execute_result"
    }
   ],
   "source": [
    "### Ordered Regression on 5 classes\n",
    "\n",
    "ord_data=pd.concat([X_train,y_train],axis=1)\n",
    "ord_data.head()"
   ]
  },
  {
   "cell_type": "code",
   "execution_count": 66,
   "metadata": {},
   "outputs": [
    {
     "data": {
      "text/plain": [
       "Index(['Mword_count', 'mathprop', 'MathSymbolsPerSentence',\n",
       "       'NumCountPerSentence', 'Level '],\n",
       "      dtype='object')"
      ]
     },
     "execution_count": 66,
     "metadata": {},
     "output_type": "execute_result"
    }
   ],
   "source": [
    "ord_data.columns"
   ]
  },
  {
   "cell_type": "code",
   "execution_count": 67,
   "metadata": {},
   "outputs": [
    {
     "name": "stdout",
     "output_type": "stream",
     "text": [
      "Optimization terminated successfully.\n",
      "         Current function value: 1.517891\n",
      "         Iterations: 19\n",
      "         Function evaluations: 21\n",
      "         Gradient evaluations: 21\n"
     ]
    },
    {
     "data": {
      "text/html": [
       "<table class=\"simpletable\">\n",
       "<caption>OrderedModel Results</caption>\n",
       "<tr>\n",
       "  <th>Dep. Variable:</th>          <td>Level </td>       <th>  Log-Likelihood:    </th> <td> -2117.5</td>\n",
       "</tr>\n",
       "<tr>\n",
       "  <th>Model:</th>               <td>OrderedModel</td>    <th>  AIC:               </th> <td>   4251.</td>\n",
       "</tr>\n",
       "<tr>\n",
       "  <th>Method:</th>           <td>Maximum Likelihood</td> <th>  BIC:               </th> <td>   4293.</td>\n",
       "</tr>\n",
       "<tr>\n",
       "  <th>Date:</th>              <td>Tue, 13 Jun 2023</td>  <th>                     </th>     <td> </td>   \n",
       "</tr>\n",
       "<tr>\n",
       "  <th>Time:</th>                  <td>22:33:02</td>      <th>                     </th>     <td> </td>   \n",
       "</tr>\n",
       "<tr>\n",
       "  <th>No. Observations:</th>       <td>  1395</td>       <th>                     </th>     <td> </td>   \n",
       "</tr>\n",
       "<tr>\n",
       "  <th>Df Residuals:</th>           <td>  1387</td>       <th>                     </th>     <td> </td>   \n",
       "</tr>\n",
       "<tr>\n",
       "  <th>Df Model:</th>               <td>     8</td>       <th>                     </th>     <td> </td>   \n",
       "</tr>\n",
       "</table>\n",
       "<table class=\"simpletable\">\n",
       "<tr>\n",
       "             <td></td>               <th>coef</th>     <th>std err</th>      <th>z</th>      <th>P>|z|</th>  <th>[0.025</th>    <th>0.975]</th>  \n",
       "</tr>\n",
       "<tr>\n",
       "  <th>Mword_count</th>            <td>    0.2628</td> <td>    0.031</td> <td>    8.542</td> <td> 0.000</td> <td>    0.203</td> <td>    0.323</td>\n",
       "</tr>\n",
       "<tr>\n",
       "  <th>mathprop</th>               <td>   -0.0820</td> <td>    0.042</td> <td>   -1.933</td> <td> 0.053</td> <td>   -0.165</td> <td>    0.001</td>\n",
       "</tr>\n",
       "<tr>\n",
       "  <th>MathSymbolsPerSentence</th> <td>    0.1109</td> <td>    0.040</td> <td>    2.765</td> <td> 0.006</td> <td>    0.032</td> <td>    0.190</td>\n",
       "</tr>\n",
       "<tr>\n",
       "  <th>NumCountPerSentence</th>    <td>   -0.0139</td> <td>    0.018</td> <td>   -0.794</td> <td> 0.427</td> <td>   -0.048</td> <td>    0.020</td>\n",
       "</tr>\n",
       "<tr>\n",
       "  <th>1/2</th>                    <td>   -1.4891</td> <td>    0.118</td> <td>  -12.570</td> <td> 0.000</td> <td>   -1.721</td> <td>   -1.257</td>\n",
       "</tr>\n",
       "<tr>\n",
       "  <th>2/3</th>                    <td>    0.3362</td> <td>    0.058</td> <td>    5.842</td> <td> 0.000</td> <td>    0.223</td> <td>    0.449</td>\n",
       "</tr>\n",
       "<tr>\n",
       "  <th>3/4</th>                    <td>    0.0142</td> <td>    0.052</td> <td>    0.276</td> <td> 0.782</td> <td>   -0.087</td> <td>    0.115</td>\n",
       "</tr>\n",
       "<tr>\n",
       "  <th>4/5</th>                    <td>    0.0940</td> <td>    0.051</td> <td>    1.828</td> <td> 0.068</td> <td>   -0.007</td> <td>    0.195</td>\n",
       "</tr>\n",
       "</table>"
      ],
      "text/plain": [
       "<class 'statsmodels.iolib.summary.Summary'>\n",
       "\"\"\"\n",
       "                             OrderedModel Results                             \n",
       "==============================================================================\n",
       "Dep. Variable:                 Level    Log-Likelihood:                -2117.5\n",
       "Model:                   OrderedModel   AIC:                             4251.\n",
       "Method:            Maximum Likelihood   BIC:                             4293.\n",
       "Date:                Tue, 13 Jun 2023                                         \n",
       "Time:                        22:33:02                                         \n",
       "No. Observations:                1395                                         \n",
       "Df Residuals:                    1387                                         \n",
       "Df Model:                           8                                         \n",
       "==========================================================================================\n",
       "                             coef    std err          z      P>|z|      [0.025      0.975]\n",
       "------------------------------------------------------------------------------------------\n",
       "Mword_count                0.2628      0.031      8.542      0.000       0.203       0.323\n",
       "mathprop                  -0.0820      0.042     -1.933      0.053      -0.165       0.001\n",
       "MathSymbolsPerSentence     0.1109      0.040      2.765      0.006       0.032       0.190\n",
       "NumCountPerSentence       -0.0139      0.018     -0.794      0.427      -0.048       0.020\n",
       "1/2                       -1.4891      0.118    -12.570      0.000      -1.721      -1.257\n",
       "2/3                        0.3362      0.058      5.842      0.000       0.223       0.449\n",
       "3/4                        0.0142      0.052      0.276      0.782      -0.087       0.115\n",
       "4/5                        0.0940      0.051      1.828      0.068      -0.007       0.195\n",
       "==========================================================================================\n",
       "\"\"\""
      ]
     },
     "execution_count": 67,
     "metadata": {},
     "output_type": "execute_result"
    }
   ],
   "source": [
    "# Fit the ordinal regression model\n",
    "from statsmodels.miscmodels.ordinal_model import OrderedModel\n",
    "mod_ordered=OrderedModel(ord_data['Level '],ord_data[['Mword_count', 'mathprop', 'MathSymbolsPerSentence',\n",
    "       'NumCountPerSentence']],distr='logit',)\n",
    "\n",
    "res_log = mod_ordered.fit(method='bfgs')\n",
    "res_log.summary()\n"
   ]
  },
  {
   "cell_type": "code",
   "execution_count": 68,
   "metadata": {},
   "outputs": [],
   "source": [
    "ord_test=pd.concat([X_test,y_test],axis=1)\n",
    "pred_train=res_log.model.predict(res_log.params, exog=ord_data[['Mword_count', 'mathprop', 'MathSymbolsPerSentence',\n",
    "       'NumCountPerSentence']])\n",
    "pred_test=res_log.model.predict(res_log.params, exog=ord_test[['Mword_count', 'mathprop', 'MathSymbolsPerSentence',\n",
    "       'NumCountPerSentence']])"
   ]
  },
  {
   "cell_type": "code",
   "execution_count": 69,
   "metadata": {},
   "outputs": [
    {
     "data": {
      "text/plain": [
       "array([[0.10199861, 0.21327975, 0.24413536, 0.23263098, 0.20795529],\n",
       "       [0.08488081, 0.18837814, 0.23578734, 0.24765908, 0.24329463],\n",
       "       [0.13922636, 0.25679409, 0.24786422, 0.2004416 , 0.15567373],\n",
       "       ...,\n",
       "       [0.1263276 , 0.243217  , 0.24824306, 0.21122986, 0.17098248],\n",
       "       [0.02602852, 0.07171664, 0.13227563, 0.24258613, 0.52739308],\n",
       "       [0.07273054, 0.1685216 , 0.22592328, 0.25735055, 0.27547403]])"
      ]
     },
     "execution_count": 69,
     "metadata": {},
     "output_type": "execute_result"
    }
   ],
   "source": [
    "pred_train"
   ]
  },
  {
   "cell_type": "code",
   "execution_count": 70,
   "metadata": {},
   "outputs": [],
   "source": [
    "pred_train1=np.argmax(pred_train, axis=1)+1\n",
    "pred_test1=np.argmax(pred_test, axis=1)+1"
   ]
  },
  {
   "cell_type": "code",
   "execution_count": 71,
   "metadata": {},
   "outputs": [
    {
     "name": "stdout",
     "output_type": "stream",
     "text": [
      "              precision    recall  f1-score   support\n",
      "\n",
      "           1       0.00      0.00      0.00       137\n",
      "           2       0.28      0.29      0.29       275\n",
      "           3       0.25      0.42      0.32       314\n",
      "           4       0.20      0.08      0.12       320\n",
      "           5       0.39      0.50      0.44       349\n",
      "\n",
      "    accuracy                           0.30      1395\n",
      "   macro avg       0.22      0.26      0.23      1395\n",
      "weighted avg       0.25      0.30      0.26      1395\n",
      "\n"
     ]
    }
   ],
   "source": [
    "print(classification_report(ord_data['Level '],pred_train1))"
   ]
  },
  {
   "cell_type": "code",
   "execution_count": 72,
   "metadata": {},
   "outputs": [
    {
     "name": "stdout",
     "output_type": "stream",
     "text": [
      "              precision    recall  f1-score   support\n",
      "\n",
      "           1       0.00      0.00      0.00        41\n",
      "           2       0.24      0.22      0.23        65\n",
      "           3       0.23      0.44      0.30        78\n",
      "           4       0.26      0.08      0.12        78\n",
      "           5       0.38      0.53      0.44        87\n",
      "\n",
      "    accuracy                           0.29       349\n",
      "   macro avg       0.22      0.25      0.22       349\n",
      "weighted avg       0.25      0.29      0.25       349\n",
      "\n"
     ]
    }
   ],
   "source": [
    "print(classification_report(ord_test['Level '],pred_test1))"
   ]
  },
  {
   "cell_type": "code",
   "execution_count": 73,
   "metadata": {},
   "outputs": [],
   "source": [
    "### for 3 levels\n",
    "ord_data1=pd.concat([X_train,y1_train],axis=1)\n",
    "ord_test1=pd.concat([X_test,y1_test],axis=1)"
   ]
  },
  {
   "cell_type": "code",
   "execution_count": 74,
   "metadata": {},
   "outputs": [
    {
     "name": "stdout",
     "output_type": "stream",
     "text": [
      "Optimization terminated successfully.\n",
      "         Current function value: 1.004994\n",
      "         Iterations: 18\n",
      "         Function evaluations: 20\n",
      "         Gradient evaluations: 20\n"
     ]
    },
    {
     "data": {
      "text/html": [
       "<table class=\"simpletable\">\n",
       "<caption>OrderedModel Results</caption>\n",
       "<tr>\n",
       "  <th>Dep. Variable:</th>          <td>Level </td>       <th>  Log-Likelihood:    </th> <td> -1402.0</td>\n",
       "</tr>\n",
       "<tr>\n",
       "  <th>Model:</th>               <td>OrderedModel</td>    <th>  AIC:               </th> <td>   2816.</td>\n",
       "</tr>\n",
       "<tr>\n",
       "  <th>Method:</th>           <td>Maximum Likelihood</td> <th>  BIC:               </th> <td>   2847.</td>\n",
       "</tr>\n",
       "<tr>\n",
       "  <th>Date:</th>              <td>Tue, 13 Jun 2023</td>  <th>                     </th>     <td> </td>   \n",
       "</tr>\n",
       "<tr>\n",
       "  <th>Time:</th>                  <td>22:33:02</td>      <th>                     </th>     <td> </td>   \n",
       "</tr>\n",
       "<tr>\n",
       "  <th>No. Observations:</th>       <td>  1395</td>       <th>                     </th>     <td> </td>   \n",
       "</tr>\n",
       "<tr>\n",
       "  <th>Df Residuals:</th>           <td>  1389</td>       <th>                     </th>     <td> </td>   \n",
       "</tr>\n",
       "<tr>\n",
       "  <th>Df Model:</th>               <td>     6</td>       <th>                     </th>     <td> </td>   \n",
       "</tr>\n",
       "</table>\n",
       "<table class=\"simpletable\">\n",
       "<tr>\n",
       "             <td></td>               <th>coef</th>     <th>std err</th>      <th>z</th>      <th>P>|z|</th>  <th>[0.025</th>    <th>0.975]</th>  \n",
       "</tr>\n",
       "<tr>\n",
       "  <th>Mword_count</th>            <td>    0.2824</td> <td>    0.037</td> <td>    7.654</td> <td> 0.000</td> <td>    0.210</td> <td>    0.355</td>\n",
       "</tr>\n",
       "<tr>\n",
       "  <th>mathprop</th>               <td>   -0.0773</td> <td>    0.049</td> <td>   -1.563</td> <td> 0.118</td> <td>   -0.174</td> <td>    0.020</td>\n",
       "</tr>\n",
       "<tr>\n",
       "  <th>MathSymbolsPerSentence</th> <td>    0.1345</td> <td>    0.043</td> <td>    3.102</td> <td> 0.002</td> <td>    0.050</td> <td>    0.220</td>\n",
       "</tr>\n",
       "<tr>\n",
       "  <th>NumCountPerSentence</th>    <td>   -0.0262</td> <td>    0.019</td> <td>   -1.356</td> <td> 0.175</td> <td>   -0.064</td> <td>    0.012</td>\n",
       "</tr>\n",
       "<tr>\n",
       "  <th>1/2</th>                    <td>   -0.0572</td> <td>    0.110</td> <td>   -0.519</td> <td> 0.604</td> <td>   -0.273</td> <td>    0.159</td>\n",
       "</tr>\n",
       "<tr>\n",
       "  <th>2/3</th>                    <td>    0.0214</td> <td>    0.052</td> <td>    0.415</td> <td> 0.678</td> <td>   -0.080</td> <td>    0.122</td>\n",
       "</tr>\n",
       "</table>"
      ],
      "text/plain": [
       "<class 'statsmodels.iolib.summary.Summary'>\n",
       "\"\"\"\n",
       "                             OrderedModel Results                             \n",
       "==============================================================================\n",
       "Dep. Variable:                 Level    Log-Likelihood:                -1402.0\n",
       "Model:                   OrderedModel   AIC:                             2816.\n",
       "Method:            Maximum Likelihood   BIC:                             2847.\n",
       "Date:                Tue, 13 Jun 2023                                         \n",
       "Time:                        22:33:02                                         \n",
       "No. Observations:                1395                                         \n",
       "Df Residuals:                    1389                                         \n",
       "Df Model:                           6                                         \n",
       "==========================================================================================\n",
       "                             coef    std err          z      P>|z|      [0.025      0.975]\n",
       "------------------------------------------------------------------------------------------\n",
       "Mword_count                0.2824      0.037      7.654      0.000       0.210       0.355\n",
       "mathprop                  -0.0773      0.049     -1.563      0.118      -0.174       0.020\n",
       "MathSymbolsPerSentence     0.1345      0.043      3.102      0.002       0.050       0.220\n",
       "NumCountPerSentence       -0.0262      0.019     -1.356      0.175      -0.064       0.012\n",
       "1/2                       -0.0572      0.110     -0.519      0.604      -0.273       0.159\n",
       "2/3                        0.0214      0.052      0.415      0.678      -0.080       0.122\n",
       "==========================================================================================\n",
       "\"\"\""
      ]
     },
     "execution_count": 74,
     "metadata": {},
     "output_type": "execute_result"
    }
   ],
   "source": [
    "mod_ordered=OrderedModel(ord_data1['Level '],ord_data1[['Mword_count', 'mathprop', 'MathSymbolsPerSentence',\n",
    "       'NumCountPerSentence']],distr='logit')\n",
    "\n",
    "res_log = mod_ordered.fit(method='bfgs')\n",
    "res_log.summary()\n"
   ]
  },
  {
   "cell_type": "code",
   "execution_count": 75,
   "metadata": {},
   "outputs": [],
   "source": [
    "pred_train=np.argmax(res_log.model.predict(res_log.params, exog=ord_data[['Mword_count', 'mathprop', 'MathSymbolsPerSentence',\n",
    "       'NumCountPerSentence']]),axis=1)+1\n",
    "pred_test=np.argmax(res_log.model.predict(res_log.params, exog=ord_test[['Mword_count', 'mathprop', 'MathSymbolsPerSentence',\n",
    "       'NumCountPerSentence']]),axis=1)+1"
   ]
  },
  {
   "cell_type": "code",
   "execution_count": 76,
   "metadata": {},
   "outputs": [
    {
     "name": "stdout",
     "output_type": "stream",
     "text": [
      "              precision    recall  f1-score   support\n",
      "\n",
      "           1       0.50      0.40      0.44       412\n",
      "           2       0.00      0.00      0.00       314\n",
      "           3       0.54      0.86      0.66       669\n",
      "\n",
      "    accuracy                           0.53      1395\n",
      "   macro avg       0.35      0.42      0.37      1395\n",
      "weighted avg       0.41      0.53      0.45      1395\n",
      "\n"
     ]
    }
   ],
   "source": [
    "print(classification_report(ord_data1['Level '],pred_train))"
   ]
  },
  {
   "cell_type": "code",
   "execution_count": 77,
   "metadata": {},
   "outputs": [
    {
     "name": "stdout",
     "output_type": "stream",
     "text": [
      "              precision    recall  f1-score   support\n",
      "\n",
      "           1       0.44      0.32      0.37       106\n",
      "           2       0.00      0.00      0.00        78\n",
      "           3       0.52      0.86      0.65       165\n",
      "\n",
      "    accuracy                           0.50       349\n",
      "   macro avg       0.32      0.39      0.34       349\n",
      "weighted avg       0.38      0.50      0.42       349\n",
      "\n"
     ]
    }
   ],
   "source": [
    "print(classification_report(ord_test1['Level '],pred_test))"
   ]
  },
  {
   "cell_type": "code",
   "execution_count": null,
   "metadata": {},
   "outputs": [],
   "source": []
  },
  {
   "cell_type": "code",
   "execution_count": 78,
   "metadata": {},
   "outputs": [
    {
     "name": "stdout",
     "output_type": "stream",
     "text": [
      "Epoch 1/32\n",
      "88/88 [==============================] - 1s 2ms/step - loss: 1.9881 - accuracy: 0.2416\n",
      "Epoch 2/32\n",
      "88/88 [==============================] - 0s 2ms/step - loss: 1.6103 - accuracy: 0.2559\n",
      "Epoch 3/32\n",
      "88/88 [==============================] - 0s 2ms/step - loss: 1.5841 - accuracy: 0.2738\n",
      "Epoch 4/32\n",
      "88/88 [==============================] - 0s 2ms/step - loss: 1.5685 - accuracy: 0.2760\n",
      "Epoch 5/32\n",
      "88/88 [==============================] - 0s 2ms/step - loss: 1.5581 - accuracy: 0.2810\n",
      "Epoch 6/32\n",
      "88/88 [==============================] - 0s 2ms/step - loss: 1.5558 - accuracy: 0.2774\n",
      "Epoch 7/32\n",
      "88/88 [==============================] - 0s 2ms/step - loss: 1.5456 - accuracy: 0.2753\n",
      "Epoch 8/32\n",
      "88/88 [==============================] - 0s 2ms/step - loss: 1.5375 - accuracy: 0.2789\n",
      "Epoch 9/32\n",
      "88/88 [==============================] - 0s 2ms/step - loss: 1.5361 - accuracy: 0.2760\n",
      "Epoch 10/32\n",
      "88/88 [==============================] - 0s 2ms/step - loss: 1.5338 - accuracy: 0.2896\n",
      "Epoch 11/32\n",
      "88/88 [==============================] - 0s 2ms/step - loss: 1.5353 - accuracy: 0.2946\n",
      "Epoch 12/32\n",
      "88/88 [==============================] - 0s 2ms/step - loss: 1.5267 - accuracy: 0.3075\n",
      "Epoch 13/32\n",
      "88/88 [==============================] - 0s 2ms/step - loss: 1.5286 - accuracy: 0.2918\n",
      "Epoch 14/32\n",
      "88/88 [==============================] - 0s 2ms/step - loss: 1.5278 - accuracy: 0.2910\n",
      "Epoch 15/32\n",
      "88/88 [==============================] - 0s 2ms/step - loss: 1.5216 - accuracy: 0.2839\n",
      "Epoch 16/32\n",
      "88/88 [==============================] - 0s 2ms/step - loss: 1.5260 - accuracy: 0.2753\n",
      "Epoch 17/32\n",
      "88/88 [==============================] - 0s 2ms/step - loss: 1.5243 - accuracy: 0.2896\n",
      "Epoch 18/32\n",
      "88/88 [==============================] - 0s 2ms/step - loss: 1.5181 - accuracy: 0.2996\n",
      "Epoch 19/32\n",
      "88/88 [==============================] - 0s 2ms/step - loss: 1.5195 - accuracy: 0.2810\n",
      "Epoch 20/32\n",
      "88/88 [==============================] - 0s 2ms/step - loss: 1.5173 - accuracy: 0.2925\n",
      "Epoch 21/32\n",
      "88/88 [==============================] - 0s 2ms/step - loss: 1.5162 - accuracy: 0.2932\n",
      "Epoch 22/32\n",
      "88/88 [==============================] - 0s 2ms/step - loss: 1.5231 - accuracy: 0.2767\n",
      "Epoch 23/32\n",
      "88/88 [==============================] - 0s 2ms/step - loss: 1.5144 - accuracy: 0.2903\n",
      "Epoch 24/32\n",
      "88/88 [==============================] - 0s 2ms/step - loss: 1.5172 - accuracy: 0.2953\n",
      "Epoch 25/32\n",
      "88/88 [==============================] - 0s 2ms/step - loss: 1.5129 - accuracy: 0.2867\n",
      "Epoch 26/32\n",
      "88/88 [==============================] - 0s 2ms/step - loss: 1.5126 - accuracy: 0.3004\n",
      "Epoch 27/32\n",
      "88/88 [==============================] - 0s 2ms/step - loss: 1.5189 - accuracy: 0.2803\n",
      "Epoch 28/32\n",
      "88/88 [==============================] - 0s 2ms/step - loss: 1.5208 - accuracy: 0.2910\n",
      "Epoch 29/32\n",
      "88/88 [==============================] - 0s 2ms/step - loss: 1.5190 - accuracy: 0.2939\n",
      "Epoch 30/32\n",
      "88/88 [==============================] - 0s 2ms/step - loss: 1.5154 - accuracy: 0.3018\n",
      "Epoch 31/32\n",
      "88/88 [==============================] - 0s 2ms/step - loss: 1.5152 - accuracy: 0.2968\n",
      "Epoch 32/32\n",
      "88/88 [==============================] - 0s 2ms/step - loss: 1.5149 - accuracy: 0.2932\n"
     ]
    },
    {
     "data": {
      "text/plain": [
       "<keras.callbacks.History at 0x11f2b215d60>"
      ]
     },
     "execution_count": 78,
     "metadata": {},
     "output_type": "execute_result"
    }
   ],
   "source": [
    "### ANN on 5 levels\n",
    "y5_train=to_categorical(y_train)\n",
    "y5_test=to_categorical(y_test)\n",
    "\n",
    "y5_train=y5_train[:,1:]\n",
    "y5_test=y5_test[:,1:]\n",
    "\n",
    "model=Sequential()\n",
    "\n",
    "# Add the input layer and the first hidden layer\n",
    "model.add(Dense(32, input_dim=4, activation='relu'))\n",
    "\n",
    "# Add the output layer\n",
    "model.add(Dense(5, activation='softmax'))\n",
    "\n",
    "# Compile the model\n",
    "model.compile(loss='categorical_crossentropy', optimizer='adam', metrics=['accuracy'])\n",
    "\n",
    "# Train the model\n",
    "\n",
    "model.fit(X_train, y5_train, epochs=32, batch_size=16)"
   ]
  },
  {
   "cell_type": "code",
   "execution_count": 79,
   "metadata": {},
   "outputs": [
    {
     "name": "stdout",
     "output_type": "stream",
     "text": [
      "44/44 [==============================] - 0s 1ms/step\n"
     ]
    },
    {
     "data": {
      "text/plain": [
       "array([5, 5, 5, ..., 4, 5, 5], dtype=int64)"
      ]
     },
     "execution_count": 79,
     "metadata": {},
     "output_type": "execute_result"
    }
   ],
   "source": [
    "pred_train=np.argmax(model.predict(X_train),axis=1)+1\n",
    "pred_train"
   ]
  },
  {
   "cell_type": "code",
   "execution_count": 80,
   "metadata": {},
   "outputs": [
    {
     "name": "stdout",
     "output_type": "stream",
     "text": [
      "11/11 [==============================] - 0s 2ms/step\n",
      "              precision    recall  f1-score   support\n",
      "\n",
      "           1       0.00      0.00      0.00        41\n",
      "           2       0.24      0.32      0.27        65\n",
      "           3       0.00      0.00      0.00        78\n",
      "           4       0.19      0.18      0.18        78\n",
      "           5       0.33      0.69      0.45        87\n",
      "\n",
      "    accuracy                           0.27       349\n",
      "   macro avg       0.15      0.24      0.18       349\n",
      "weighted avg       0.17      0.27      0.20       349\n",
      "\n"
     ]
    }
   ],
   "source": [
    "pred_test=np.argmax(model.predict(X_test),axis=1)+1\n",
    "print(classification_report(y_test,pred_test))"
   ]
  },
  {
   "cell_type": "code",
   "execution_count": 81,
   "metadata": {},
   "outputs": [
    {
     "name": "stdout",
     "output_type": "stream",
     "text": [
      "              precision    recall  f1-score   support\n",
      "\n",
      "           1       0.50      0.12      0.19       137\n",
      "           2       0.26      0.34      0.30       275\n",
      "           3       0.00      0.00      0.00       314\n",
      "           4       0.26      0.24      0.25       320\n",
      "           5       0.35      0.71      0.47       349\n",
      "\n",
      "    accuracy                           0.31      1395\n",
      "   macro avg       0.27      0.28      0.24      1395\n",
      "weighted avg       0.25      0.31      0.25      1395\n",
      "\n"
     ]
    }
   ],
   "source": [
    "print(classification_report(y_train,pred_train))"
   ]
  },
  {
   "cell_type": "code",
   "execution_count": 82,
   "metadata": {},
   "outputs": [
    {
     "name": "stdout",
     "output_type": "stream",
     "text": [
      "Epoch 1/32\n",
      "88/88 [==============================] - 1s 2ms/step - loss: 1.2104 - accuracy: 0.3900\n",
      "Epoch 2/32\n",
      "88/88 [==============================] - 0s 2ms/step - loss: 1.0330 - accuracy: 0.4717\n",
      "Epoch 3/32\n",
      "88/88 [==============================] - 0s 2ms/step - loss: 1.0160 - accuracy: 0.4839\n",
      "Epoch 4/32\n",
      "88/88 [==============================] - 0s 2ms/step - loss: 1.0133 - accuracy: 0.4925\n",
      "Epoch 5/32\n",
      "88/88 [==============================] - 0s 2ms/step - loss: 1.0080 - accuracy: 0.4968\n",
      "Epoch 6/32\n",
      "88/88 [==============================] - 0s 2ms/step - loss: 1.0047 - accuracy: 0.5111\n",
      "Epoch 7/32\n",
      "88/88 [==============================] - 0s 2ms/step - loss: 1.0039 - accuracy: 0.5197\n",
      "Epoch 8/32\n",
      "88/88 [==============================] - 0s 2ms/step - loss: 1.0013 - accuracy: 0.5183\n",
      "Epoch 9/32\n",
      "88/88 [==============================] - 0s 2ms/step - loss: 1.0039 - accuracy: 0.5104\n",
      "Epoch 10/32\n",
      "88/88 [==============================] - 0s 2ms/step - loss: 0.9998 - accuracy: 0.5211\n",
      "Epoch 11/32\n",
      "88/88 [==============================] - 0s 2ms/step - loss: 0.9992 - accuracy: 0.5125\n",
      "Epoch 12/32\n",
      "88/88 [==============================] - 0s 2ms/step - loss: 0.9981 - accuracy: 0.5168\n",
      "Epoch 13/32\n",
      "88/88 [==============================] - 0s 2ms/step - loss: 0.9954 - accuracy: 0.5240\n",
      "Epoch 14/32\n",
      "88/88 [==============================] - 0s 2ms/step - loss: 0.9967 - accuracy: 0.5183\n",
      "Epoch 15/32\n",
      "88/88 [==============================] - 0s 2ms/step - loss: 0.9978 - accuracy: 0.5204\n",
      "Epoch 16/32\n",
      "88/88 [==============================] - 0s 2ms/step - loss: 0.9979 - accuracy: 0.5168\n",
      "Epoch 17/32\n",
      "88/88 [==============================] - 0s 2ms/step - loss: 0.9950 - accuracy: 0.5154\n",
      "Epoch 18/32\n",
      "88/88 [==============================] - 0s 1ms/step - loss: 0.9946 - accuracy: 0.5240\n",
      "Epoch 19/32\n",
      "88/88 [==============================] - 0s 2ms/step - loss: 0.9938 - accuracy: 0.5312\n",
      "Epoch 20/32\n",
      "88/88 [==============================] - 0s 2ms/step - loss: 0.9913 - accuracy: 0.5147\n",
      "Epoch 21/32\n",
      "88/88 [==============================] - 0s 2ms/step - loss: 0.9926 - accuracy: 0.5247\n",
      "Epoch 22/32\n",
      "88/88 [==============================] - 0s 2ms/step - loss: 0.9936 - accuracy: 0.5254\n",
      "Epoch 23/32\n",
      "88/88 [==============================] - 0s 2ms/step - loss: 0.9921 - accuracy: 0.5319\n",
      "Epoch 24/32\n",
      "88/88 [==============================] - 0s 2ms/step - loss: 0.9930 - accuracy: 0.5204\n",
      "Epoch 25/32\n",
      "88/88 [==============================] - 0s 2ms/step - loss: 0.9923 - accuracy: 0.5190\n",
      "Epoch 26/32\n",
      "88/88 [==============================] - 0s 2ms/step - loss: 0.9923 - accuracy: 0.5247\n",
      "Epoch 27/32\n",
      "88/88 [==============================] - 0s 2ms/step - loss: 0.9895 - accuracy: 0.5269\n",
      "Epoch 28/32\n",
      "88/88 [==============================] - 0s 2ms/step - loss: 0.9882 - accuracy: 0.5283\n",
      "Epoch 29/32\n",
      "88/88 [==============================] - 0s 2ms/step - loss: 0.9894 - accuracy: 0.5326\n",
      "Epoch 30/32\n",
      "88/88 [==============================] - 0s 2ms/step - loss: 0.9892 - accuracy: 0.5211\n",
      "Epoch 31/32\n",
      "88/88 [==============================] - 0s 2ms/step - loss: 0.9885 - accuracy: 0.5276\n",
      "Epoch 32/32\n",
      "88/88 [==============================] - 0s 2ms/step - loss: 0.9896 - accuracy: 0.5290\n"
     ]
    },
    {
     "data": {
      "text/plain": [
       "<keras.callbacks.History at 0x11f2b28a7c0>"
      ]
     },
     "execution_count": 82,
     "metadata": {},
     "output_type": "execute_result"
    }
   ],
   "source": [
    "### ANN\n",
    "####### on 3 levels\n",
    "y11_train=to_categorical(y1_train)\n",
    "y11_test=to_categorical(y1_test)\n",
    "\n",
    "y11_train=y11_train[:,1:]\n",
    "y11_test=y11_test[:,1:]\n",
    "\n",
    "model=Sequential()\n",
    "# Add the input layer and the first hidden layer\n",
    "model.add(Dense(32, input_dim=4, activation='relu'))\n",
    "\n",
    "# Add the output layer\n",
    "model.add(Dense(3, activation='softmax'))\n",
    "\n",
    "# Compile the model\n",
    "model.compile(loss='categorical_crossentropy', optimizer='adam', metrics=['accuracy'])\n",
    "\n",
    "# Train the model\n",
    "\n",
    "model.fit(X_train, y11_train, epochs=32, batch_size=16)"
   ]
  },
  {
   "cell_type": "code",
   "execution_count": 83,
   "metadata": {},
   "outputs": [
    {
     "name": "stdout",
     "output_type": "stream",
     "text": [
      "44/44 [==============================] - 0s 1ms/step\n"
     ]
    }
   ],
   "source": [
    "pred_train=np.argmax(model.predict(X_train),axis=1)+1\n"
   ]
  },
  {
   "cell_type": "code",
   "execution_count": 84,
   "metadata": {},
   "outputs": [
    {
     "name": "stdout",
     "output_type": "stream",
     "text": [
      "11/11 [==============================] - 0s 2ms/step\n",
      "              precision    recall  f1-score   support\n",
      "\n",
      "           1       0.48      0.41      0.44       106\n",
      "           2       0.00      0.00      0.00        78\n",
      "           3       0.54      0.85      0.66       165\n",
      "\n",
      "    accuracy                           0.52       349\n",
      "   macro avg       0.34      0.42      0.37       349\n",
      "weighted avg       0.40      0.52      0.45       349\n",
      "\n"
     ]
    }
   ],
   "source": [
    "pred_test=np.argmax(model.predict(X_test),axis=1)+1\n",
    "print(classification_report(y1_test,pred_test))"
   ]
  },
  {
   "cell_type": "code",
   "execution_count": 85,
   "metadata": {},
   "outputs": [
    {
     "name": "stdout",
     "output_type": "stream",
     "text": [
      "              precision    recall  f1-score   support\n",
      "\n",
      "           1       0.48      0.41      0.44       412\n",
      "           2       0.60      0.01      0.02       314\n",
      "           3       0.54      0.83      0.66       669\n",
      "\n",
      "    accuracy                           0.52      1395\n",
      "   macro avg       0.54      0.42      0.37      1395\n",
      "weighted avg       0.53      0.52      0.45      1395\n",
      "\n"
     ]
    }
   ],
   "source": [
    "print(classification_report(y1_train,pred_train))"
   ]
  },
  {
   "cell_type": "code",
   "execution_count": 86,
   "metadata": {},
   "outputs": [],
   "source": [
    "from sklearn.cluster import KMeans"
   ]
  },
  {
   "cell_type": "code",
   "execution_count": 87,
   "metadata": {},
   "outputs": [
    {
     "data": {
      "image/png": "[encoded data removed]",
      "text/plain": [
       "<Figure size 640x480 with 1 Axes>"
      ]
     },
     "metadata": {},
     "output_type": "display_data"
    }
   ],
   "source": [
    "import matplotlib.pyplot as plt\n",
    "# Define the range of k values to evaluate\n",
    "k_values = range(2, 10)\n",
    "\n",
    "distortions = []\n",
    "results = []\n",
    "\n",
    "for k in k_values:\n",
    "    kmeans = KMeans(n_clusters=k, n_init=50)\n",
    "    kmeans.fit(X_train)\n",
    "    results.append(kmeans.labels_)\n",
    "    distortion = kmeans.inertia_\n",
    "    distortions.append(distortion)\n",
    "\n",
    "plt.plot(k_values, distortions, 'bx-')\n",
    "plt.xlabel('Number of Clusters (k)')\n",
    "plt.ylabel('Distortion')\n",
    "plt.title('Elbow Curve based on Math Features')\n",
    "plt.show()\n"
   ]
  },
  {
   "cell_type": "code",
   "execution_count": 88,
   "metadata": {},
   "outputs": [
    {
     "name": "stdout",
     "output_type": "stream",
     "text": [
      "Average ARI: 0.9792887275899459\n"
     ]
    }
   ],
   "source": [
    "### Adjusted RandIndex\n",
    "from sklearn.metrics import adjusted_rand_score\n",
    "import numpy as np\n",
    "\n",
    "# Set the number of clusters for k-means\n",
    "n_clusters = 3\n",
    "\n",
    "cluster_labels = []\n",
    "all_labels = []\n",
    "num_runs = 10\n",
    "for _ in range(num_runs):\n",
    "    perturbed_data = X_train + np.random.normal(scale=0.01, size=X_train.shape)  # Perturb the data\n",
    "    labels = kmeans.fit_predict(perturbed_data)\n",
    "    cluster_labels.append(labels)\n",
    "\n",
    "# Calculate similarity scores (ARI) between clusters\n",
    "ari_scores = []\n",
    "for i in range(len(cluster_labels)):\n",
    "    for j in range(i+1, len(cluster_labels)):\n",
    "        ari = adjusted_rand_score(cluster_labels[i], cluster_labels[j])\n",
    "        ari_scores.append(ari)\n",
    "\n",
    "# Assess cluster stability using the similarity scores\n",
    "average_ari = np.mean(ari_scores)\n",
    "print(\"Average ARI:\", average_ari)\n"
   ]
  },
  {
   "cell_type": "markdown",
   "metadata": {},
   "source": [
    "## Experiment 2: RI English + math stats"
   ]
  },
  {
   "cell_type": "code",
   "execution_count": 89,
   "metadata": {},
   "outputs": [],
   "source": [
    "### GunnigFox\n",
    "GF = []\n",
    "for i in df.iloc[:,0]:\n",
    "  w = count_allwords(i)\n",
    "  c = complex_words(i)\n",
    "  s = count_sentences(i)\n",
    "  gf_score = (w/s) + (100*c/w)\n",
    "  GF.append(0.4*gf_score)\n",
    "     "
   ]
  },
  {
   "cell_type": "code",
   "execution_count": 90,
   "metadata": {},
   "outputs": [],
   "source": [
    "#Formula: 206.835 - 1.015(total words/total sentences) - 84.6(total syllables/total words)\n",
    "FK = []\n",
    "for i in df.iloc[:,0]:\n",
    "  w = count_allwords(i)\n",
    "  syl = syllable_count(i)\n",
    "  s = count_sentences(i)\n",
    "  fk_score = (1.015*w/s) + (84.6*syl/w)\n",
    "  fk_score = 206.835 - fk_score \n",
    "  FK.append(fk_score)\n",
    "     "
   ]
  },
  {
   "cell_type": "code",
   "execution_count": 91,
   "metadata": {},
   "outputs": [],
   "source": [
    "# Fromula: 3.1291 + 1.0430(sqrt(number of polysyllables * 30 /number of sentences))\n",
    "SMOG = []\n",
    "for i in df.iloc[:,0]:\n",
    "  syl = count_poly_syllables(i)\n",
    "  s = count_sentences(i)\n",
    "  smog_score = np.sqrt(30*syl/s)\n",
    "  smog_score = smog_score * 1.0430\n",
    "  SMOG.append(3.1291+smog_score)\n",
    "     "
   ]
  },
  {
   "cell_type": "code",
   "execution_count": 92,
   "metadata": {},
   "outputs": [],
   "source": [
    "AR = []\n",
    "for i in df.iloc[:,0]:\n",
    "  w = count_allwords(i)\n",
    "  c = count_chars(i)\n",
    "  s = count_sentences(i)\n",
    "  ar_score = (4.71*c/w) + (0.5*w/s) - 21.43\n",
    "  AR.append(ar_score)\n",
    "     "
   ]
  },
  {
   "cell_type": "code",
   "execution_count": 93,
   "metadata": {},
   "outputs": [],
   "source": [
    "#Formula: 0.0588(Avg characters per 100 words) - 15.8 - 0.296(average number of sentences per 100 words)\n",
    "CL = []\n",
    "for i in df.iloc[:,0]:\n",
    "  w = count_allwords(i)\n",
    "  c = count_chars(i)\n",
    "  s = count_sentences(i)\n",
    "  term1 = 0.0588*c*100/w #c:w :: ?:100\n",
    "  term3 = 0.296*s*100/w #s:w :: ?:100\n",
    "  cl_score = term1-15.8-term3\n",
    "  CL.append(cl_score)\n",
    "     "
   ]
  },
  {
   "cell_type": "code",
   "execution_count": 94,
   "metadata": {},
   "outputs": [],
   "source": [
    "RI=pd.DataFrame({\"GF\":GF,\"FK\":FK,\"SMOG\":SMOG,\"AR\":AR,\"CL\":CL})\n"
   ]
  },
  {
   "cell_type": "code",
   "execution_count": 95,
   "metadata": {
    "scrolled": true
   },
   "outputs": [
    {
     "data": {
      "text/html": [
       "<div>\n",
       "<style scoped>\n",
       "    .dataframe tbody tr th:only-of-type {\n",
       "        vertical-align: middle;\n",
       "    }\n",
       "\n",
       "    .dataframe tbody tr th {\n",
       "        vertical-align: top;\n",
       "    }\n",
       "\n",
       "    .dataframe thead th {\n",
       "        text-align: right;\n",
       "    }\n",
       "</style>\n",
       "<table border=\"1\" class=\"dataframe\">\n",
       "  <thead>\n",
       "    <tr style=\"text-align: right;\">\n",
       "      <th></th>\n",
       "      <th>Level</th>\n",
       "      <th>Mword_count</th>\n",
       "      <th>mathprop</th>\n",
       "      <th>MathSymbolsPerSentence</th>\n",
       "      <th>NumCountPerSentence</th>\n",
       "      <th>GF</th>\n",
       "      <th>FK</th>\n",
       "      <th>SMOG</th>\n",
       "      <th>AR</th>\n",
       "      <th>CL</th>\n",
       "    </tr>\n",
       "  </thead>\n",
       "  <tbody>\n",
       "    <tr>\n",
       "      <th>0</th>\n",
       "      <td>5</td>\n",
       "      <td>3</td>\n",
       "      <td>1.5</td>\n",
       "      <td>1.5</td>\n",
       "      <td>4.0</td>\n",
       "      <td>12.221053</td>\n",
       "      <td>85.876711</td>\n",
       "      <td>3.129100</td>\n",
       "      <td>19.512632</td>\n",
       "      <td>26.267368</td>\n",
       "    </tr>\n",
       "    <tr>\n",
       "      <th>1</th>\n",
       "      <td>5</td>\n",
       "      <td>4</td>\n",
       "      <td>2.0</td>\n",
       "      <td>0.5</td>\n",
       "      <td>4.0</td>\n",
       "      <td>12.742857</td>\n",
       "      <td>101.982143</td>\n",
       "      <td>3.129100</td>\n",
       "      <td>10.129286</td>\n",
       "      <td>12.745714</td>\n",
       "    </tr>\n",
       "    <tr>\n",
       "      <th>2</th>\n",
       "      <td>5</td>\n",
       "      <td>4</td>\n",
       "      <td>0.8</td>\n",
       "      <td>0.2</td>\n",
       "      <td>2.0</td>\n",
       "      <td>9.936790</td>\n",
       "      <td>78.636444</td>\n",
       "      <td>9.387100</td>\n",
       "      <td>10.161852</td>\n",
       "      <td>11.700247</td>\n",
       "    </tr>\n",
       "    <tr>\n",
       "      <th>3</th>\n",
       "      <td>5</td>\n",
       "      <td>2</td>\n",
       "      <td>1.0</td>\n",
       "      <td>5.5</td>\n",
       "      <td>13.0</td>\n",
       "      <td>16.400000</td>\n",
       "      <td>120.548000</td>\n",
       "      <td>13.816670</td>\n",
       "      <td>14.149000</td>\n",
       "      <td>11.828000</td>\n",
       "    </tr>\n",
       "    <tr>\n",
       "      <th>4</th>\n",
       "      <td>2</td>\n",
       "      <td>2</td>\n",
       "      <td>2.0</td>\n",
       "      <td>6.0</td>\n",
       "      <td>11.0</td>\n",
       "      <td>8.666667</td>\n",
       "      <td>152.130000</td>\n",
       "      <td>13.023867</td>\n",
       "      <td>1.770000</td>\n",
       "      <td>1.826667</td>\n",
       "    </tr>\n",
       "  </tbody>\n",
       "</table>\n",
       "</div>"
      ],
      "text/plain": [
       "   Level   Mword_count  mathprop  MathSymbolsPerSentence  NumCountPerSentence  \\\n",
       "0       5            3       1.5                     1.5                  4.0   \n",
       "1       5            4       2.0                     0.5                  4.0   \n",
       "2       5            4       0.8                     0.2                  2.0   \n",
       "3       5            2       1.0                     5.5                 13.0   \n",
       "4       2            2       2.0                     6.0                 11.0   \n",
       "\n",
       "          GF          FK       SMOG         AR         CL  \n",
       "0  12.221053   85.876711   3.129100  19.512632  26.267368  \n",
       "1  12.742857  101.982143   3.129100  10.129286  12.745714  \n",
       "2   9.936790   78.636444   9.387100  10.161852  11.700247  \n",
       "3  16.400000  120.548000  13.816670  14.149000  11.828000  \n",
       "4   8.666667  152.130000  13.023867   1.770000   1.826667  "
      ]
     },
     "execution_count": 95,
     "metadata": {},
     "output_type": "execute_result"
    }
   ],
   "source": [
    "RI_Math_data= pd.concat([math_data,RI],axis=1)\n",
    "RI_Math_data.head()"
   ]
  },
  {
   "cell_type": "code",
   "execution_count": 96,
   "metadata": {},
   "outputs": [
    {
     "data": {
      "text/html": [
       "<div>\n",
       "<style scoped>\n",
       "    .dataframe tbody tr th:only-of-type {\n",
       "        vertical-align: middle;\n",
       "    }\n",
       "\n",
       "    .dataframe tbody tr th {\n",
       "        vertical-align: top;\n",
       "    }\n",
       "\n",
       "    .dataframe thead th {\n",
       "        text-align: right;\n",
       "    }\n",
       "</style>\n",
       "<table border=\"1\" class=\"dataframe\">\n",
       "  <thead>\n",
       "    <tr style=\"text-align: right;\">\n",
       "      <th></th>\n",
       "      <th>GF</th>\n",
       "      <th>FK</th>\n",
       "      <th>SMOG</th>\n",
       "      <th>AR</th>\n",
       "      <th>CL</th>\n",
       "    </tr>\n",
       "  </thead>\n",
       "  <tbody>\n",
       "    <tr>\n",
       "      <th>GF</th>\n",
       "      <td>1.000000</td>\n",
       "      <td>-0.615896</td>\n",
       "      <td>0.599930</td>\n",
       "      <td>0.832686</td>\n",
       "      <td>0.722784</td>\n",
       "    </tr>\n",
       "    <tr>\n",
       "      <th>FK</th>\n",
       "      <td>-0.615896</td>\n",
       "      <td>1.000000</td>\n",
       "      <td>-0.760914</td>\n",
       "      <td>-0.626928</td>\n",
       "      <td>-0.540520</td>\n",
       "    </tr>\n",
       "    <tr>\n",
       "      <th>SMOG</th>\n",
       "      <td>0.599930</td>\n",
       "      <td>-0.760914</td>\n",
       "      <td>1.000000</td>\n",
       "      <td>0.577573</td>\n",
       "      <td>0.394300</td>\n",
       "    </tr>\n",
       "    <tr>\n",
       "      <th>AR</th>\n",
       "      <td>0.832686</td>\n",
       "      <td>-0.626928</td>\n",
       "      <td>0.577573</td>\n",
       "      <td>1.000000</td>\n",
       "      <td>0.912156</td>\n",
       "    </tr>\n",
       "    <tr>\n",
       "      <th>CL</th>\n",
       "      <td>0.722784</td>\n",
       "      <td>-0.540520</td>\n",
       "      <td>0.394300</td>\n",
       "      <td>0.912156</td>\n",
       "      <td>1.000000</td>\n",
       "    </tr>\n",
       "  </tbody>\n",
       "</table>\n",
       "</div>"
      ],
      "text/plain": [
       "            GF        FK      SMOG        AR        CL\n",
       "GF    1.000000 -0.615896  0.599930  0.832686  0.722784\n",
       "FK   -0.615896  1.000000 -0.760914 -0.626928 -0.540520\n",
       "SMOG  0.599930 -0.760914  1.000000  0.577573  0.394300\n",
       "AR    0.832686 -0.626928  0.577573  1.000000  0.912156\n",
       "CL    0.722784 -0.540520  0.394300  0.912156  1.000000"
      ]
     },
     "execution_count": 96,
     "metadata": {},
     "output_type": "execute_result"
    }
   ],
   "source": [
    "RI_Math_data.loc[:,[\"GF\",\"FK\",\"SMOG\",\"AR\",\"CL\"]].corr()"
   ]
  },
  {
   "cell_type": "code",
   "execution_count": 97,
   "metadata": {},
   "outputs": [],
   "source": [
    "#### Models\n",
    "X_train,X_test,y_train,y_test=train_test_split(RI_Math_data.iloc[:,1:],RI_Math_data.iloc[:,0],test_size=0.2,random_state=42)\n",
    "y1_train=y_train.replace({2:1,3:2,4:3,5:3})\n",
    "y1_test=y_test.replace({2:1,3:2,4:3,5:3})"
   ]
  },
  {
   "cell_type": "code",
   "execution_count": 98,
   "metadata": {},
   "outputs": [
    {
     "data": {
      "text/html": [
       "<div>\n",
       "<style scoped>\n",
       "    .dataframe tbody tr th:only-of-type {\n",
       "        vertical-align: middle;\n",
       "    }\n",
       "\n",
       "    .dataframe tbody tr th {\n",
       "        vertical-align: top;\n",
       "    }\n",
       "\n",
       "    .dataframe thead th {\n",
       "        text-align: right;\n",
       "    }\n",
       "</style>\n",
       "<table border=\"1\" class=\"dataframe\">\n",
       "  <thead>\n",
       "    <tr style=\"text-align: right;\">\n",
       "      <th></th>\n",
       "      <th>Mword_count</th>\n",
       "      <th>mathprop</th>\n",
       "      <th>MathSymbolsPerSentence</th>\n",
       "      <th>NumCountPerSentence</th>\n",
       "      <th>GF</th>\n",
       "      <th>FK</th>\n",
       "      <th>SMOG</th>\n",
       "      <th>AR</th>\n",
       "      <th>CL</th>\n",
       "    </tr>\n",
       "  </thead>\n",
       "  <tbody>\n",
       "    <tr>\n",
       "      <th>864</th>\n",
       "      <td>3</td>\n",
       "      <td>1.5</td>\n",
       "      <td>0.5</td>\n",
       "      <td>2.5</td>\n",
       "      <td>12.000000</td>\n",
       "      <td>99.395000</td>\n",
       "      <td>10.125757</td>\n",
       "      <td>8.533000</td>\n",
       "      <td>12.404000</td>\n",
       "    </tr>\n",
       "    <tr>\n",
       "      <th>310</th>\n",
       "      <td>3</td>\n",
       "      <td>3.0</td>\n",
       "      <td>4.0</td>\n",
       "      <td>7.0</td>\n",
       "      <td>12.000000</td>\n",
       "      <td>154.385000</td>\n",
       "      <td>3.129100</td>\n",
       "      <td>10.888000</td>\n",
       "      <td>15.344000</td>\n",
       "    </tr>\n",
       "    <tr>\n",
       "      <th>56</th>\n",
       "      <td>1</td>\n",
       "      <td>1.0</td>\n",
       "      <td>3.0</td>\n",
       "      <td>13.0</td>\n",
       "      <td>16.021053</td>\n",
       "      <td>138.571053</td>\n",
       "      <td>17.122413</td>\n",
       "      <td>16.330000</td>\n",
       "      <td>17.922105</td>\n",
       "    </tr>\n",
       "    <tr>\n",
       "      <th>1736</th>\n",
       "      <td>4</td>\n",
       "      <td>2.0</td>\n",
       "      <td>0.5</td>\n",
       "      <td>2.0</td>\n",
       "      <td>13.490909</td>\n",
       "      <td>91.842727</td>\n",
       "      <td>13.023867</td>\n",
       "      <td>10.189091</td>\n",
       "      <td>14.116364</td>\n",
       "    </tr>\n",
       "    <tr>\n",
       "      <th>1138</th>\n",
       "      <td>3</td>\n",
       "      <td>3.0</td>\n",
       "      <td>1.0</td>\n",
       "      <td>2.0</td>\n",
       "      <td>11.466667</td>\n",
       "      <td>103.005000</td>\n",
       "      <td>14.554593</td>\n",
       "      <td>8.905000</td>\n",
       "      <td>12.113333</td>\n",
       "    </tr>\n",
       "  </tbody>\n",
       "</table>\n",
       "</div>"
      ],
      "text/plain": [
       "      Mword_count  mathprop  MathSymbolsPerSentence  NumCountPerSentence  \\\n",
       "864             3       1.5                     0.5                  2.5   \n",
       "310             3       3.0                     4.0                  7.0   \n",
       "56              1       1.0                     3.0                 13.0   \n",
       "1736            4       2.0                     0.5                  2.0   \n",
       "1138            3       3.0                     1.0                  2.0   \n",
       "\n",
       "             GF          FK       SMOG         AR         CL  \n",
       "864   12.000000   99.395000  10.125757   8.533000  12.404000  \n",
       "310   12.000000  154.385000   3.129100  10.888000  15.344000  \n",
       "56    16.021053  138.571053  17.122413  16.330000  17.922105  \n",
       "1736  13.490909   91.842727  13.023867  10.189091  14.116364  \n",
       "1138  11.466667  103.005000  14.554593   8.905000  12.113333  "
      ]
     },
     "execution_count": 98,
     "metadata": {},
     "output_type": "execute_result"
    }
   ],
   "source": [
    "X_train.head()"
   ]
  },
  {
   "cell_type": "code",
   "execution_count": 99,
   "metadata": {},
   "outputs": [
    {
     "data": {
      "text/plain": [
       "DecisionTreeClassifier(class_weight='balanced', max_depth=5)"
      ]
     },
     "execution_count": 99,
     "metadata": {},
     "output_type": "execute_result"
    }
   ],
   "source": [
    "### Test on 5 levels\n",
    "mod_dt=DecisionTreeClassifier(class_weight='balanced',max_depth=5)\n",
    "mod_dt.fit(X_train,y_train)"
   ]
  },
  {
   "cell_type": "code",
   "execution_count": 100,
   "metadata": {},
   "outputs": [
    {
     "name": "stdout",
     "output_type": "stream",
     "text": [
      "              precision    recall  f1-score   support\n",
      "\n",
      "           1       0.41      0.51      0.45       137\n",
      "           2       0.26      0.37      0.31       275\n",
      "           3       0.57      0.12      0.20       314\n",
      "           4       0.35      0.13      0.19       320\n",
      "           5       0.38      0.69      0.49       349\n",
      "\n",
      "    accuracy                           0.36      1395\n",
      "   macro avg       0.39      0.37      0.33      1395\n",
      "weighted avg       0.40      0.36      0.32      1395\n",
      "\n",
      "\n",
      "\n",
      "              precision    recall  f1-score   support\n",
      "\n",
      "           1       0.32      0.39      0.35        41\n",
      "           2       0.22      0.32      0.26        65\n",
      "           3       0.36      0.06      0.11        78\n",
      "           4       0.31      0.17      0.22        78\n",
      "           5       0.33      0.55      0.41        87\n",
      "\n",
      "    accuracy                           0.30       349\n",
      "   macro avg       0.31      0.30      0.27       349\n",
      "weighted avg       0.31      0.30      0.27       349\n",
      "\n"
     ]
    }
   ],
   "source": [
    "## Predictions\n",
    "tr_pred=mod_dt.predict(X_train)\n",
    "te_pred=mod_dt.predict(X_test)\n",
    "\n",
    "print(classification_report(y_train,tr_pred))\n",
    "print(\"\\n\")\n",
    "print(classification_report(y_test,te_pred))\n"
   ]
  },
  {
   "cell_type": "code",
   "execution_count": 101,
   "metadata": {},
   "outputs": [
    {
     "name": "stdout",
     "output_type": "stream",
     "text": [
      "              precision    recall  f1-score   support\n",
      "\n",
      "           1       0.43      0.66      0.52       412\n",
      "           2       0.53      0.20      0.29       314\n",
      "           3       0.64      0.62      0.63       669\n",
      "\n",
      "    accuracy                           0.54      1395\n",
      "   macro avg       0.53      0.49      0.48      1395\n",
      "weighted avg       0.55      0.54      0.52      1395\n",
      "\n",
      "\n",
      "\n",
      "              precision    recall  f1-score   support\n",
      "\n",
      "           1       0.44      0.66      0.53       106\n",
      "           2       0.47      0.18      0.26        78\n",
      "           3       0.64      0.62      0.63       165\n",
      "\n",
      "    accuracy                           0.54       349\n",
      "   macro avg       0.52      0.49      0.47       349\n",
      "weighted avg       0.54      0.54      0.52       349\n",
      "\n"
     ]
    }
   ],
   "source": [
    "### On 3 levels\n",
    "### on 3 classes\n",
    "mod_dt=DecisionTreeClassifier(class_weight='balanced',max_depth=5)\n",
    "mod_dt.fit(X_train,y1_train)\n",
    "\n",
    "tr_pred=mod_dt.predict(X_train)\n",
    "te_pred=mod_dt.predict(X_test)\n",
    "\n",
    "print(classification_report(y1_train,tr_pred))\n",
    "print(\"\\n\")\n",
    "print(classification_report(y1_test,te_pred))\n"
   ]
  },
  {
   "cell_type": "code",
   "execution_count": 102,
   "metadata": {},
   "outputs": [
    {
     "data": {
      "text/plain": [
       "Index(['Mword_count', 'mathprop', 'MathSymbolsPerSentence',\n",
       "       'NumCountPerSentence', 'GF', 'FK', 'SMOG', 'AR', 'CL'],\n",
       "      dtype='object')"
      ]
     },
     "execution_count": 102,
     "metadata": {},
     "output_type": "execute_result"
    }
   ],
   "source": [
    "X_train.columns"
   ]
  },
  {
   "cell_type": "code",
   "execution_count": 103,
   "metadata": {},
   "outputs": [
    {
     "name": "stdout",
     "output_type": "stream",
     "text": [
      "Optimization terminated successfully.\n",
      "         Current function value: 1.508007\n",
      "         Iterations: 27\n",
      "         Function evaluations: 32\n",
      "         Gradient evaluations: 32\n"
     ]
    },
    {
     "data": {
      "text/html": [
       "<table class=\"simpletable\">\n",
       "<caption>OrderedModel Results</caption>\n",
       "<tr>\n",
       "  <th>Dep. Variable:</th>          <td>Level </td>       <th>  Log-Likelihood:    </th> <td> -2103.7</td>\n",
       "</tr>\n",
       "<tr>\n",
       "  <th>Model:</th>               <td>OrderedModel</td>    <th>  AIC:               </th> <td>   4233.</td>\n",
       "</tr>\n",
       "<tr>\n",
       "  <th>Method:</th>           <td>Maximum Likelihood</td> <th>  BIC:               </th> <td>   4301.</td>\n",
       "</tr>\n",
       "<tr>\n",
       "  <th>Date:</th>              <td>Tue, 13 Jun 2023</td>  <th>                     </th>     <td> </td>   \n",
       "</tr>\n",
       "<tr>\n",
       "  <th>Time:</th>                  <td>22:33:29</td>      <th>                     </th>     <td> </td>   \n",
       "</tr>\n",
       "<tr>\n",
       "  <th>No. Observations:</th>       <td>  1395</td>       <th>                     </th>     <td> </td>   \n",
       "</tr>\n",
       "<tr>\n",
       "  <th>Df Residuals:</th>           <td>  1382</td>       <th>                     </th>     <td> </td>   \n",
       "</tr>\n",
       "<tr>\n",
       "  <th>Df Model:</th>               <td>    13</td>       <th>                     </th>     <td> </td>   \n",
       "</tr>\n",
       "</table>\n",
       "<table class=\"simpletable\">\n",
       "<tr>\n",
       "             <td></td>               <th>coef</th>     <th>std err</th>      <th>z</th>      <th>P>|z|</th>  <th>[0.025</th>    <th>0.975]</th>  \n",
       "</tr>\n",
       "<tr>\n",
       "  <th>Mword_count</th>            <td>    0.2541</td> <td>    0.033</td> <td>    7.743</td> <td> 0.000</td> <td>    0.190</td> <td>    0.318</td>\n",
       "</tr>\n",
       "<tr>\n",
       "  <th>mathprop</th>               <td>   -0.1341</td> <td>    0.048</td> <td>   -2.794</td> <td> 0.005</td> <td>   -0.228</td> <td>   -0.040</td>\n",
       "</tr>\n",
       "<tr>\n",
       "  <th>MathSymbolsPerSentence</th> <td>    0.1878</td> <td>    0.049</td> <td>    3.819</td> <td> 0.000</td> <td>    0.091</td> <td>    0.284</td>\n",
       "</tr>\n",
       "<tr>\n",
       "  <th>NumCountPerSentence</th>    <td>   -0.0777</td> <td>    0.024</td> <td>   -3.269</td> <td> 0.001</td> <td>   -0.124</td> <td>   -0.031</td>\n",
       "</tr>\n",
       "<tr>\n",
       "  <th>GF</th>                     <td>   -0.0284</td> <td>    0.016</td> <td>   -1.805</td> <td> 0.071</td> <td>   -0.059</td> <td>    0.002</td>\n",
       "</tr>\n",
       "<tr>\n",
       "  <th>FK</th>                     <td>    0.0049</td> <td>    0.003</td> <td>    1.546</td> <td> 0.122</td> <td>   -0.001</td> <td>    0.011</td>\n",
       "</tr>\n",
       "<tr>\n",
       "  <th>SMOG</th>                   <td>    0.0467</td> <td>    0.011</td> <td>    4.100</td> <td> 0.000</td> <td>    0.024</td> <td>    0.069</td>\n",
       "</tr>\n",
       "<tr>\n",
       "  <th>AR</th>                     <td>    0.0517</td> <td>    0.026</td> <td>    1.951</td> <td> 0.051</td> <td>   -0.000</td> <td>    0.104</td>\n",
       "</tr>\n",
       "<tr>\n",
       "  <th>CL</th>                     <td>   -0.0117</td> <td>    0.018</td> <td>   -0.632</td> <td> 0.527</td> <td>   -0.048</td> <td>    0.025</td>\n",
       "</tr>\n",
       "<tr>\n",
       "  <th>1/2</th>                    <td>   -0.7082</td> <td>    0.458</td> <td>   -1.545</td> <td> 0.122</td> <td>   -1.606</td> <td>    0.190</td>\n",
       "</tr>\n",
       "<tr>\n",
       "  <th>2/3</th>                    <td>    0.3478</td> <td>    0.057</td> <td>    6.054</td> <td> 0.000</td> <td>    0.235</td> <td>    0.460</td>\n",
       "</tr>\n",
       "<tr>\n",
       "  <th>3/4</th>                    <td>    0.0290</td> <td>    0.052</td> <td>    0.562</td> <td> 0.574</td> <td>   -0.072</td> <td>    0.130</td>\n",
       "</tr>\n",
       "<tr>\n",
       "  <th>4/5</th>                    <td>    0.1064</td> <td>    0.051</td> <td>    2.071</td> <td> 0.038</td> <td>    0.006</td> <td>    0.207</td>\n",
       "</tr>\n",
       "</table>"
      ],
      "text/plain": [
       "<class 'statsmodels.iolib.summary.Summary'>\n",
       "\"\"\"\n",
       "                             OrderedModel Results                             \n",
       "==============================================================================\n",
       "Dep. Variable:                 Level    Log-Likelihood:                -2103.7\n",
       "Model:                   OrderedModel   AIC:                             4233.\n",
       "Method:            Maximum Likelihood   BIC:                             4301.\n",
       "Date:                Tue, 13 Jun 2023                                         \n",
       "Time:                        22:33:29                                         \n",
       "No. Observations:                1395                                         \n",
       "Df Residuals:                    1382                                         \n",
       "Df Model:                          13                                         \n",
       "==========================================================================================\n",
       "                             coef    std err          z      P>|z|      [0.025      0.975]\n",
       "------------------------------------------------------------------------------------------\n",
       "Mword_count                0.2541      0.033      7.743      0.000       0.190       0.318\n",
       "mathprop                  -0.1341      0.048     -2.794      0.005      -0.228      -0.040\n",
       "MathSymbolsPerSentence     0.1878      0.049      3.819      0.000       0.091       0.284\n",
       "NumCountPerSentence       -0.0777      0.024     -3.269      0.001      -0.124      -0.031\n",
       "GF                        -0.0284      0.016     -1.805      0.071      -0.059       0.002\n",
       "FK                         0.0049      0.003      1.546      0.122      -0.001       0.011\n",
       "SMOG                       0.0467      0.011      4.100      0.000       0.024       0.069\n",
       "AR                         0.0517      0.026      1.951      0.051      -0.000       0.104\n",
       "CL                        -0.0117      0.018     -0.632      0.527      -0.048       0.025\n",
       "1/2                       -0.7082      0.458     -1.545      0.122      -1.606       0.190\n",
       "2/3                        0.3478      0.057      6.054      0.000       0.235       0.460\n",
       "3/4                        0.0290      0.052      0.562      0.574      -0.072       0.130\n",
       "4/5                        0.1064      0.051      2.071      0.038       0.006       0.207\n",
       "==========================================================================================\n",
       "\"\"\""
      ]
     },
     "execution_count": 103,
     "metadata": {},
     "output_type": "execute_result"
    }
   ],
   "source": [
    "#### Ordered Regression 5 classes\n",
    "ord_data=pd.concat([X_train,y_train],axis=1)\n",
    "mod_ordered=OrderedModel(ord_data['Level '],ord_data[['Mword_count', 'mathprop', 'MathSymbolsPerSentence',\n",
    "       'NumCountPerSentence','GF', 'FK', 'SMOG', 'AR', 'CL']],distr='logit',)\n",
    "\n",
    "res_log = mod_ordered.fit(method='bfgs')\n",
    "res_log.summary()"
   ]
  },
  {
   "cell_type": "code",
   "execution_count": 104,
   "metadata": {},
   "outputs": [],
   "source": [
    "ord_test=pd.concat([X_test,y_test],axis=1)\n",
    "pred_train=res_log.model.predict(res_log.params, exog=ord_data[['Mword_count', 'mathprop', 'MathSymbolsPerSentence',\n",
    "       'NumCountPerSentence','GF', 'FK', 'SMOG', 'AR', 'CL']])\n",
    "pred_test=res_log.model.predict(res_log.params, exog=ord_test[['Mword_count', 'mathprop', 'MathSymbolsPerSentence',\n",
    "       'NumCountPerSentence','GF', 'FK', 'SMOG', 'AR', 'CL']])"
   ]
  },
  {
   "cell_type": "code",
   "execution_count": 105,
   "metadata": {},
   "outputs": [
    {
     "name": "stdout",
     "output_type": "stream",
     "text": [
      "              precision    recall  f1-score   support\n",
      "\n",
      "           1       0.00      0.00      0.00       137\n",
      "           2       0.30      0.35      0.32       275\n",
      "           3       0.25      0.35      0.29       314\n",
      "           4       0.23      0.13      0.17       320\n",
      "           5       0.40      0.52      0.45       349\n",
      "\n",
      "    accuracy                           0.31      1395\n",
      "   macro avg       0.24      0.27      0.25      1395\n",
      "weighted avg       0.27      0.31      0.28      1395\n",
      "\n",
      "\n",
      "\n",
      "              precision    recall  f1-score   support\n",
      "\n",
      "           1       0.00      0.00      0.00        41\n",
      "           2       0.29      0.34      0.31        65\n",
      "           3       0.28      0.40      0.33        78\n",
      "           4       0.30      0.17      0.21        78\n",
      "           5       0.38      0.52      0.44        87\n",
      "\n",
      "    accuracy                           0.32       349\n",
      "   macro avg       0.25      0.28      0.26       349\n",
      "weighted avg       0.28      0.32      0.29       349\n",
      "\n"
     ]
    }
   ],
   "source": [
    "pred_train1=np.argmax(pred_train, axis=1)+1\n",
    "pred_test1=np.argmax(pred_test, axis=1)+1\n",
    "print(classification_report(ord_data['Level '],pred_train1))\n",
    "print(\"\\n\")\n",
    "print(classification_report(ord_test['Level '],pred_test1))"
   ]
  },
  {
   "cell_type": "code",
   "execution_count": 106,
   "metadata": {},
   "outputs": [],
   "source": [
    "### Ordered 3 levels\n",
    "### for 3 levels\n",
    "ord_data1=pd.concat([X_train,y1_train],axis=1)\n",
    "ord_test1=pd.concat([X_test,y1_test],axis=1)"
   ]
  },
  {
   "cell_type": "code",
   "execution_count": 107,
   "metadata": {},
   "outputs": [
    {
     "name": "stdout",
     "output_type": "stream",
     "text": [
      "Optimization terminated successfully.\n",
      "         Current function value: 0.997104\n",
      "         Iterations: 29\n",
      "         Function evaluations: 32\n",
      "         Gradient evaluations: 32\n"
     ]
    },
    {
     "data": {
      "text/html": [
       "<table class=\"simpletable\">\n",
       "<caption>OrderedModel Results</caption>\n",
       "<tr>\n",
       "  <th>Dep. Variable:</th>          <td>Level </td>       <th>  Log-Likelihood:    </th> <td> -1391.0</td>\n",
       "</tr>\n",
       "<tr>\n",
       "  <th>Model:</th>               <td>OrderedModel</td>    <th>  AIC:               </th> <td>   2804.</td>\n",
       "</tr>\n",
       "<tr>\n",
       "  <th>Method:</th>           <td>Maximum Likelihood</td> <th>  BIC:               </th> <td>   2862.</td>\n",
       "</tr>\n",
       "<tr>\n",
       "  <th>Date:</th>              <td>Tue, 13 Jun 2023</td>  <th>                     </th>     <td> </td>   \n",
       "</tr>\n",
       "<tr>\n",
       "  <th>Time:</th>                  <td>22:33:30</td>      <th>                     </th>     <td> </td>   \n",
       "</tr>\n",
       "<tr>\n",
       "  <th>No. Observations:</th>       <td>  1395</td>       <th>                     </th>     <td> </td>   \n",
       "</tr>\n",
       "<tr>\n",
       "  <th>Df Residuals:</th>           <td>  1384</td>       <th>                     </th>     <td> </td>   \n",
       "</tr>\n",
       "<tr>\n",
       "  <th>Df Model:</th>               <td>    11</td>       <th>                     </th>     <td> </td>   \n",
       "</tr>\n",
       "</table>\n",
       "<table class=\"simpletable\">\n",
       "<tr>\n",
       "             <td></td>               <th>coef</th>     <th>std err</th>      <th>z</th>      <th>P>|z|</th>  <th>[0.025</th>    <th>0.975]</th>  \n",
       "</tr>\n",
       "<tr>\n",
       "  <th>Mword_count</th>            <td>    0.2802</td> <td>    0.040</td> <td>    7.088</td> <td> 0.000</td> <td>    0.203</td> <td>    0.358</td>\n",
       "</tr>\n",
       "<tr>\n",
       "  <th>mathprop</th>               <td>   -0.1327</td> <td>    0.056</td> <td>   -2.385</td> <td> 0.017</td> <td>   -0.242</td> <td>   -0.024</td>\n",
       "</tr>\n",
       "<tr>\n",
       "  <th>MathSymbolsPerSentence</th> <td>    0.2066</td> <td>    0.053</td> <td>    3.891</td> <td> 0.000</td> <td>    0.103</td> <td>    0.311</td>\n",
       "</tr>\n",
       "<tr>\n",
       "  <th>NumCountPerSentence</th>    <td>   -0.0847</td> <td>    0.026</td> <td>   -3.238</td> <td> 0.001</td> <td>   -0.136</td> <td>   -0.033</td>\n",
       "</tr>\n",
       "<tr>\n",
       "  <th>GF</th>                     <td>   -0.0262</td> <td>    0.017</td> <td>   -1.584</td> <td> 0.113</td> <td>   -0.059</td> <td>    0.006</td>\n",
       "</tr>\n",
       "<tr>\n",
       "  <th>FK</th>                     <td>    0.0055</td> <td>    0.003</td> <td>    1.606</td> <td> 0.108</td> <td>   -0.001</td> <td>    0.012</td>\n",
       "</tr>\n",
       "<tr>\n",
       "  <th>SMOG</th>                   <td>    0.0461</td> <td>    0.012</td> <td>    3.793</td> <td> 0.000</td> <td>    0.022</td> <td>    0.070</td>\n",
       "</tr>\n",
       "<tr>\n",
       "  <th>AR</th>                     <td>    0.0438</td> <td>    0.028</td> <td>    1.550</td> <td> 0.121</td> <td>   -0.012</td> <td>    0.099</td>\n",
       "</tr>\n",
       "<tr>\n",
       "  <th>CL</th>                     <td>   -0.0053</td> <td>    0.020</td> <td>   -0.264</td> <td> 0.791</td> <td>   -0.044</td> <td>    0.034</td>\n",
       "</tr>\n",
       "<tr>\n",
       "  <th>1/2</th>                    <td>    0.8503</td> <td>    0.489</td> <td>    1.741</td> <td> 0.082</td> <td>   -0.107</td> <td>    1.808</td>\n",
       "</tr>\n",
       "<tr>\n",
       "  <th>2/3</th>                    <td>    0.0356</td> <td>    0.052</td> <td>    0.690</td> <td> 0.490</td> <td>   -0.066</td> <td>    0.137</td>\n",
       "</tr>\n",
       "</table>"
      ],
      "text/plain": [
       "<class 'statsmodels.iolib.summary.Summary'>\n",
       "\"\"\"\n",
       "                             OrderedModel Results                             \n",
       "==============================================================================\n",
       "Dep. Variable:                 Level    Log-Likelihood:                -1391.0\n",
       "Model:                   OrderedModel   AIC:                             2804.\n",
       "Method:            Maximum Likelihood   BIC:                             2862.\n",
       "Date:                Tue, 13 Jun 2023                                         \n",
       "Time:                        22:33:30                                         \n",
       "No. Observations:                1395                                         \n",
       "Df Residuals:                    1384                                         \n",
       "Df Model:                          11                                         \n",
       "==========================================================================================\n",
       "                             coef    std err          z      P>|z|      [0.025      0.975]\n",
       "------------------------------------------------------------------------------------------\n",
       "Mword_count                0.2802      0.040      7.088      0.000       0.203       0.358\n",
       "mathprop                  -0.1327      0.056     -2.385      0.017      -0.242      -0.024\n",
       "MathSymbolsPerSentence     0.2066      0.053      3.891      0.000       0.103       0.311\n",
       "NumCountPerSentence       -0.0847      0.026     -3.238      0.001      -0.136      -0.033\n",
       "GF                        -0.0262      0.017     -1.584      0.113      -0.059       0.006\n",
       "FK                         0.0055      0.003      1.606      0.108      -0.001       0.012\n",
       "SMOG                       0.0461      0.012      3.793      0.000       0.022       0.070\n",
       "AR                         0.0438      0.028      1.550      0.121      -0.012       0.099\n",
       "CL                        -0.0053      0.020     -0.264      0.791      -0.044       0.034\n",
       "1/2                        0.8503      0.489      1.741      0.082      -0.107       1.808\n",
       "2/3                        0.0356      0.052      0.690      0.490      -0.066       0.137\n",
       "==========================================================================================\n",
       "\"\"\""
      ]
     },
     "execution_count": 107,
     "metadata": {},
     "output_type": "execute_result"
    }
   ],
   "source": [
    "from statsmodels.miscmodels.ordinal_model import OrderedModel\n",
    "mod_ordered=OrderedModel(ord_data1['Level '],ord_data1[['Mword_count', 'mathprop', 'MathSymbolsPerSentence',\n",
    "       'NumCountPerSentence','GF', 'FK', 'SMOG', 'AR', 'CL']],distr='logit')\n",
    "\n",
    "res_log = mod_ordered.fit(method='bfgs')\n",
    "res_log.summary()\n"
   ]
  },
  {
   "cell_type": "code",
   "execution_count": 108,
   "metadata": {},
   "outputs": [],
   "source": [
    "pred_train=res_log.model.predict(res_log.params, exog=ord_data1[['Mword_count', 'mathprop', 'MathSymbolsPerSentence','NumCountPerSentence','GF', 'FK', 'SMOG', 'AR', 'CL']])\n"
   ]
  },
  {
   "cell_type": "code",
   "execution_count": 109,
   "metadata": {},
   "outputs": [],
   "source": [
    "pred_test=res_log.model.predict(res_log.params, exog=ord_test1[['Mword_count', 'mathprop', 'MathSymbolsPerSentence',\n",
    "       'NumCountPerSentence','GF', 'FK', 'SMOG', 'AR', 'CL']])"
   ]
  },
  {
   "cell_type": "code",
   "execution_count": 110,
   "metadata": {},
   "outputs": [
    {
     "name": "stdout",
     "output_type": "stream",
     "text": [
      "              precision    recall  f1-score   support\n",
      "\n",
      "           1       0.48      0.42      0.44       412\n",
      "           2       0.00      0.00      0.00       314\n",
      "           3       0.54      0.84      0.66       669\n",
      "\n",
      "    accuracy                           0.53      1395\n",
      "   macro avg       0.34      0.42      0.37      1395\n",
      "weighted avg       0.40      0.53      0.45      1395\n",
      "\n",
      "\n",
      "\n",
      "              precision    recall  f1-score   support\n",
      "\n",
      "           1       0.50      0.42      0.45       106\n",
      "           2       0.00      0.00      0.00        78\n",
      "           3       0.54      0.86      0.67       165\n",
      "\n",
      "    accuracy                           0.53       349\n",
      "   macro avg       0.35      0.43      0.37       349\n",
      "weighted avg       0.41      0.53      0.45       349\n",
      "\n"
     ]
    }
   ],
   "source": [
    "pred_train1=np.argmax(pred_train, axis=1)+1\n",
    "pred_test1=np.argmax(pred_test, axis=1)+1\n",
    "print(classification_report(ord_data1['Level '],pred_train1))\n",
    "print(\"\\n\")\n",
    "print(classification_report(ord_test1['Level '],pred_test1))"
   ]
  },
  {
   "cell_type": "code",
   "execution_count": 111,
   "metadata": {},
   "outputs": [
    {
     "name": "stdout",
     "output_type": "stream",
     "text": [
      "Epoch 1/32\n",
      "88/88 [==============================] - 1s 2ms/step - loss: 4.5940 - accuracy: 0.2473\n",
      "Epoch 2/32\n",
      "88/88 [==============================] - 0s 2ms/step - loss: 1.9449 - accuracy: 0.2710\n",
      "Epoch 3/32\n",
      "88/88 [==============================] - 0s 2ms/step - loss: 1.7734 - accuracy: 0.2695\n",
      "Epoch 4/32\n",
      "88/88 [==============================] - 0s 2ms/step - loss: 1.6915 - accuracy: 0.2882\n",
      "Epoch 5/32\n",
      "88/88 [==============================] - 0s 2ms/step - loss: 1.6838 - accuracy: 0.2803\n",
      "Epoch 6/32\n",
      "88/88 [==============================] - 0s 2ms/step - loss: 1.6450 - accuracy: 0.2796\n",
      "Epoch 7/32\n",
      "88/88 [==============================] - 0s 2ms/step - loss: 1.6343 - accuracy: 0.2760\n",
      "Epoch 8/32\n",
      "88/88 [==============================] - 0s 2ms/step - loss: 1.6250 - accuracy: 0.2796\n",
      "Epoch 9/32\n",
      "88/88 [==============================] - 0s 2ms/step - loss: 1.6115 - accuracy: 0.2824\n",
      "Epoch 10/32\n",
      "88/88 [==============================] - 0s 2ms/step - loss: 1.5759 - accuracy: 0.3133\n",
      "Epoch 11/32\n",
      "88/88 [==============================] - 0s 2ms/step - loss: 1.5747 - accuracy: 0.2918\n",
      "Epoch 12/32\n",
      "88/88 [==============================] - 0s 2ms/step - loss: 1.6044 - accuracy: 0.2760\n",
      "Epoch 13/32\n",
      "88/88 [==============================] - 0s 2ms/step - loss: 1.5833 - accuracy: 0.2860\n",
      "Epoch 14/32\n",
      "88/88 [==============================] - 0s 2ms/step - loss: 1.5680 - accuracy: 0.2996\n",
      "Epoch 15/32\n",
      "88/88 [==============================] - 0s 2ms/step - loss: 1.5624 - accuracy: 0.2996\n",
      "Epoch 16/32\n",
      "88/88 [==============================] - 0s 2ms/step - loss: 1.5635 - accuracy: 0.2882\n",
      "Epoch 17/32\n",
      "88/88 [==============================] - 0s 2ms/step - loss: 1.5930 - accuracy: 0.2753\n",
      "Epoch 18/32\n",
      "88/88 [==============================] - 0s 2ms/step - loss: 1.5368 - accuracy: 0.3204\n",
      "Epoch 19/32\n",
      "88/88 [==============================] - 0s 2ms/step - loss: 1.5610 - accuracy: 0.2781\n",
      "Epoch 20/32\n",
      "88/88 [==============================] - 0s 2ms/step - loss: 1.5714 - accuracy: 0.2975\n",
      "Epoch 21/32\n",
      "88/88 [==============================] - 0s 2ms/step - loss: 1.5511 - accuracy: 0.2989\n",
      "Epoch 22/32\n",
      "88/88 [==============================] - 0s 2ms/step - loss: 1.5267 - accuracy: 0.2946\n",
      "Epoch 23/32\n",
      "88/88 [==============================] - 0s 2ms/step - loss: 1.5431 - accuracy: 0.3061\n",
      "Epoch 24/32\n",
      "88/88 [==============================] - 0s 2ms/step - loss: 1.5384 - accuracy: 0.2925\n",
      "Epoch 25/32\n",
      "88/88 [==============================] - 0s 2ms/step - loss: 1.5437 - accuracy: 0.2889\n",
      "Epoch 26/32\n",
      "88/88 [==============================] - 0s 2ms/step - loss: 1.5492 - accuracy: 0.2982\n",
      "Epoch 27/32\n",
      "88/88 [==============================] - 0s 2ms/step - loss: 1.5535 - accuracy: 0.2946\n",
      "Epoch 28/32\n",
      "88/88 [==============================] - 0s 2ms/step - loss: 1.5441 - accuracy: 0.2789\n",
      "Epoch 29/32\n",
      "88/88 [==============================] - 0s 2ms/step - loss: 1.5445 - accuracy: 0.3047\n",
      "Epoch 30/32\n",
      "88/88 [==============================] - 0s 2ms/step - loss: 1.5555 - accuracy: 0.3125\n",
      "Epoch 31/32\n",
      "88/88 [==============================] - 0s 2ms/step - loss: 1.5281 - accuracy: 0.3032\n",
      "Epoch 32/32\n",
      "88/88 [==============================] - 0s 2ms/step - loss: 1.5102 - accuracy: 0.3032\n",
      "44/44 [==============================] - 0s 2ms/step\n",
      "11/11 [==============================] - 0s 2ms/step\n",
      "              precision    recall  f1-score   support\n",
      "\n",
      "           1       0.67      0.05      0.09        41\n",
      "           2       0.30      0.15      0.20        65\n",
      "           3       0.34      0.36      0.35        78\n",
      "           4       0.60      0.04      0.07        78\n",
      "           5       0.30      0.77      0.43        87\n",
      "\n",
      "    accuracy                           0.32       349\n",
      "   macro avg       0.44      0.27      0.23       349\n",
      "weighted avg       0.42      0.32      0.25       349\n",
      "\n",
      "\n",
      "\n",
      "              precision    recall  f1-score   support\n",
      "\n",
      "           1       0.50      0.04      0.08       137\n",
      "           2       0.32      0.18      0.23       275\n",
      "           3       0.29      0.32      0.31       314\n",
      "           4       0.44      0.01      0.02       320\n",
      "           5       0.33      0.83      0.47       349\n",
      "\n",
      "    accuracy                           0.32      1395\n",
      "   macro avg       0.38      0.28      0.22      1395\n",
      "weighted avg       0.36      0.32      0.25      1395\n",
      "\n"
     ]
    }
   ],
   "source": [
    "### ANN\n",
    "### ANN on 5 levels\n",
    "y5_train=to_categorical(y_train)\n",
    "y5_test=to_categorical(y_test)\n",
    "\n",
    "y5_train=y5_train[:,1:]\n",
    "y5_test=y5_test[:,1:]\n",
    "\n",
    "model=Sequential()\n",
    "\n",
    "# Add the input layer and the first hidden layer\n",
    "model.add(Dense(32, input_dim=9, activation='relu'))\n",
    "\n",
    "# Add the output layer\n",
    "model.add(Dense(5, activation='softmax'))\n",
    "\n",
    "# Compile the model\n",
    "model.compile(loss='categorical_crossentropy', optimizer='adam', metrics=['accuracy'])\n",
    "\n",
    "# Train the model\n",
    "\n",
    "model.fit(X_train, y5_train, epochs=32, batch_size=16)\n",
    "pred_train=np.argmax(model.predict(X_train),axis=1)+1\n",
    "pred_test=np.argmax(model.predict(X_test),axis=1)+1\n",
    "\n",
    "print(classification_report(y_test,pred_test))\n",
    "print(\"\\n\")\n",
    "print(classification_report(y_train,pred_train))"
   ]
  },
  {
   "cell_type": "code",
   "execution_count": 112,
   "metadata": {},
   "outputs": [
    {
     "name": "stdout",
     "output_type": "stream",
     "text": [
      "Epoch 1/32\n",
      "88/88 [==============================] - 1s 2ms/step - loss: 6.1539 - accuracy: 0.3204\n",
      "Epoch 2/32\n",
      "88/88 [==============================] - 0s 2ms/step - loss: 1.4101 - accuracy: 0.4208\n",
      "Epoch 3/32\n",
      "88/88 [==============================] - 0s 2ms/step - loss: 1.2525 - accuracy: 0.4473\n",
      "Epoch 4/32\n",
      "88/88 [==============================] - 0s 2ms/step - loss: 1.1926 - accuracy: 0.4509\n",
      "Epoch 5/32\n",
      "88/88 [==============================] - 0s 2ms/step - loss: 1.1562 - accuracy: 0.4695\n",
      "Epoch 6/32\n",
      "88/88 [==============================] - 0s 2ms/step - loss: 1.1153 - accuracy: 0.4832\n",
      "Epoch 7/32\n",
      "88/88 [==============================] - 0s 2ms/step - loss: 1.0950 - accuracy: 0.4918\n",
      "Epoch 8/32\n",
      "88/88 [==============================] - 0s 2ms/step - loss: 1.0842 - accuracy: 0.4910\n",
      "Epoch 9/32\n",
      "88/88 [==============================] - 0s 2ms/step - loss: 1.0609 - accuracy: 0.5054\n",
      "Epoch 10/32\n",
      "88/88 [==============================] - 0s 2ms/step - loss: 1.0445 - accuracy: 0.5133\n",
      "Epoch 11/32\n",
      "88/88 [==============================] - 0s 2ms/step - loss: 1.0511 - accuracy: 0.5075\n",
      "Epoch 12/32\n",
      "88/88 [==============================] - 0s 2ms/step - loss: 1.0446 - accuracy: 0.5061\n",
      "Epoch 13/32\n",
      "88/88 [==============================] - 0s 2ms/step - loss: 1.0272 - accuracy: 0.5097\n",
      "Epoch 14/32\n",
      "88/88 [==============================] - 0s 2ms/step - loss: 1.0419 - accuracy: 0.5104\n",
      "Epoch 15/32\n",
      "88/88 [==============================] - 0s 2ms/step - loss: 1.0281 - accuracy: 0.5276\n",
      "Epoch 16/32\n",
      "88/88 [==============================] - 0s 2ms/step - loss: 1.0204 - accuracy: 0.5075\n",
      "Epoch 17/32\n",
      "88/88 [==============================] - 0s 2ms/step - loss: 1.0214 - accuracy: 0.5133\n",
      "Epoch 18/32\n",
      "88/88 [==============================] - 0s 2ms/step - loss: 1.0271 - accuracy: 0.5190\n",
      "Epoch 19/32\n",
      "88/88 [==============================] - 0s 2ms/step - loss: 1.0289 - accuracy: 0.5075\n",
      "Epoch 20/32\n",
      "88/88 [==============================] - 0s 2ms/step - loss: 1.0283 - accuracy: 0.5068\n",
      "Epoch 21/32\n",
      "88/88 [==============================] - 0s 2ms/step - loss: 1.0110 - accuracy: 0.5068\n",
      "Epoch 22/32\n",
      "88/88 [==============================] - 0s 2ms/step - loss: 1.0466 - accuracy: 0.4953\n",
      "Epoch 23/32\n",
      "88/88 [==============================] - 0s 2ms/step - loss: 1.0109 - accuracy: 0.5211\n",
      "Epoch 24/32\n",
      "88/88 [==============================] - 0s 2ms/step - loss: 1.0132 - accuracy: 0.5219\n",
      "Epoch 25/32\n",
      "88/88 [==============================] - 0s 2ms/step - loss: 1.0211 - accuracy: 0.5075\n",
      "Epoch 26/32\n",
      "88/88 [==============================] - 0s 2ms/step - loss: 1.0188 - accuracy: 0.5219\n",
      "Epoch 27/32\n",
      "88/88 [==============================] - 0s 2ms/step - loss: 1.0109 - accuracy: 0.5011\n",
      "Epoch 28/32\n",
      "88/88 [==============================] - 0s 2ms/step - loss: 1.0164 - accuracy: 0.5075\n",
      "Epoch 29/32\n",
      "88/88 [==============================] - 0s 2ms/step - loss: 1.0227 - accuracy: 0.5011\n",
      "Epoch 30/32\n",
      "88/88 [==============================] - 0s 2ms/step - loss: 0.9958 - accuracy: 0.5254\n",
      "Epoch 31/32\n",
      "88/88 [==============================] - 0s 2ms/step - loss: 1.0134 - accuracy: 0.5082\n",
      "Epoch 32/32\n",
      "88/88 [==============================] - 0s 2ms/step - loss: 1.0126 - accuracy: 0.5190\n",
      "44/44 [==============================] - 0s 2ms/step\n",
      "11/11 [==============================] - 0s 1ms/step\n",
      "              precision    recall  f1-score   support\n",
      "\n",
      "           1       0.50      0.38      0.43       106\n",
      "           2       0.20      0.03      0.05        78\n",
      "           3       0.56      0.88      0.68       165\n",
      "\n",
      "    accuracy                           0.54       349\n",
      "   macro avg       0.42      0.43      0.39       349\n",
      "weighted avg       0.46      0.54      0.46       349\n",
      "\n",
      "\n",
      "\n",
      "              precision    recall  f1-score   support\n",
      "\n",
      "           1       0.55      0.41      0.47       412\n",
      "           2       0.28      0.05      0.08       314\n",
      "           3       0.56      0.87      0.68       669\n",
      "\n",
      "    accuracy                           0.55      1395\n",
      "   macro avg       0.46      0.44      0.41      1395\n",
      "weighted avg       0.50      0.55      0.48      1395\n",
      "\n"
     ]
    }
   ],
   "source": [
    "### ANN\n",
    "####### on 3 levels\n",
    "y11_train=to_categorical(y1_train)\n",
    "y11_test=to_categorical(y1_test)\n",
    "\n",
    "y11_train=y11_train[:,1:]\n",
    "y11_test=y11_test[:,1:]\n",
    "\n",
    "model=Sequential()\n",
    "# Add the input layer and the first hidden layer\n",
    "model.add(Dense(32, input_dim=9, activation='relu'))\n",
    "\n",
    "# Add the output layer\n",
    "model.add(Dense(3, activation='softmax'))\n",
    "\n",
    "# Compile the model\n",
    "model.compile(loss='categorical_crossentropy', optimizer='adam', metrics=['accuracy'])\n",
    "\n",
    "# Train the model\n",
    "\n",
    "model.fit(X_train, y11_train, epochs=32, batch_size=16)\n",
    "\n",
    "\n",
    "pred_train=np.argmax(model.predict(X_train),axis=1)+1\n",
    "pred_test=np.argmax(model.predict(X_test),axis=1)+1\n",
    "\n",
    "print(classification_report(y1_test,pred_test))\n",
    "print(\"\\n\")\n",
    "print(classification_report(y1_train,pred_train))"
   ]
  },
  {
   "cell_type": "code",
   "execution_count": 113,
   "metadata": {
    "scrolled": false
   },
   "outputs": [
    {
     "data": {
      "image/png": "[encoded data removed]",
      "text/plain": [
       "<Figure size 640x480 with 1 Axes>"
      ]
     },
     "metadata": {},
     "output_type": "display_data"
    }
   ],
   "source": [
    "\n",
    "# Define the range of k values to evaluate\n",
    "k_values = range(2, 10)\n",
    "\n",
    "distortions = []\n",
    "results = []\n",
    "\n",
    "for k in k_values:\n",
    "    kmeans = KMeans(n_clusters=k, n_init=50)\n",
    "    kmeans.fit(X_train)\n",
    "    results.append(kmeans.labels_)\n",
    "    distortion = kmeans.inertia_\n",
    "    distortions.append(distortion)\n",
    "\n",
    "plt.plot(k_values, distortions, 'bx-')\n",
    "plt.xlabel('Number of Clusters (k)')\n",
    "plt.ylabel('Distortion')\n",
    "plt.title('Elbow Curve based on RI and Math Features')\n",
    "plt.show()\n"
   ]
  },
  {
   "cell_type": "code",
   "execution_count": 114,
   "metadata": {},
   "outputs": [
    {
     "name": "stdout",
     "output_type": "stream",
     "text": [
      "Average ARI: 0.9705432572135104\n"
     ]
    }
   ],
   "source": [
    "### Adjusted RandIndex\n",
    "from sklearn.metrics import adjusted_rand_score\n",
    "import numpy as np\n",
    "\n",
    "# Set the number of clusters for k-means\n",
    "n_clusters = 3\n",
    "\n",
    "cluster_labels = []\n",
    "all_labels = []\n",
    "num_runs = 10\n",
    "for _ in range(num_runs):\n",
    "    perturbed_data = X_train + np.random.normal(scale=0.01, size=X_train.shape)  # Perturb the data\n",
    "    labels = kmeans.fit_predict(perturbed_data)\n",
    "    cluster_labels.append(labels)\n",
    "\n",
    "# Calculate similarity scores (ARI) between clusters\n",
    "ari_scores = []\n",
    "for i in range(len(cluster_labels)):\n",
    "    for j in range(i+1, len(cluster_labels)):\n",
    "        ari = adjusted_rand_score(cluster_labels[i], cluster_labels[j])\n",
    "        ari_scores.append(ari)\n",
    "\n",
    "# Assess cluster stability using the similarity scores\n",
    "average_ari = np.mean(ari_scores)\n",
    "print(\"Average ARI:\", average_ari)\n"
   ]
  },
  {
   "cell_type": "markdown",
   "metadata": {},
   "source": [
    "## Experiment 3: RI English"
   ]
  },
  {
   "cell_type": "code",
   "execution_count": 115,
   "metadata": {},
   "outputs": [],
   "source": [
    "### Only on RI ANN\n",
    "RI_data=pd.concat([RI,RI_Math_data['Level ']],axis=1)\n",
    "X_train,X_test,y_train,y_test=train_test_split(RI_data.iloc[:,:-1],RI_data.iloc[:,-1],test_size=0.2,random_state=42)\n",
    "y1_train=y_train.replace({2:1,3:2,4:3,5:3})\n",
    "y1_test=y_test.replace({2:1,3:2,4:3,5:3})"
   ]
  },
  {
   "cell_type": "code",
   "execution_count": 116,
   "metadata": {},
   "outputs": [
    {
     "data": {
      "text/plain": [
       "Index(['GF', 'FK', 'SMOG', 'AR', 'CL', 'Level '], dtype='object')"
      ]
     },
     "execution_count": 116,
     "metadata": {},
     "output_type": "execute_result"
    }
   ],
   "source": [
    "RI_data.columns"
   ]
  },
  {
   "cell_type": "code",
   "execution_count": 117,
   "metadata": {},
   "outputs": [
    {
     "name": "stdout",
     "output_type": "stream",
     "text": [
      "Epoch 1/32\n",
      "88/88 [==============================] - 1s 2ms/step - loss: 15.6171 - accuracy: 0.2072\n",
      "Epoch 2/32\n",
      "88/88 [==============================] - 0s 2ms/step - loss: 3.7715 - accuracy: 0.2093\n",
      "Epoch 3/32\n",
      "88/88 [==============================] - 0s 2ms/step - loss: 2.1957 - accuracy: 0.2409\n",
      "Epoch 4/32\n",
      "88/88 [==============================] - 0s 2ms/step - loss: 1.8312 - accuracy: 0.2703\n",
      "Epoch 5/32\n",
      "88/88 [==============================] - 0s 2ms/step - loss: 1.7377 - accuracy: 0.2746\n",
      "Epoch 6/32\n",
      "88/88 [==============================] - 0s 2ms/step - loss: 1.7153 - accuracy: 0.2523\n",
      "Epoch 7/32\n",
      "88/88 [==============================] - 0s 2ms/step - loss: 1.6728 - accuracy: 0.2609\n",
      "Epoch 8/32\n",
      "88/88 [==============================] - 0s 2ms/step - loss: 1.6362 - accuracy: 0.2688\n",
      "Epoch 9/32\n",
      "88/88 [==============================] - 0s 2ms/step - loss: 1.6169 - accuracy: 0.2638\n",
      "Epoch 10/32\n",
      "88/88 [==============================] - 0s 2ms/step - loss: 1.6357 - accuracy: 0.2559\n",
      "Epoch 11/32\n",
      "88/88 [==============================] - 0s 2ms/step - loss: 1.5906 - accuracy: 0.2667\n",
      "Epoch 12/32\n",
      "88/88 [==============================] - 0s 2ms/step - loss: 1.6268 - accuracy: 0.2581\n",
      "Epoch 13/32\n",
      "88/88 [==============================] - 0s 2ms/step - loss: 1.6031 - accuracy: 0.2667\n",
      "Epoch 14/32\n",
      "88/88 [==============================] - 0s 2ms/step - loss: 1.5974 - accuracy: 0.2738\n",
      "Epoch 15/32\n",
      "88/88 [==============================] - 0s 2ms/step - loss: 1.6017 - accuracy: 0.2659\n",
      "Epoch 16/32\n",
      "88/88 [==============================] - 0s 2ms/step - loss: 1.5762 - accuracy: 0.2796\n",
      "Epoch 17/32\n",
      "88/88 [==============================] - 0s 2ms/step - loss: 1.5685 - accuracy: 0.2817\n",
      "Epoch 18/32\n",
      "88/88 [==============================] - 0s 2ms/step - loss: 1.5969 - accuracy: 0.2659\n",
      "Epoch 19/32\n",
      "88/88 [==============================] - 0s 2ms/step - loss: 1.5707 - accuracy: 0.2667\n",
      "Epoch 20/32\n",
      "88/88 [==============================] - 0s 2ms/step - loss: 1.5950 - accuracy: 0.2703\n",
      "Epoch 21/32\n",
      "88/88 [==============================] - 0s 1ms/step - loss: 1.5683 - accuracy: 0.2760\n",
      "Epoch 22/32\n",
      "88/88 [==============================] - 0s 2ms/step - loss: 1.5712 - accuracy: 0.2875\n",
      "Epoch 23/32\n",
      "88/88 [==============================] - 0s 2ms/step - loss: 1.5707 - accuracy: 0.2667\n",
      "Epoch 24/32\n",
      "88/88 [==============================] - 0s 2ms/step - loss: 1.5670 - accuracy: 0.2796\n",
      "Epoch 25/32\n",
      "88/88 [==============================] - 0s 2ms/step - loss: 1.5595 - accuracy: 0.2710\n",
      "Epoch 26/32\n",
      "88/88 [==============================] - 0s 2ms/step - loss: 1.5605 - accuracy: 0.2695\n",
      "Epoch 27/32\n",
      "88/88 [==============================] - 0s 2ms/step - loss: 1.5628 - accuracy: 0.2860\n",
      "Epoch 28/32\n",
      "88/88 [==============================] - 0s 2ms/step - loss: 1.5627 - accuracy: 0.2803\n",
      "Epoch 29/32\n",
      "88/88 [==============================] - 0s 2ms/step - loss: 1.5711 - accuracy: 0.2681\n",
      "Epoch 30/32\n",
      "88/88 [==============================] - 0s 2ms/step - loss: 1.5580 - accuracy: 0.2968\n",
      "Epoch 31/32\n",
      "88/88 [==============================] - 0s 2ms/step - loss: 1.5647 - accuracy: 0.2846\n",
      "Epoch 32/32\n",
      "88/88 [==============================] - 0s 2ms/step - loss: 1.5757 - accuracy: 0.2688\n",
      "44/44 [==============================] - 0s 1ms/step\n",
      "11/11 [==============================] - 0s 1ms/step\n",
      "              precision    recall  f1-score   support\n",
      "\n",
      "           1       0.38      0.07      0.12        41\n",
      "           2       0.17      0.48      0.25        65\n",
      "           3       0.33      0.01      0.02        78\n",
      "           4       0.00      0.00      0.00        78\n",
      "           5       0.31      0.56      0.40        87\n",
      "\n",
      "    accuracy                           0.24       349\n",
      "   macro avg       0.24      0.23      0.16       349\n",
      "weighted avg       0.23      0.24      0.17       349\n",
      "\n",
      "\n",
      "\n",
      "              precision    recall  f1-score   support\n",
      "\n",
      "           1       0.27      0.02      0.04       137\n",
      "           2       0.24      0.64      0.35       275\n",
      "           3       0.33      0.03      0.05       314\n",
      "           4       0.38      0.02      0.04       320\n",
      "           5       0.34      0.61      0.44       349\n",
      "\n",
      "    accuracy                           0.29      1395\n",
      "   macro avg       0.31      0.26      0.18      1395\n",
      "weighted avg       0.32      0.29      0.20      1395\n",
      "\n"
     ]
    }
   ],
   "source": [
    "\n",
    "### ANN on 5 levels\n",
    "y5_train=to_categorical(y_train)\n",
    "y5_test=to_categorical(y_test)\n",
    "\n",
    "y5_train=y5_train[:,1:]\n",
    "y5_test=y5_test[:,1:]\n",
    "\n",
    "model=Sequential()\n",
    "\n",
    "# Add the input layer and the first hidden layer\n",
    "model.add(Dense(32, input_dim=5, activation='relu'))\n",
    "\n",
    "# Add the output layer\n",
    "model.add(Dense(5, activation='softmax'))\n",
    "\n",
    "# Compile the model\n",
    "model.compile(loss='categorical_crossentropy', optimizer='adam', metrics=['accuracy'])\n",
    "\n",
    "# Train the model\n",
    "\n",
    "model.fit(X_train, y5_train, epochs=32, batch_size=16)\n",
    "pred_train=np.argmax(model.predict(X_train),axis=1)+1\n",
    "pred_test=np.argmax(model.predict(X_test),axis=1)+1\n",
    "\n",
    "print(classification_report(y_test,pred_test))\n",
    "print(\"\\n\")\n",
    "print(classification_report(y_train,pred_train))"
   ]
  },
  {
   "cell_type": "code",
   "execution_count": 118,
   "metadata": {},
   "outputs": [
    {
     "name": "stdout",
     "output_type": "stream",
     "text": [
      "Epoch 1/32\n",
      "88/88 [==============================] - 1s 2ms/step - loss: 3.4808 - accuracy: 0.4079\n",
      "Epoch 2/32\n",
      "88/88 [==============================] - 0s 2ms/step - loss: 1.5819 - accuracy: 0.4401\n",
      "Epoch 3/32\n",
      "88/88 [==============================] - 0s 2ms/step - loss: 1.3494 - accuracy: 0.4351\n",
      "Epoch 4/32\n",
      "88/88 [==============================] - 0s 2ms/step - loss: 1.2293 - accuracy: 0.4717\n",
      "Epoch 5/32\n",
      "88/88 [==============================] - 0s 2ms/step - loss: 1.1515 - accuracy: 0.4659\n",
      "Epoch 6/32\n",
      "88/88 [==============================] - 0s 2ms/step - loss: 1.1609 - accuracy: 0.4581\n",
      "Epoch 7/32\n",
      "88/88 [==============================] - 0s 2ms/step - loss: 1.1029 - accuracy: 0.4767\n",
      "Epoch 8/32\n",
      "88/88 [==============================] - 0s 2ms/step - loss: 1.0831 - accuracy: 0.4889\n",
      "Epoch 9/32\n",
      "88/88 [==============================] - 0s 2ms/step - loss: 1.0580 - accuracy: 0.4918\n",
      "Epoch 10/32\n",
      "88/88 [==============================] - 0s 2ms/step - loss: 1.0792 - accuracy: 0.4789\n",
      "Epoch 11/32\n",
      "88/88 [==============================] - 0s 2ms/step - loss: 1.0617 - accuracy: 0.4796\n",
      "Epoch 12/32\n",
      "88/88 [==============================] - 0s 2ms/step - loss: 1.0947 - accuracy: 0.4681\n",
      "Epoch 13/32\n",
      "88/88 [==============================] - 0s 2ms/step - loss: 1.0890 - accuracy: 0.4695\n",
      "Epoch 14/32\n",
      "88/88 [==============================] - 0s 2ms/step - loss: 1.0735 - accuracy: 0.4810\n",
      "Epoch 15/32\n",
      "88/88 [==============================] - 0s 2ms/step - loss: 1.0543 - accuracy: 0.4889\n",
      "Epoch 16/32\n",
      "88/88 [==============================] - 0s 2ms/step - loss: 1.0856 - accuracy: 0.4789\n",
      "Epoch 17/32\n",
      "88/88 [==============================] - 0s 2ms/step - loss: 1.0702 - accuracy: 0.4738\n",
      "Epoch 18/32\n",
      "88/88 [==============================] - 0s 2ms/step - loss: 1.0941 - accuracy: 0.4746\n",
      "Epoch 19/32\n",
      "88/88 [==============================] - 0s 2ms/step - loss: 1.0600 - accuracy: 0.4903\n",
      "Epoch 20/32\n",
      "88/88 [==============================] - 0s 2ms/step - loss: 1.0707 - accuracy: 0.4609\n",
      "Epoch 21/32\n",
      "88/88 [==============================] - 0s 2ms/step - loss: 1.0624 - accuracy: 0.4832\n",
      "Epoch 22/32\n",
      "88/88 [==============================] - 0s 2ms/step - loss: 1.0533 - accuracy: 0.5018\n",
      "Epoch 23/32\n",
      "88/88 [==============================] - 0s 2ms/step - loss: 1.0362 - accuracy: 0.5032\n",
      "Epoch 24/32\n",
      "88/88 [==============================] - 0s 2ms/step - loss: 1.0589 - accuracy: 0.4717\n",
      "Epoch 25/32\n",
      "88/88 [==============================] - 0s 2ms/step - loss: 1.0533 - accuracy: 0.4896\n",
      "Epoch 26/32\n",
      "88/88 [==============================] - 0s 2ms/step - loss: 1.0919 - accuracy: 0.4731\n",
      "Epoch 27/32\n",
      "88/88 [==============================] - 0s 2ms/step - loss: 1.0414 - accuracy: 0.4968\n",
      "Epoch 28/32\n",
      "88/88 [==============================] - 0s 2ms/step - loss: 1.0488 - accuracy: 0.4774\n",
      "Epoch 29/32\n",
      "88/88 [==============================] - 0s 2ms/step - loss: 1.0580 - accuracy: 0.4767\n",
      "Epoch 30/32\n",
      "88/88 [==============================] - 0s 2ms/step - loss: 1.0679 - accuracy: 0.4688\n",
      "Epoch 31/32\n",
      "88/88 [==============================] - 0s 2ms/step - loss: 1.0486 - accuracy: 0.4724\n",
      "Epoch 32/32\n",
      "88/88 [==============================] - 0s 2ms/step - loss: 1.0642 - accuracy: 0.4767\n",
      "44/44 [==============================] - 0s 2ms/step\n",
      "11/11 [==============================] - 0s 2ms/step\n",
      "              precision    recall  f1-score   support\n",
      "\n",
      "           1       0.50      0.34      0.40       106\n",
      "           2       1.00      0.01      0.03        78\n",
      "           3       0.53      0.88      0.66       165\n",
      "\n",
      "    accuracy                           0.52       349\n",
      "   macro avg       0.68      0.41      0.36       349\n",
      "weighted avg       0.63      0.52      0.44       349\n",
      "\n",
      "\n",
      "\n",
      "              precision    recall  f1-score   support\n",
      "\n",
      "           1       0.48      0.34      0.40       412\n",
      "           2       1.00      0.00      0.01       314\n",
      "           3       0.53      0.87      0.66       669\n",
      "\n",
      "    accuracy                           0.52      1395\n",
      "   macro avg       0.67      0.40      0.35      1395\n",
      "weighted avg       0.62      0.52      0.43      1395\n",
      "\n"
     ]
    }
   ],
   "source": [
    "#### ANN 3 classes\n",
    "\n",
    "y11_train=to_categorical(y1_train)\n",
    "y11_test=to_categorical(y1_test)\n",
    "\n",
    "y11_train=y11_train[:,1:]\n",
    "y11_test=y11_test[:,1:]\n",
    "\n",
    "model=Sequential()\n",
    "# Add the input layer and the first hidden layer\n",
    "model.add(Dense(32, input_dim=5, activation='relu'))\n",
    "\n",
    "# Add the output layer\n",
    "model.add(Dense(3, activation='softmax'))\n",
    "\n",
    "# Compile the model\n",
    "model.compile(loss='categorical_crossentropy', optimizer='adam', metrics=['accuracy'])\n",
    "\n",
    "# Train the model\n",
    "\n",
    "model.fit(X_train, y11_train, epochs=32, batch_size=16)\n",
    "\n",
    "\n",
    "pred_train=np.argmax(model.predict(X_train),axis=1)+1\n",
    "pred_test=np.argmax(model.predict(X_test),axis=1)+1\n",
    "\n",
    "print(classification_report(y1_test,pred_test))\n",
    "print(\"\\n\")\n",
    "print(classification_report(y1_train,pred_train))"
   ]
  },
  {
   "cell_type": "code",
   "execution_count": 119,
   "metadata": {},
   "outputs": [
    {
     "name": "stdout",
     "output_type": "stream",
     "text": [
      "              precision    recall  f1-score   support\n",
      "\n",
      "           1       0.40      0.47      0.43       137\n",
      "           2       0.37      0.19      0.25       275\n",
      "           3       0.30      0.19      0.23       314\n",
      "           4       0.40      0.21      0.28       320\n",
      "           5       0.37      0.76      0.50       349\n",
      "\n",
      "    accuracy                           0.36      1395\n",
      "   macro avg       0.37      0.36      0.34      1395\n",
      "weighted avg       0.36      0.36      0.33      1395\n",
      "\n",
      "\n",
      "\n",
      "              precision    recall  f1-score   support\n",
      "\n",
      "           1       0.24      0.24      0.24        41\n",
      "           2       0.36      0.25      0.29        65\n",
      "           3       0.38      0.23      0.29        78\n",
      "           4       0.18      0.09      0.12        78\n",
      "           5       0.33      0.68      0.45        87\n",
      "\n",
      "    accuracy                           0.32       349\n",
      "   macro avg       0.30      0.30      0.28       349\n",
      "weighted avg       0.30      0.32      0.29       349\n",
      "\n"
     ]
    }
   ],
   "source": [
    "## Decision Trees\n",
    "\n",
    "### Test on 5 levels\n",
    "mod_dt=DecisionTreeClassifier(class_weight='balanced',max_depth=5)\n",
    "mod_dt.fit(X_train,y_train)\n",
    "\n",
    "## Predictions\n",
    "tr_pred=mod_dt.predict(X_train)\n",
    "te_pred=mod_dt.predict(X_test)\n",
    "\n",
    "print(classification_report(y_train,tr_pred))\n",
    "print(\"\\n\")\n",
    "print(classification_report(y_test,te_pred))\n",
    "\n"
   ]
  },
  {
   "cell_type": "code",
   "execution_count": 120,
   "metadata": {},
   "outputs": [
    {
     "name": "stdout",
     "output_type": "stream",
     "text": [
      "              precision    recall  f1-score   support\n",
      "\n",
      "           1       0.38      0.70      0.50       412\n",
      "           2       0.46      0.23      0.31       314\n",
      "           3       0.66      0.48      0.56       669\n",
      "\n",
      "    accuracy                           0.49      1395\n",
      "   macro avg       0.50      0.47      0.45      1395\n",
      "weighted avg       0.53      0.49      0.48      1395\n",
      "\n",
      "\n",
      "\n",
      "              precision    recall  f1-score   support\n",
      "\n",
      "           1       0.35      0.63      0.45       106\n",
      "           2       0.27      0.13      0.17        78\n",
      "           3       0.57      0.42      0.49       165\n",
      "\n",
      "    accuracy                           0.42       349\n",
      "   macro avg       0.40      0.39      0.37       349\n",
      "weighted avg       0.44      0.42      0.41       349\n",
      "\n"
     ]
    }
   ],
   "source": [
    "### Decision Tree on 3 levels\n",
    "mod_dt=DecisionTreeClassifier(class_weight='balanced',max_depth=5)\n",
    "mod_dt.fit(X_train,y1_train)\n",
    "\n",
    "tr_pred=mod_dt.predict(X_train)\n",
    "te_pred=mod_dt.predict(X_test)\n",
    "\n",
    "print(classification_report(y1_train,tr_pred))\n",
    "print(\"\\n\")\n",
    "print(classification_report(y1_test,te_pred))\n"
   ]
  },
  {
   "cell_type": "code",
   "execution_count": 121,
   "metadata": {},
   "outputs": [
    {
     "data": {
      "image/png": "[encoded data removed]",
      "text/plain": [
       "<Figure size 640x480 with 1 Axes>"
      ]
     },
     "metadata": {},
     "output_type": "display_data"
    }
   ],
   "source": [
    "# Define the range of k values to evaluate\n",
    "k_values = range(2, 10)\n",
    "\n",
    "distortions = []\n",
    "results = []\n",
    "\n",
    "for k in k_values:\n",
    "    kmeans = KMeans(n_clusters=k, n_init=50)\n",
    "    kmeans.fit(X_train)\n",
    "    results.append(kmeans.labels_)\n",
    "    distortion = kmeans.inertia_\n",
    "    distortions.append(distortion)\n",
    "\n",
    "plt.plot(k_values, distortions, 'bx-')\n",
    "plt.xlabel('Number of Clusters (k)')\n",
    "plt.ylabel('Distortion')\n",
    "plt.title('Elbow Curve based on RI')\n",
    "plt.show()\n"
   ]
  },
  {
   "cell_type": "code",
   "execution_count": 122,
   "metadata": {},
   "outputs": [
    {
     "name": "stdout",
     "output_type": "stream",
     "text": [
      "Average ARI: 0.9967908978399902\n"
     ]
    }
   ],
   "source": [
    "### Adjusted RandIndex\n",
    "from sklearn.metrics import adjusted_rand_score\n",
    "import numpy as np\n",
    "\n",
    "# Set the number of clusters for k-means\n",
    "n_clusters = 3\n",
    "\n",
    "cluster_labels = []\n",
    "all_labels = []\n",
    "num_runs = 10\n",
    "for _ in range(num_runs):\n",
    "    perturbed_data = X_train + np.random.normal(scale=0.01, size=X_train.shape)  # Perturb the data\n",
    "    labels = kmeans.fit_predict(perturbed_data)\n",
    "    cluster_labels.append(labels)\n",
    "\n",
    "# Calculate similarity scores (ARI) between clusters\n",
    "ari_scores = []\n",
    "for i in range(len(cluster_labels)):\n",
    "    for j in range(i+1, len(cluster_labels)):\n",
    "        ari = adjusted_rand_score(cluster_labels[i], cluster_labels[j])\n",
    "        ari_scores.append(ari)\n",
    "\n",
    "# Assess cluster stability using the similarity scores\n",
    "average_ari = np.mean(ari_scores)\n",
    "print(\"Average ARI:\", average_ari)\n"
   ]
  },
  {
   "cell_type": "code",
   "execution_count": 123,
   "metadata": {},
   "outputs": [
    {
     "name": "stdout",
     "output_type": "stream",
     "text": [
      "Optimization terminated successfully.\n",
      "         Current function value: 1.538171\n",
      "         Iterations: 25\n",
      "         Function evaluations: 28\n",
      "         Gradient evaluations: 28\n"
     ]
    }
   ],
   "source": [
    "### Ordered regression  5 classes\n",
    "#### Ordered Regression 5 classes\n",
    "ord_data=pd.concat([X_train,y_train],axis=1)\n",
    "mod_ordered=OrderedModel(ord_data['Level '],ord_data[['GF', 'FK', 'SMOG', 'AR', 'CL']],distr='logit')\n",
    "\n",
    "res_log = mod_ordered.fit(method='bfgs')\n",
    "res_log.summary()\n",
    "\n",
    "\n",
    "ord_test=pd.concat([X_test,y_test],axis=1)\n",
    "pred_train=res_log.model.predict(res_log.params, exog=ord_data[['GF', 'FK', 'SMOG', 'AR', 'CL']])\n",
    "pred_test=res_log.model.predict(res_log.params, exog=ord_test[['GF', 'FK', 'SMOG', 'AR', 'CL']])\n"
   ]
  },
  {
   "cell_type": "code",
   "execution_count": 124,
   "metadata": {},
   "outputs": [
    {
     "name": "stdout",
     "output_type": "stream",
     "text": [
      "              precision    recall  f1-score   support\n",
      "\n",
      "           1       0.00      0.00      0.00       137\n",
      "           2       0.29      0.32      0.30       275\n",
      "           3       0.27      0.26      0.27       314\n",
      "           4       0.18      0.02      0.04       320\n",
      "           5       0.31      0.67      0.43       349\n",
      "\n",
      "    accuracy                           0.29      1395\n",
      "   macro avg       0.21      0.25      0.21      1395\n",
      "weighted avg       0.24      0.29      0.24      1395\n",
      "\n",
      "\n",
      "\n",
      "              precision    recall  f1-score   support\n",
      "\n",
      "           1       0.00      0.00      0.00        41\n",
      "           2       0.20      0.23      0.21        65\n",
      "           3       0.24      0.23      0.24        78\n",
      "           4       0.22      0.03      0.05        78\n",
      "           5       0.28      0.61      0.38        87\n",
      "\n",
      "    accuracy                           0.25       349\n",
      "   macro avg       0.19      0.22      0.18       349\n",
      "weighted avg       0.21      0.25      0.20       349\n",
      "\n"
     ]
    }
   ],
   "source": [
    "pred_train1=np.argmax(pred_train, axis=1)+1\n",
    "pred_test1=np.argmax(pred_test, axis=1)+1\n",
    "print(classification_report(ord_data['Level '],pred_train1))\n",
    "print(\"\\n\")\n",
    "print(classification_report(ord_test['Level '],pred_test1))"
   ]
  },
  {
   "cell_type": "code",
   "execution_count": 125,
   "metadata": {},
   "outputs": [
    {
     "data": {
      "text/plain": [
       "Index(['GF', 'FK', 'SMOG', 'AR', 'CL'], dtype='object')"
      ]
     },
     "execution_count": 125,
     "metadata": {},
     "output_type": "execute_result"
    }
   ],
   "source": [
    "X_train.columns"
   ]
  },
  {
   "cell_type": "code",
   "execution_count": 126,
   "metadata": {},
   "outputs": [
    {
     "name": "stdout",
     "output_type": "stream",
     "text": [
      "Optimization terminated successfully.\n",
      "         Current function value: 1.026114\n",
      "         Iterations: 21\n",
      "         Function evaluations: 24\n",
      "         Gradient evaluations: 24\n"
     ]
    }
   ],
   "source": [
    "#### Ordered Regression 3 levels\n",
    "from statsmodels.miscmodels.ordinal_model import OrderedModel\n",
    "ord_data1=pd.concat([X_train,y1_train],axis=1)\n",
    "mod_ordered1=OrderedModel(ord_data1['Level '],ord_data1[['GF', 'FK', 'SMOG', 'AR', 'CL']],distr='logit')\n",
    "\n",
    "res_log1 = mod_ordered1.fit(method='bfgs')\n",
    "res_log1.summary()\n",
    "\n",
    "\n",
    "ord_test1=pd.concat([X_test,y1_test],axis=1)\n",
    "pred_train=res_log1.model.predict(res_log1.params, exog=ord_data1[['GF', 'FK', 'SMOG', 'AR', 'CL']])\n",
    "pred_test=res_log1.model.predict(res_log1.params, exog=ord_test1[['GF', 'FK', 'SMOG', 'AR', 'CL']])\n"
   ]
  },
  {
   "cell_type": "code",
   "execution_count": 127,
   "metadata": {},
   "outputs": [
    {
     "name": "stdout",
     "output_type": "stream",
     "text": [
      "              precision    recall  f1-score   support\n",
      "\n",
      "           1       0.45      0.29      0.36       412\n",
      "           2       0.00      0.00      0.00       314\n",
      "           3       0.51      0.87      0.65       669\n",
      "\n",
      "    accuracy                           0.50      1395\n",
      "   macro avg       0.32      0.39      0.33      1395\n",
      "weighted avg       0.38      0.50      0.41      1395\n",
      "\n"
     ]
    }
   ],
   "source": [
    "pred_train=np.argmax(pred_train,axis=1)+1\n",
    "pred_test=np.argmax(pred_test,axis=1)+1\n",
    "\n",
    "print(classification_report(ord_data1['Level '],pred_train))"
   ]
  },
  {
   "cell_type": "code",
   "execution_count": 128,
   "metadata": {},
   "outputs": [
    {
     "name": "stdout",
     "output_type": "stream",
     "text": [
      "              precision    recall  f1-score   support\n",
      "\n",
      "           1       0.51      0.32      0.39       106\n",
      "           2       0.00      0.00      0.00        78\n",
      "           3       0.52      0.88      0.65       165\n",
      "\n",
      "    accuracy                           0.52       349\n",
      "   macro avg       0.34      0.40      0.35       349\n",
      "weighted avg       0.40      0.52      0.43       349\n",
      "\n"
     ]
    }
   ],
   "source": [
    "print(classification_report(ord_test1['Level '],pred_test))"
   ]
  },
  {
   "cell_type": "code",
   "execution_count": 129,
   "metadata": {},
   "outputs": [],
   "source": [
    "####3 MAth Equation\n",
    "RI_Math_data['computed']=RI_Math_data['Mword_count']*0.2824 + RI_Math_data['mathprop']*(-0.0773) + RI_Math_data['MathSymbolsPerSentence']*(.1345)+ RI_Math_data['NumCountPerSentence']*(-0.0262)"
   ]
  },
  {
   "cell_type": "code",
   "execution_count": 130,
   "metadata": {},
   "outputs": [],
   "source": [
    "cols=['GF','FK','SMOG','AR','CL','computed','Level ']\n",
    "new_data=RI_Math_data[cols]"
   ]
  },
  {
   "cell_type": "code",
   "execution_count": 131,
   "metadata": {},
   "outputs": [],
   "source": [
    "X_train,X_test,y_train,y_test=train_test_split(new_data.iloc[:,:-1],new_data.iloc[:,-1],test_size=0.2,random_state=42)\n",
    "y1_train=y_train.replace({2:1,3:2,4:3,5:3})\n",
    "y1_test=y_test.replace({2:1,3:2,4:3,5:3})"
   ]
  },
  {
   "cell_type": "code",
   "execution_count": 132,
   "metadata": {},
   "outputs": [
    {
     "name": "stdout",
     "output_type": "stream",
     "text": [
      "              precision    recall  f1-score   support\n",
      "\n",
      "           1       0.38      0.55      0.45       137\n",
      "           2       0.31      0.40      0.35       275\n",
      "           3       0.35      0.30      0.32       314\n",
      "           4       0.47      0.12      0.19       320\n",
      "           5       0.44      0.61      0.51       349\n",
      "\n",
      "    accuracy                           0.38      1395\n",
      "   macro avg       0.39      0.40      0.36      1395\n",
      "weighted avg       0.39      0.38      0.36      1395\n",
      "\n",
      "\n",
      "\n",
      "              precision    recall  f1-score   support\n",
      "\n",
      "           1       0.23      0.27      0.25        41\n",
      "           2       0.26      0.38      0.31        65\n",
      "           3       0.36      0.29      0.32        78\n",
      "           4       0.19      0.08      0.11        78\n",
      "           5       0.41      0.52      0.45        87\n",
      "\n",
      "    accuracy                           0.32       349\n",
      "   macro avg       0.29      0.31      0.29       349\n",
      "weighted avg       0.30      0.32      0.30       349\n",
      "\n"
     ]
    }
   ],
   "source": [
    "### Decision Tree on 5 levels\n",
    "mod_dt=DecisionTreeClassifier(class_weight='balanced',max_depth=5)\n",
    "mod_dt.fit(X_train,y_train)\n",
    "\n",
    "tr_pred=mod_dt.predict(X_train)\n",
    "te_pred=mod_dt.predict(X_test)\n",
    "\n",
    "print(classification_report(y_train,tr_pred))\n",
    "print(\"\\n\")\n",
    "print(classification_report(y_test,te_pred))\n"
   ]
  },
  {
   "cell_type": "code",
   "execution_count": 133,
   "metadata": {},
   "outputs": [
    {
     "name": "stdout",
     "output_type": "stream",
     "text": [
      "              precision    recall  f1-score   support\n",
      "\n",
      "           1       0.47      0.69      0.56       412\n",
      "           2       0.41      0.34      0.37       314\n",
      "           3       0.67      0.54      0.60       669\n",
      "\n",
      "    accuracy                           0.54      1395\n",
      "   macro avg       0.52      0.52      0.51      1395\n",
      "weighted avg       0.55      0.54      0.54      1395\n",
      "\n",
      "\n",
      "\n",
      "              precision    recall  f1-score   support\n",
      "\n",
      "           1       0.45      0.61      0.52       106\n",
      "           2       0.33      0.27      0.30        78\n",
      "           3       0.69      0.58      0.63       165\n",
      "\n",
      "    accuracy                           0.52       349\n",
      "   macro avg       0.49      0.49      0.48       349\n",
      "weighted avg       0.54      0.52      0.52       349\n",
      "\n"
     ]
    }
   ],
   "source": [
    "### Decision Tree on 3 levels\n",
    "mod_dt=DecisionTreeClassifier(class_weight='balanced',max_depth=5)\n",
    "mod_dt.fit(X_train,y1_train)\n",
    "\n",
    "tr_pred=mod_dt.predict(X_train)\n",
    "te_pred=mod_dt.predict(X_test)\n",
    "\n",
    "print(classification_report(y1_train,tr_pred))\n",
    "print(\"\\n\")\n",
    "print(classification_report(y1_test,te_pred))\n"
   ]
  },
  {
   "cell_type": "code",
   "execution_count": 134,
   "metadata": {},
   "outputs": [
    {
     "name": "stdout",
     "output_type": "stream",
     "text": [
      "Epoch 1/32\n",
      "88/88 [==============================] - 1s 2ms/step - loss: 12.8831 - accuracy: 0.2022\n",
      "Epoch 2/32\n",
      "88/88 [==============================] - 0s 2ms/step - loss: 2.3269 - accuracy: 0.2409\n",
      "Epoch 3/32\n",
      "88/88 [==============================] - 0s 2ms/step - loss: 1.9448 - accuracy: 0.2530\n",
      "Epoch 4/32\n",
      "88/88 [==============================] - 0s 2ms/step - loss: 1.8296 - accuracy: 0.2516\n",
      "Epoch 5/32\n",
      "88/88 [==============================] - 0s 2ms/step - loss: 1.7685 - accuracy: 0.2559\n",
      "Epoch 6/32\n",
      "88/88 [==============================] - 0s 2ms/step - loss: 1.7281 - accuracy: 0.2595\n",
      "Epoch 7/32\n",
      "88/88 [==============================] - 0s 2ms/step - loss: 1.6957 - accuracy: 0.2724\n",
      "Epoch 8/32\n",
      "88/88 [==============================] - 0s 2ms/step - loss: 1.6928 - accuracy: 0.2631\n",
      "Epoch 9/32\n",
      "88/88 [==============================] - 0s 2ms/step - loss: 1.6534 - accuracy: 0.2631\n",
      "Epoch 10/32\n",
      "88/88 [==============================] - 0s 2ms/step - loss: 1.6358 - accuracy: 0.2573\n",
      "Epoch 11/32\n",
      "88/88 [==============================] - 0s 2ms/step - loss: 1.6271 - accuracy: 0.2681\n",
      "Epoch 12/32\n",
      "88/88 [==============================] - 0s 2ms/step - loss: 1.6130 - accuracy: 0.2738\n",
      "Epoch 13/32\n",
      "88/88 [==============================] - 0s 2ms/step - loss: 1.6021 - accuracy: 0.2839\n",
      "Epoch 14/32\n",
      "88/88 [==============================] - 0s 2ms/step - loss: 1.5969 - accuracy: 0.2703\n",
      "Epoch 15/32\n",
      "88/88 [==============================] - 0s 2ms/step - loss: 1.5674 - accuracy: 0.2846\n",
      "Epoch 16/32\n",
      "88/88 [==============================] - 0s 2ms/step - loss: 1.5703 - accuracy: 0.2796\n",
      "Epoch 17/32\n",
      "88/88 [==============================] - 0s 2ms/step - loss: 1.5858 - accuracy: 0.2839\n",
      "Epoch 18/32\n",
      "88/88 [==============================] - 0s 2ms/step - loss: 1.5580 - accuracy: 0.2832\n",
      "Epoch 19/32\n",
      "88/88 [==============================] - 0s 2ms/step - loss: 1.5862 - accuracy: 0.2896\n",
      "Epoch 20/32\n",
      "88/88 [==============================] - 0s 2ms/step - loss: 1.5618 - accuracy: 0.2824\n",
      "Epoch 21/32\n",
      "88/88 [==============================] - 0s 2ms/step - loss: 1.5649 - accuracy: 0.2982\n",
      "Epoch 22/32\n",
      "88/88 [==============================] - 0s 2ms/step - loss: 1.5659 - accuracy: 0.2781\n",
      "Epoch 23/32\n",
      "88/88 [==============================] - 0s 2ms/step - loss: 1.5515 - accuracy: 0.2860\n",
      "Epoch 24/32\n",
      "88/88 [==============================] - 0s 2ms/step - loss: 1.5381 - accuracy: 0.2932\n",
      "Epoch 25/32\n",
      "88/88 [==============================] - 0s 2ms/step - loss: 1.5396 - accuracy: 0.2882\n",
      "Epoch 26/32\n",
      "88/88 [==============================] - 0s 2ms/step - loss: 1.5543 - accuracy: 0.3032\n",
      "Epoch 27/32\n",
      "88/88 [==============================] - 0s 2ms/step - loss: 1.5374 - accuracy: 0.3082\n",
      "Epoch 28/32\n",
      "88/88 [==============================] - 0s 2ms/step - loss: 1.5606 - accuracy: 0.2910\n",
      "Epoch 29/32\n",
      "88/88 [==============================] - 0s 2ms/step - loss: 1.5256 - accuracy: 0.3047\n",
      "Epoch 30/32\n",
      "88/88 [==============================] - 0s 2ms/step - loss: 1.5227 - accuracy: 0.3004\n",
      "Epoch 31/32\n",
      "88/88 [==============================] - 0s 2ms/step - loss: 1.5459 - accuracy: 0.2975\n",
      "Epoch 32/32\n",
      "88/88 [==============================] - 0s 2ms/step - loss: 1.5384 - accuracy: 0.3011\n",
      "44/44 [==============================] - 0s 1ms/step\n",
      "11/11 [==============================] - 0s 2ms/step\n",
      "              precision    recall  f1-score   support\n",
      "\n",
      "           1       0.31      0.29      0.30        41\n",
      "           2       0.00      0.00      0.00        65\n",
      "           3       0.25      0.47      0.32        78\n",
      "           4       0.08      0.01      0.02        78\n",
      "           5       0.33      0.56      0.42        87\n",
      "\n",
      "    accuracy                           0.28       349\n",
      "   macro avg       0.19      0.27      0.21       349\n",
      "weighted avg       0.19      0.28      0.22       349\n",
      "\n",
      "\n",
      "\n",
      "              precision    recall  f1-score   support\n",
      "\n",
      "           1       0.29      0.27      0.28       137\n",
      "           2       0.20      0.00      0.01       275\n",
      "           3       0.26      0.51      0.35       314\n",
      "           4       0.39      0.08      0.13       320\n",
      "           5       0.37      0.62      0.47       349\n",
      "\n",
      "    accuracy                           0.32      1395\n",
      "   macro avg       0.30      0.30      0.25      1395\n",
      "weighted avg       0.31      0.32      0.25      1395\n",
      "\n"
     ]
    }
   ],
   "source": [
    "### ANN on 5 levels\n",
    "y5_train=to_categorical(y_train)\n",
    "y5_test=to_categorical(y_test)\n",
    "\n",
    "y5_train=y5_train[:,1:]\n",
    "y5_test=y5_test[:,1:]\n",
    "\n",
    "model=Sequential()\n",
    "\n",
    "# Add the input layer and the first hidden layer\n",
    "model.add(Dense(32, input_dim=6, activation='relu'))\n",
    "\n",
    "# Add the output layer\n",
    "model.add(Dense(5, activation='softmax'))\n",
    "\n",
    "# Compile the model\n",
    "model.compile(loss='categorical_crossentropy', optimizer='adam', metrics=['accuracy'])\n",
    "\n",
    "# Train the model\n",
    "\n",
    "model.fit(X_train, y5_train, epochs=32, batch_size=16)\n",
    "pred_train=np.argmax(model.predict(X_train),axis=1)+1\n",
    "pred_test=np.argmax(model.predict(X_test),axis=1)+1\n",
    "\n",
    "print(classification_report(y_test,pred_test))\n",
    "print(\"\\n\")\n",
    "print(classification_report(y_train,pred_train))"
   ]
  },
  {
   "cell_type": "code",
   "execution_count": 135,
   "metadata": {},
   "outputs": [
    {
     "name": "stdout",
     "output_type": "stream",
     "text": [
      "Epoch 1/32\n",
      "88/88 [==============================] - 1s 1ms/step - loss: 6.5121 - accuracy: 0.3799\n",
      "Epoch 2/32\n",
      "88/88 [==============================] - 0s 2ms/step - loss: 1.2647 - accuracy: 0.4667\n",
      "Epoch 3/32\n",
      "88/88 [==============================] - 0s 1ms/step - loss: 1.1681 - accuracy: 0.4738\n",
      "Epoch 4/32\n",
      "88/88 [==============================] - 0s 2ms/step - loss: 1.1613 - accuracy: 0.4810\n",
      "Epoch 5/32\n",
      "88/88 [==============================] - 0s 2ms/step - loss: 1.1038 - accuracy: 0.4781\n",
      "Epoch 6/32\n",
      "88/88 [==============================] - 0s 2ms/step - loss: 1.0812 - accuracy: 0.4853\n",
      "Epoch 7/32\n",
      "88/88 [==============================] - 0s 2ms/step - loss: 1.0610 - accuracy: 0.4860\n",
      "Epoch 8/32\n",
      "88/88 [==============================] - 0s 2ms/step - loss: 1.0976 - accuracy: 0.4509\n",
      "Epoch 9/32\n",
      "88/88 [==============================] - 0s 2ms/step - loss: 1.0423 - accuracy: 0.5068\n",
      "Epoch 10/32\n",
      "88/88 [==============================] - 0s 2ms/step - loss: 1.0489 - accuracy: 0.5039\n",
      "Epoch 11/32\n",
      "88/88 [==============================] - 0s 2ms/step - loss: 1.0288 - accuracy: 0.4996\n",
      "Epoch 12/32\n",
      "88/88 [==============================] - 0s 2ms/step - loss: 1.0431 - accuracy: 0.4975\n",
      "Epoch 13/32\n",
      "88/88 [==============================] - 0s 2ms/step - loss: 1.0473 - accuracy: 0.4939\n",
      "Epoch 14/32\n",
      "88/88 [==============================] - 0s 2ms/step - loss: 1.0455 - accuracy: 0.4975\n",
      "Epoch 15/32\n",
      "88/88 [==============================] - 0s 2ms/step - loss: 1.0547 - accuracy: 0.4896\n",
      "Epoch 16/32\n",
      "88/88 [==============================] - 0s 2ms/step - loss: 1.0356 - accuracy: 0.4968\n",
      "Epoch 17/32\n",
      "88/88 [==============================] - 0s 2ms/step - loss: 1.0343 - accuracy: 0.5097\n",
      "Epoch 18/32\n",
      "88/88 [==============================] - 0s 2ms/step - loss: 1.0481 - accuracy: 0.4932\n",
      "Epoch 19/32\n",
      "88/88 [==============================] - 0s 2ms/step - loss: 1.0385 - accuracy: 0.5018\n",
      "Epoch 20/32\n",
      "88/88 [==============================] - 0s 2ms/step - loss: 1.0298 - accuracy: 0.5111\n",
      "Epoch 21/32\n",
      "88/88 [==============================] - 0s 2ms/step - loss: 1.0214 - accuracy: 0.5140\n",
      "Epoch 22/32\n",
      "88/88 [==============================] - 0s 2ms/step - loss: 1.0295 - accuracy: 0.5025\n",
      "Epoch 23/32\n",
      "88/88 [==============================] - 0s 2ms/step - loss: 1.0229 - accuracy: 0.5011\n",
      "Epoch 24/32\n",
      "88/88 [==============================] - 0s 2ms/step - loss: 1.0306 - accuracy: 0.5111\n",
      "Epoch 25/32\n",
      "88/88 [==============================] - 0s 2ms/step - loss: 1.0230 - accuracy: 0.4946\n",
      "Epoch 26/32\n",
      "88/88 [==============================] - 0s 2ms/step - loss: 1.0394 - accuracy: 0.5032\n",
      "Epoch 27/32\n",
      "88/88 [==============================] - 0s 2ms/step - loss: 1.0333 - accuracy: 0.4910\n",
      "Epoch 28/32\n",
      "88/88 [==============================] - 0s 2ms/step - loss: 1.0204 - accuracy: 0.4910\n",
      "Epoch 29/32\n",
      "88/88 [==============================] - 0s 2ms/step - loss: 1.0164 - accuracy: 0.5090\n",
      "Epoch 30/32\n",
      "88/88 [==============================] - 0s 2ms/step - loss: 1.0199 - accuracy: 0.5054\n",
      "Epoch 31/32\n",
      "88/88 [==============================] - 0s 2ms/step - loss: 1.0422 - accuracy: 0.4932\n",
      "Epoch 32/32\n",
      "88/88 [==============================] - 0s 2ms/step - loss: 1.0471 - accuracy: 0.4932\n",
      "44/44 [==============================] - 0s 1ms/step\n",
      "11/11 [==============================] - 0s 1ms/step\n",
      "              precision    recall  f1-score   support\n",
      "\n",
      "           1       0.77      0.09      0.17       106\n",
      "           2       0.11      0.03      0.04        78\n",
      "           3       0.49      0.94      0.64       165\n",
      "\n",
      "    accuracy                           0.48       349\n",
      "   macro avg       0.45      0.35      0.28       349\n",
      "weighted avg       0.49      0.48      0.36       349\n",
      "\n",
      "\n",
      "\n",
      "              precision    recall  f1-score   support\n",
      "\n",
      "           1       0.60      0.08      0.14       412\n",
      "           2       0.23      0.06      0.10       314\n",
      "           3       0.51      0.95      0.66       669\n",
      "\n",
      "    accuracy                           0.49      1395\n",
      "   macro avg       0.44      0.36      0.30      1395\n",
      "weighted avg       0.47      0.49      0.38      1395\n",
      "\n"
     ]
    }
   ],
   "source": [
    "#### ANN 3 classes\n",
    "\n",
    "y11_train=to_categorical(y1_train)\n",
    "y11_test=to_categorical(y1_test)\n",
    "\n",
    "y11_train=y11_train[:,1:]\n",
    "y11_test=y11_test[:,1:]\n",
    "\n",
    "model=Sequential()\n",
    "# Add the input layer and the first hidden layer\n",
    "model.add(Dense(32, input_dim=6, activation='relu'))\n",
    "\n",
    "# Add the output layer\n",
    "model.add(Dense(3, activation='softmax'))\n",
    "\n",
    "# Compile the model\n",
    "model.compile(loss='categorical_crossentropy', optimizer='adam', metrics=['accuracy'])\n",
    "\n",
    "# Train the model\n",
    "\n",
    "model.fit(X_train, y11_train, epochs=32, batch_size=16)\n",
    "\n",
    "\n",
    "pred_train=np.argmax(model.predict(X_train),axis=1)+1\n",
    "pred_test=np.argmax(model.predict(X_test),axis=1)+1\n",
    "\n",
    "print(classification_report(y1_test,pred_test))\n",
    "print(\"\\n\")\n",
    "print(classification_report(y1_train,pred_train))"
   ]
  },
  {
   "cell_type": "code",
   "execution_count": 140,
   "metadata": {},
   "outputs": [
    {
     "data": {
      "text/plain": [
       "0.27168458781362004"
      ]
     },
     "execution_count": 140,
     "metadata": {},
     "output_type": "execute_result"
    }
   ],
   "source": [
    "######## Cross Validation\n",
    "from sklearn.model_selection import cross_val_score\n",
    "from sklearn.model_selection import KFold\n",
    "\n",
    "classifier=\n",
    "\n",
    "kfold = KFold(n_splits=5, shuffle=True, random_state=42)\n",
    "\n",
    "# Perform cross-validation and calculate the accuracy scores\n",
    "scores = cross_val_score(classifier, X_train, y_train, cv=kfold)\n",
    "scores.mean()"
   ]
  },
  {
   "cell_type": "code",
   "execution_count": 138,
   "metadata": {},
   "outputs": [
    {
     "data": {
      "text/plain": [
       "array([0.29032258, 0.2437276 , 0.25806452, 0.31182796, 0.25089606])"
      ]
     },
     "execution_count": 138,
     "metadata": {},
     "output_type": "execute_result"
    }
   ],
   "source": []
  },
  {
   "cell_type": "code",
   "execution_count": 136,
   "metadata": {},
   "outputs": [
    {
     "name": "stdout",
     "output_type": "stream",
     "text": [
      "Epoch 1/32\n"
     ]
    },
    {
     "ename": "ValueError",
     "evalue": "in user code:\n\n    File \"C:\\Users\\Pawan\\anaconda3\\lib\\site-packages\\keras\\engine\\training.py\", line 1284, in train_function  *\n        return step_function(self, iterator)\n    File \"C:\\Users\\Pawan\\anaconda3\\lib\\site-packages\\keras\\engine\\training.py\", line 1268, in step_function  **\n        outputs = model.distribute_strategy.run(run_step, args=(data,))\n    File \"C:\\Users\\Pawan\\anaconda3\\lib\\site-packages\\keras\\engine\\training.py\", line 1249, in run_step  **\n        outputs = model.train_step(data)\n    File \"C:\\Users\\Pawan\\anaconda3\\lib\\site-packages\\keras\\engine\\training.py\", line 1050, in train_step\n        y_pred = self(x, training=True)\n    File \"C:\\Users\\Pawan\\anaconda3\\lib\\site-packages\\keras\\utils\\traceback_utils.py\", line 70, in error_handler\n        raise e.with_traceback(filtered_tb) from None\n    File \"C:\\Users\\Pawan\\anaconda3\\lib\\site-packages\\keras\\engine\\input_spec.py\", line 298, in assert_input_compatibility\n        raise ValueError(\n\n    ValueError: Input 0 of layer \"sequential_8\" is incompatible with the layer: expected shape=(None, 5), found shape=(None, 6)\n",
     "output_type": "error",
     "traceback": [
      "\u001b[1;31m---------------------------------------------------------------------------\u001b[0m",
      "\u001b[1;31mValueError\u001b[0m                                Traceback (most recent call last)",
      "\u001b[1;32m~\\AppData\\Local\\Temp\\ipykernel_32284\\1273774600.py\u001b[0m in \u001b[0;36m<module>\u001b[1;34m\u001b[0m\n\u001b[0;32m     14\u001b[0m \u001b[1;33m\u001b[0m\u001b[0m\n\u001b[0;32m     15\u001b[0m \u001b[1;31m# Train the model\u001b[0m\u001b[1;33m\u001b[0m\u001b[1;33m\u001b[0m\u001b[0m\n\u001b[1;32m---> 16\u001b[1;33m \u001b[0mmodel\u001b[0m\u001b[1;33m.\u001b[0m\u001b[0mfit\u001b[0m\u001b[1;33m(\u001b[0m\u001b[0mX_train\u001b[0m\u001b[1;33m,\u001b[0m \u001b[0my2_train\u001b[0m\u001b[1;33m,\u001b[0m \u001b[0mepochs\u001b[0m\u001b[1;33m=\u001b[0m\u001b[1;36m32\u001b[0m\u001b[1;33m,\u001b[0m \u001b[0mbatch_size\u001b[0m\u001b[1;33m=\u001b[0m\u001b[1;36m16\u001b[0m\u001b[1;33m)\u001b[0m\u001b[1;33m\u001b[0m\u001b[1;33m\u001b[0m\u001b[0m\n\u001b[0m\u001b[0;32m     17\u001b[0m \u001b[1;33m\u001b[0m\u001b[0m\n\u001b[0;32m     18\u001b[0m \u001b[1;31m# Once the model is trained, you can use it for predictions\u001b[0m\u001b[1;33m\u001b[0m\u001b[1;33m\u001b[0m\u001b[0m\n",
      "\u001b[1;32m~\\anaconda3\\lib\\site-packages\\keras\\utils\\traceback_utils.py\u001b[0m in \u001b[0;36merror_handler\u001b[1;34m(*args, **kwargs)\u001b[0m\n\u001b[0;32m     68\u001b[0m             \u001b[1;31m# To get the full stack trace, call:\u001b[0m\u001b[1;33m\u001b[0m\u001b[1;33m\u001b[0m\u001b[0m\n\u001b[0;32m     69\u001b[0m             \u001b[1;31m# `tf.debugging.disable_traceback_filtering()`\u001b[0m\u001b[1;33m\u001b[0m\u001b[1;33m\u001b[0m\u001b[0m\n\u001b[1;32m---> 70\u001b[1;33m             \u001b[1;32mraise\u001b[0m \u001b[0me\u001b[0m\u001b[1;33m.\u001b[0m\u001b[0mwith_traceback\u001b[0m\u001b[1;33m(\u001b[0m\u001b[0mfiltered_tb\u001b[0m\u001b[1;33m)\u001b[0m \u001b[1;32mfrom\u001b[0m \u001b[1;32mNone\u001b[0m\u001b[1;33m\u001b[0m\u001b[1;33m\u001b[0m\u001b[0m\n\u001b[0m\u001b[0;32m     71\u001b[0m         \u001b[1;32mfinally\u001b[0m\u001b[1;33m:\u001b[0m\u001b[1;33m\u001b[0m\u001b[1;33m\u001b[0m\u001b[0m\n\u001b[0;32m     72\u001b[0m             \u001b[1;32mdel\u001b[0m \u001b[0mfiltered_tb\u001b[0m\u001b[1;33m\u001b[0m\u001b[1;33m\u001b[0m\u001b[0m\n",
      "\u001b[1;32m~\\anaconda3\\lib\\site-packages\\keras\\engine\\training.py\u001b[0m in \u001b[0;36mtf__train_function\u001b[1;34m(iterator)\u001b[0m\n\u001b[0;32m     13\u001b[0m                 \u001b[1;32mtry\u001b[0m\u001b[1;33m:\u001b[0m\u001b[1;33m\u001b[0m\u001b[1;33m\u001b[0m\u001b[0m\n\u001b[0;32m     14\u001b[0m                     \u001b[0mdo_return\u001b[0m \u001b[1;33m=\u001b[0m \u001b[1;32mTrue\u001b[0m\u001b[1;33m\u001b[0m\u001b[1;33m\u001b[0m\u001b[0m\n\u001b[1;32m---> 15\u001b[1;33m                     \u001b[0mretval_\u001b[0m \u001b[1;33m=\u001b[0m \u001b[0mag__\u001b[0m\u001b[1;33m.\u001b[0m\u001b[0mconverted_call\u001b[0m\u001b[1;33m(\u001b[0m\u001b[0mag__\u001b[0m\u001b[1;33m.\u001b[0m\u001b[0mld\u001b[0m\u001b[1;33m(\u001b[0m\u001b[0mstep_function\u001b[0m\u001b[1;33m)\u001b[0m\u001b[1;33m,\u001b[0m \u001b[1;33m(\u001b[0m\u001b[0mag__\u001b[0m\u001b[1;33m.\u001b[0m\u001b[0mld\u001b[0m\u001b[1;33m(\u001b[0m\u001b[0mself\u001b[0m\u001b[1;33m)\u001b[0m\u001b[1;33m,\u001b[0m \u001b[0mag__\u001b[0m\u001b[1;33m.\u001b[0m\u001b[0mld\u001b[0m\u001b[1;33m(\u001b[0m\u001b[0miterator\u001b[0m\u001b[1;33m)\u001b[0m\u001b[1;33m)\u001b[0m\u001b[1;33m,\u001b[0m \u001b[1;32mNone\u001b[0m\u001b[1;33m,\u001b[0m \u001b[0mfscope\u001b[0m\u001b[1;33m)\u001b[0m\u001b[1;33m\u001b[0m\u001b[1;33m\u001b[0m\u001b[0m\n\u001b[0m\u001b[0;32m     16\u001b[0m                 \u001b[1;32mexcept\u001b[0m\u001b[1;33m:\u001b[0m\u001b[1;33m\u001b[0m\u001b[1;33m\u001b[0m\u001b[0m\n\u001b[0;32m     17\u001b[0m                     \u001b[0mdo_return\u001b[0m \u001b[1;33m=\u001b[0m \u001b[1;32mFalse\u001b[0m\u001b[1;33m\u001b[0m\u001b[1;33m\u001b[0m\u001b[0m\n",
      "\u001b[1;31mValueError\u001b[0m: in user code:\n\n    File \"C:\\Users\\Pawan\\anaconda3\\lib\\site-packages\\keras\\engine\\training.py\", line 1284, in train_function  *\n        return step_function(self, iterator)\n    File \"C:\\Users\\Pawan\\anaconda3\\lib\\site-packages\\keras\\engine\\training.py\", line 1268, in step_function  **\n        outputs = model.distribute_strategy.run(run_step, args=(data,))\n    File \"C:\\Users\\Pawan\\anaconda3\\lib\\site-packages\\keras\\engine\\training.py\", line 1249, in run_step  **\n        outputs = model.train_step(data)\n    File \"C:\\Users\\Pawan\\anaconda3\\lib\\site-packages\\keras\\engine\\training.py\", line 1050, in train_step\n        y_pred = self(x, training=True)\n    File \"C:\\Users\\Pawan\\anaconda3\\lib\\site-packages\\keras\\utils\\traceback_utils.py\", line 70, in error_handler\n        raise e.with_traceback(filtered_tb) from None\n    File \"C:\\Users\\Pawan\\anaconda3\\lib\\site-packages\\keras\\engine\\input_spec.py\", line 298, in assert_input_compatibility\n        raise ValueError(\n\n    ValueError: Input 0 of layer \"sequential_8\" is incompatible with the layer: expected shape=(None, 5), found shape=(None, 6)\n"
     ]
    }
   ],
   "source": [
    "y2_train= to_categorical(y_train)\n",
    "y2_train=y2_train[:,1:]\n",
    "y2_test=to_categorical(y_test)\n",
    "model = Sequential()\n",
    "\n",
    "# Add the input layer and the first hidden layer\n",
    "model.add(Dense(32, input_dim=5, activation='relu'))\n",
    "\n",
    "# Add the output layer\n",
    "model.add(Dense(5, activation='softmax'))\n",
    "\n",
    "# Compile the model\n",
    "model.compile(loss='categorical_crossentropy', optimizer='adam', metrics=['accuracy'])\n",
    "\n",
    "# Train the model\n",
    "model.fit(X_train, y2_train, epochs=32, batch_size=16)\n",
    "\n",
    "# Once the model is trained, you can use it for predictions\n",
    "# Assuming X_test is your test data\n",
    "# y_pred = model.predict(X_test)\n",
    "\n",
    "\n",
    "\n",
    "\n"
   ]
  },
  {
   "cell_type": "code",
   "execution_count": null,
   "metadata": {},
   "outputs": [],
   "source": [
    "y2_test=y2_test[:,1:]"
   ]
  },
  {
   "cell_type": "code",
   "execution_count": null,
   "metadata": {},
   "outputs": [],
   "source": [
    "\n",
    "\n",
    "### Predictions\n",
    "pred_train=np.argmax(model.predict(X_train),axis=1)+1\n",
    "pred_train"
   ]
  },
  {
   "cell_type": "code",
   "execution_count": null,
   "metadata": {},
   "outputs": [],
   "source": [
    "pred_test=np.argmax(model.predict(X_test),axis=1)+1\n",
    "print(classification_report(y_test,pred_test))"
   ]
  },
  {
   "cell_type": "code",
   "execution_count": null,
   "metadata": {},
   "outputs": [],
   "source": [
    "print(classification_report(y_train,pred_train))"
   ]
  },
  {
   "cell_type": "code",
   "execution_count": null,
   "metadata": {},
   "outputs": [],
   "source": [
    "####### on 3 levels\n",
    "y11_train=to_categorical(y1_train)\n",
    "y11_test=to_categorical(y1_test)\n",
    "\n",
    "y11_train=y11_train[:,1:]\n",
    "y11_test=y11_test[:,1:]\n",
    "\n",
    "# Add the input layer and the first hidden layer\n",
    "model.add(Dense(32, input_dim=5, activation='relu'))\n",
    "\n",
    "# Add the output layer\n",
    "model.add(Dense(3, activation='softmax'))\n",
    "\n",
    "# Compile the model\n",
    "model.compile(loss='categorical_crossentropy', optimizer='adam', metrics=['accuracy'])\n",
    "\n",
    "# Train the model\n",
    "\n",
    "model.fit(X_train, y11_train, epochs=32, batch_size=16)"
   ]
  },
  {
   "cell_type": "code",
   "execution_count": null,
   "metadata": {},
   "outputs": [],
   "source": [
    "pred_train=np.argmax(model.predict(X_train),axis=1)+1\n",
    "pred_test=np.argmax(model.predict(X_test),axis=1)+1"
   ]
  },
  {
   "cell_type": "code",
   "execution_count": null,
   "metadata": {},
   "outputs": [],
   "source": [
    "print(classification_report(y1_train,pred_train))\n",
    "print(\"\\n\")\n",
    "print(classification_report(y1_test,pred_test))"
   ]
  },
  {
   "cell_type": "code",
   "execution_count": null,
   "metadata": {},
   "outputs": [],
   "source": []
  },
  {
   "cell_type": "code",
   "execution_count": null,
   "metadata": {},
   "outputs": [],
   "source": []
  },
  {
   "cell_type": "code",
   "execution_count": null,
   "metadata": {},
   "outputs": [],
   "source": []
  },
  {
   "cell_type": "code",
   "execution_count": null,
   "metadata": {},
   "outputs": [],
   "source": []
  },
  {
   "cell_type": "code",
   "execution_count": null,
   "metadata": {},
   "outputs": [],
   "source": []
  }
 ],
 "metadata": {
  "accelerator": "GPU",
  "colab": {
   "gpuType": "T4",
   "provenance": []
  },
  "kernelspec": {
   "display_name": "Python 3 (ipykernel)",
   "language": "python",
   "name": "python3"
  },
  "language_info": {
   "codemirror_mode": {
    "name": "ipython",
    "version": 3
   },
   "file_extension": ".py",
   "mimetype": "text/x-python",
   "name": "python",
   "nbconvert_exporter": "python",
   "pygments_lexer": "ipython3",
   "version": "3.9.13"
  }
 },
 "nbformat": 4,
 "nbformat_minor": 1
}
